{
 "cells": [
  {
   "cell_type": "code",
   "execution_count": 159,
   "metadata": {},
   "outputs": [],
   "source": [
    "# import ira\n",
    "import pandas as pd\n",
    "import numpy as np\n",
    "import requests\n",
    "from tqdm.auto import tqdm\n",
    "\n",
    "# %alphalab dark"
   ]
  },
  {
   "cell_type": "code",
   "execution_count": 160,
   "metadata": {},
   "outputs": [],
   "source": [
    "def get_funding_rates_okex(symbol):\n",
    "    r_okex = requests.get(f'https://www.okex.com/api/swap/v3/instruments/{symbol}/historical_funding_rate?limit=1000')\n",
    "    print(r_okex.json())\n",
    "    okx = pd.DataFrame.from_dict(r_okex.json())\n",
    "    okx.funding_time = pd.DatetimeIndex(okx.funding_time)\n",
    "    okx = okx.set_index('funding_time')\n",
    "    okx = okx.astype({'funding_rate': float, 'realized_rate':float, 'interest_rate': float})\n",
    "    okx = okx.sort_index()\n",
    "    return okx"
   ]
  },
  {
   "cell_type": "code",
   "execution_count": 161,
   "metadata": {},
   "outputs": [],
   "source": [
    "def get_funding_rates_binance(symbol):\n",
    "    r_bnc = requests.get(f'https://fapi.binance.com/fapi/v1/fundingRate?symbol={symbol}&limit=1000')\n",
    "    bnc = pd.DataFrame.from_dict(r_bnc.json())\n",
    "    bnc.fundingTime = pd.to_datetime(bnc.fundingTime.values, unit='ms', utc=True)\n",
    "    bnc = bnc.set_index('fundingTime')\n",
    "    bnc = bnc.astype({'fundingRate': float})\n",
    "    bnc = bnc.sort_index().tz_localize(None)\n",
    "    # drop msecs\n",
    "    bnc.index = bnc.index.floor('1s')\n",
    "    return bnc"
   ]
  },
  {
   "cell_type": "code",
   "execution_count": 162,
   "metadata": {},
   "outputs": [],
   "source": [
    "def get_current_funding_rates_binance(symbol):\n",
    "    r_bnc = requests.get(f'https://fapi.binance.com/fapi/v1/premiumIndex?symbol={symbol}')\n",
    "    bnc = mstruct(**r_bnc.json())\n",
    "    bnc.nextFundingTime = pd.to_datetime(bnc.nextFundingTime, unit='ms')\n",
    "    bnc.time = pd.to_datetime(bnc.time, unit='ms')\n",
    "    bnc.lastFundingRate = float(bnc.lastFundingRate)\n",
    "    bnc.interestRate = float(bnc.interestRate)\n",
    "    return bnc"
   ]
  },
  {
   "cell_type": "code",
   "execution_count": 163,
   "metadata": {},
   "outputs": [],
   "source": [
    "fr0 = get_funding_rates_binance('BTCUSDT')"
   ]
  },
  {
   "cell_type": "code",
   "execution_count": 164,
   "metadata": {},
   "outputs": [
    {
     "data": {
      "text/html": [
       "<div>\n",
       "<style scoped>\n",
       "    .dataframe tbody tr th:only-of-type {\n",
       "        vertical-align: middle;\n",
       "    }\n",
       "\n",
       "    .dataframe tbody tr th {\n",
       "        vertical-align: top;\n",
       "    }\n",
       "\n",
       "    .dataframe thead th {\n",
       "        text-align: right;\n",
       "    }\n",
       "</style>\n",
       "<table border=\"1\" class=\"dataframe\">\n",
       "  <thead>\n",
       "    <tr style=\"text-align: right;\">\n",
       "      <th></th>\n",
       "      <th>symbol</th>\n",
       "      <th>fundingRate</th>\n",
       "    </tr>\n",
       "    <tr>\n",
       "      <th>fundingTime</th>\n",
       "      <th></th>\n",
       "      <th></th>\n",
       "    </tr>\n",
       "  </thead>\n",
       "  <tbody>\n",
       "    <tr>\n",
       "      <th>2021-07-19 08:00:00</th>\n",
       "      <td>BTCUSDT</td>\n",
       "      <td>0.000032</td>\n",
       "    </tr>\n",
       "    <tr>\n",
       "      <th>2021-07-19 16:00:00</th>\n",
       "      <td>BTCUSDT</td>\n",
       "      <td>-0.000012</td>\n",
       "    </tr>\n",
       "    <tr>\n",
       "      <th>2021-07-20 00:00:00</th>\n",
       "      <td>BTCUSDT</td>\n",
       "      <td>-0.000157</td>\n",
       "    </tr>\n",
       "    <tr>\n",
       "      <th>2021-07-20 08:00:00</th>\n",
       "      <td>BTCUSDT</td>\n",
       "      <td>-0.000126</td>\n",
       "    </tr>\n",
       "    <tr>\n",
       "      <th>2021-07-20 16:00:00</th>\n",
       "      <td>BTCUSDT</td>\n",
       "      <td>-0.000189</td>\n",
       "    </tr>\n",
       "    <tr>\n",
       "      <th>...</th>\n",
       "      <td>...</td>\n",
       "      <td>...</td>\n",
       "    </tr>\n",
       "    <tr>\n",
       "      <th>2022-06-16 00:00:00</th>\n",
       "      <td>BTCUSDT</td>\n",
       "      <td>-0.000041</td>\n",
       "    </tr>\n",
       "    <tr>\n",
       "      <th>2022-06-16 08:00:00</th>\n",
       "      <td>BTCUSDT</td>\n",
       "      <td>0.000045</td>\n",
       "    </tr>\n",
       "    <tr>\n",
       "      <th>2022-06-16 16:00:00</th>\n",
       "      <td>BTCUSDT</td>\n",
       "      <td>-0.000053</td>\n",
       "    </tr>\n",
       "    <tr>\n",
       "      <th>2022-06-17 00:00:00</th>\n",
       "      <td>BTCUSDT</td>\n",
       "      <td>-0.000022</td>\n",
       "    </tr>\n",
       "    <tr>\n",
       "      <th>2022-06-17 08:00:00</th>\n",
       "      <td>BTCUSDT</td>\n",
       "      <td>-0.000095</td>\n",
       "    </tr>\n",
       "  </tbody>\n",
       "</table>\n",
       "<p>1000 rows × 2 columns</p>\n",
       "</div>"
      ],
      "text/plain": [
       "                      symbol  fundingRate\n",
       "fundingTime                              \n",
       "2021-07-19 08:00:00  BTCUSDT     0.000032\n",
       "2021-07-19 16:00:00  BTCUSDT    -0.000012\n",
       "2021-07-20 00:00:00  BTCUSDT    -0.000157\n",
       "2021-07-20 08:00:00  BTCUSDT    -0.000126\n",
       "2021-07-20 16:00:00  BTCUSDT    -0.000189\n",
       "...                      ...          ...\n",
       "2022-06-16 00:00:00  BTCUSDT    -0.000041\n",
       "2022-06-16 08:00:00  BTCUSDT     0.000045\n",
       "2022-06-16 16:00:00  BTCUSDT    -0.000053\n",
       "2022-06-17 00:00:00  BTCUSDT    -0.000022\n",
       "2022-06-17 08:00:00  BTCUSDT    -0.000095\n",
       "\n",
       "[1000 rows x 2 columns]"
      ]
     },
     "execution_count": 164,
     "metadata": {},
     "output_type": "execute_result"
    }
   ],
   "source": [
    "fr0"
   ]
  },
  {
   "cell_type": "code",
   "execution_count": 165,
   "metadata": {},
   "outputs": [
    {
     "data": {
      "text/plain": [
       "[<matplotlib.lines.Line2D at 0x7fa0bf4d4358>]"
      ]
     },
     "execution_count": 165,
     "metadata": {},
     "output_type": "execute_result"
    },
    {
     "data": {
      "image/png": "[encoded data removed]",
      "text/plain": [
       "<Figure size 640x400 with 1 Axes>"
      ]
     },
     "metadata": {},
     "output_type": "display_data"
    }
   ],
   "source": [
    "plt.plot(100*get_funding_rates_binance('BTCUSDT').fundingRate)"
   ]
  },
  {
   "cell_type": "code",
   "execution_count": 166,
   "metadata": {},
   "outputs": [],
   "source": [
    "symbols = [\n",
    "    '1000SHIBUSDT', '1000XECUSDT', '1INCHUSDT', 'AAVEUSDT', 'ADAUSDT', 'AKROUSDT',\n",
    "    'ALGOUSDT', 'ALICEUSDT', 'ALPHAUSDT', 'ANKRUSDT', 'ANTUSDT', 'APEUSDT',\n",
    "    'API3USDT', 'ARUSDT', 'ARPAUSDT', 'ATAUSDT', 'ATOMUSDT', 'AUDIOUSDT', 'AVAXUSDT',\n",
    "    'AXSUSDT', 'BAKEUSDT', 'BALUSDT', 'BANDUSDT', 'BATUSDT', 'BCHUSDT', 'BELUSDT',\n",
    "    'BLZUSDT', 'BNBUSDT', 'BNXUSDT', 'BTCUSDT', 'BTSUSDT', 'C98USDT', 'CELOUSDT', 'CELRUSDT',\n",
    "    'CHRUSDT', 'CHZUSDT', 'COMPUSDT', 'COTIUSDT', 'CRVUSDT', 'CTKUSDT', 'CTSIUSDT', 'CVCUSDT',\n",
    "    'DARUSDT', 'DASHUSDT', 'DEFIUSDT', 'DENTUSDT', 'DGBUSDT', 'DODOUSDT', 'DOGEUSDT', 'DOTUSDT',\n",
    "    'DUSKUSDT', 'DYDXUSDT', 'EGLDUSDT', 'ENJUSDT', 'ENSUSDT', 'EOSUSDT', 'ETCUSDT', 'ETHUSDT',\n",
    "    'FILUSDT', 'FLMUSDT', 'FLOWUSDT', 'FTMUSDT', 'FTTUSDT', 'GALUSDT', 'GALAUSDT',\n",
    "    'GMTUSDT', 'GRTUSDT', 'GTCUSDT', 'HBARUSDT', 'HNTUSDT', 'HOTUSDT', 'ICPUSDT', 'ICXUSDT',\n",
    "    'IMXUSDT', 'IOSTUSDT', 'IOTAUSDT', 'IOTXUSDT', 'JASMYUSDT', 'KAVAUSDT', 'KLAYUSDT', 'KNCUSDT',\n",
    "    'KSMUSDT', 'LINAUSDT', 'LINKUSDT', 'LITUSDT', 'LPTUSDT', 'LRCUSDT', 'LTCUSDT', 'MANAUSDT', 'MASKUSDT',\n",
    "    'MATICUSDT', 'MKRUSDT', 'MTLUSDT', 'NEARUSDT', 'NEOUSDT', 'NKNUSDT', 'OCEANUSDT', 'OGNUSDT', 'OMGUSDT',\n",
    "    'ONEUSDT', 'ONTUSDT', 'PEOPLEUSDT', 'QTUMUSDT', 'RAYUSDT', 'REEFUSDT', 'RENUSDT', 'RLCUSDT', 'ROSEUSDT',\n",
    "    'RSRUSDT', 'RUNEUSDT', 'RVNUSDT', 'SANDUSDT', 'SCUSDT', 'SFPUSDT', 'SKLUSDT', 'SNXUSDT', 'SOLUSDT',\n",
    "    'SRMUSDT', 'STMXUSDT', 'STORJUSDT', 'SUSHIUSDT', 'SXPUSDT', 'THETAUSDT', 'TLMUSDT', 'TOMOUSDT', 'TRBUSDT',\n",
    "    'TRXUSDT', 'UNFIUSDT', 'UNIUSDT', 'VETUSDT', 'WAVESUSDT', 'WOOUSDT', 'XEMUSDT', 'XLMUSDT',\n",
    "    'XMRUSDT', 'XRPUSDT', 'XTZUSDT', 'YFIUSDT', 'ZECUSDT', 'ZENUSDT', 'ZILUSDT', 'ZRXUSDT'\n",
    "]"
   ]
  },
  {
   "cell_type": "code",
   "execution_count": 167,
   "metadata": {},
   "outputs": [],
   "source": [
    "def collect_historical_funding_rates(symbols):\n",
    "    res = None\n",
    "    for s in tqdm(symbols):\n",
    "        fr = get_funding_rates_binance(s)\n",
    "        res = pd.concat((res, fr.fundingRate.rename(s)), axis=1)\n",
    "    return res"
   ]
  },
  {
   "cell_type": "markdown",
   "metadata": {},
   "source": [
    "Collect historical rates"
   ]
  },
  {
   "cell_type": "code",
   "execution_count": 89,
   "metadata": {},
   "outputs": [
    {
     "data": {
      "application/vnd.jupyter.widget-view+json": {
       "model_id": "2b22179deb844709a022bfcaf07eca98",
       "version_major": 2,
       "version_minor": 0
      },
      "text/plain": [
       "HBox(children=(HTML(value=''), FloatProgress(value=0.0, max=142.0), HTML(value='')))"
      ]
     },
     "metadata": {},
     "output_type": "display_data"
    },
    {
     "name": "stdout",
     "output_type": "stream",
     "text": [
      "\n"
     ]
    }
   ],
   "source": [
    "rates = collect_historical_funding_rates(symbols)"
   ]
  },
  {
   "cell_type": "code",
   "execution_count": 168,
   "metadata": {},
   "outputs": [],
   "source": [
    "def trading_funding_rates(rates, threshold, capital_per_symbol):\n",
    "    pfl = {}\n",
    "    for s in tqdm(rates.columns.values):\n",
    "        fr = rates[s]\n",
    "        # funding rates should be at least > than transaction costs\n",
    "        trades = fr[fr > threshold]\n",
    "        pfl[f'{s}_PnL'] = capital_per_symbol * (trades - threshold)\n",
    "        pfl[f'{s}_Pos'] = pd.Series(capital_per_symbol, trades.index)\n",
    "    pfl = pd.DataFrame(pfl).fillna(0)\n",
    "    return pfl"
   ]
  },
  {
   "cell_type": "markdown",
   "metadata": {},
   "source": [
    "Based on these fees rates from Binance (https://www.binance.com/en/fee/schedule) we could estimate profitablity of this model on all perpetual futures."
   ]
  },
  {
   "cell_type": "code",
   "execution_count": 169,
   "metadata": {},
   "outputs": [
    {
     "data": {
      "application/vnd.jupyter.widget-view+json": {
       "model_id": "73b631ce3f65453a82b1ead42a89d373",
       "version_major": 2,
       "version_minor": 0
      },
      "text/plain": [
       "HBox(children=(HTML(value=''), FloatProgress(value=0.0, max=142.0), HTML(value='')))"
      ]
     },
     "metadata": {},
     "output_type": "display_data"
    },
    {
     "name": "stdout",
     "output_type": "stream",
     "text": [
      "\n"
     ]
    },
    {
     "data": {
      "application/vnd.jupyter.widget-view+json": {
       "model_id": "39e27fd08623496b84687a33808f657c",
       "version_major": 2,
       "version_minor": 0
      },
      "text/plain": [
       "HBox(children=(HTML(value=''), FloatProgress(value=0.0, max=142.0), HTML(value='')))"
      ]
     },
     "metadata": {},
     "output_type": "display_data"
    },
    {
     "name": "stdout",
     "output_type": "stream",
     "text": [
      "\n"
     ]
    }
   ],
   "source": [
    "transactions_market_orders_VIP0 = (\n",
    "    2*0.036 +     # 2 transactions on futures market (open and close) 0.036% as market taker\n",
    "    2*0.075       # 2 transactions on spot market (open and close) 0.075% as market taker\n",
    ") / 100\n",
    "\n",
    "transactions_limit_orders_VIP0 = (\n",
    "    2*0.018 +     # 2 transactions on futures market (open and close) 0.036% as market maker\n",
    "    2*0.075       # 2 transactions on spot market (open and close) 0.075% as market maker\n",
    ") / 100\n",
    "\n",
    "\n",
    "# run this for market orders entries/exits\n",
    "pfl_market_orders = trading_funding_rates(rates, transactions_market_orders_VIP0, 20_000)\n",
    "\n",
    "# run for limit orders entries/exits \n",
    "pfl_limit_orders = trading_funding_rates(rates, transactions_limit_orders_VIP0, 20_000)"
   ]
  },
  {
   "cell_type": "code",
   "execution_count": 170,
   "metadata": {},
   "outputs": [
    {
     "data": {
      "image/png": "[encoded data removed]",
      "text/plain": [
       "<Figure size 1440x480 with 1 Axes>"
      ]
     },
     "metadata": {},
     "output_type": "display_data"
    }
   ],
   "source": [
    "plt.figure(figsize=(18, 6))\n",
    "plt.plot(pfl_market_orders.filter(regex='.*_PnL').sum(axis=1).cumsum(), label='Market Orders Portfolio');\n",
    "plt.plot(pfl_limit_orders.filter(regex='.*_PnL').sum(axis=1).cumsum(), label='Limit Orders Portfolio'); \n",
    "plt.title('Funding arbitrage PnL (VIP0 - regular user)')\n",
    "plt.legend();"
   ]
  },
  {
   "cell_type": "markdown",
   "metadata": {},
   "source": [
    "It doesn't look like super profitable strategy for retail trader. What fees leves you should have to make this more attractive ? What's about VIP9"
   ]
  },
  {
   "cell_type": "code",
   "execution_count": 171,
   "metadata": {},
   "outputs": [],
   "source": [
    "transactions_market_orders_VIP9 = (\n",
    "    2*0.03 +     # 2 transactions on futures market (open and close) as market taker\n",
    "    2*0.0153     # 2 transactions on spot market (open and close)  as market taker\n",
    ") / 100\n",
    "\n",
    "transactions_limit_orders_VIP9 = (\n",
    "    2*0.015 +     # 2 transactions on futures market (open and close) as market maker\n",
    "    2*0.0         # 2 transactions on spot market (open and close) as market maker\n",
    ") / 100\n"
   ]
  },
  {
   "cell_type": "code",
   "execution_count": 172,
   "metadata": {},
   "outputs": [
    {
     "data": {
      "application/vnd.jupyter.widget-view+json": {
       "model_id": "6ac67bee4af74ded99a138c4d255b83f",
       "version_major": 2,
       "version_minor": 0
      },
      "text/plain": [
       "HBox(children=(HTML(value=''), FloatProgress(value=0.0, max=142.0), HTML(value='')))"
      ]
     },
     "metadata": {},
     "output_type": "display_data"
    },
    {
     "name": "stdout",
     "output_type": "stream",
     "text": [
      "\n"
     ]
    },
    {
     "data": {
      "application/vnd.jupyter.widget-view+json": {
       "model_id": "f8ef7dfbfa4c42578f16a5be7492164b",
       "version_major": 2,
       "version_minor": 0
      },
      "text/plain": [
       "HBox(children=(HTML(value=''), FloatProgress(value=0.0, max=142.0), HTML(value='')))"
      ]
     },
     "metadata": {},
     "output_type": "display_data"
    },
    {
     "name": "stdout",
     "output_type": "stream",
     "text": [
      "\n"
     ]
    }
   ],
   "source": [
    "# run this for market orders entries/exits\n",
    "pfl_market_orders_VIP9 = trading_funding_rates(rates, transactions_market_orders_VIP9, 20_000)\n",
    "\n",
    "# run for limit orders entries/exits \n",
    "pfl_limit_orders_VIP9 = trading_funding_rates(rates, transactions_limit_orders_VIP9, 20_000)"
   ]
  },
  {
   "cell_type": "code",
   "execution_count": 173,
   "metadata": {},
   "outputs": [
    {
     "data": {
      "image/png": "[encoded data removed]",
      "text/plain": [
       "<Figure size 1440x480 with 1 Axes>"
      ]
     },
     "metadata": {},
     "output_type": "display_data"
    }
   ],
   "source": [
    "plt.figure(figsize=(18, 6))\n",
    "plt.plot(pfl_market_orders_VIP9.filter(regex='.*_PnL').sum(axis=1).cumsum(), label='Market Orders Portfolio');\n",
    "plt.plot(pfl_limit_orders_VIP9.filter(regex='.*_PnL').sum(axis=1).cumsum(), label='Limit Orders Portfolio'); \n",
    "plt.title('Funding arbitrage PnL (VIP9 - best commissions)')\n",
    "plt.legend();"
   ]
  },
  {
   "cell_type": "code",
   "execution_count": null,
   "metadata": {},
   "outputs": [],
   "source": []
  }
 ],
 "metadata": {
  "kernelspec": {
   "display_name": "Python 3",
   "language": "python",
   "name": "python3"
  },
  "language_info": {
   "codemirror_mode": {
    "name": "ipython",
    "version": 3
   },
   "file_extension": ".py",
   "mimetype": "text/x-python",
   "name": "python",
   "nbconvert_exporter": "python",
   "pygments_lexer": "ipython3",
   "version": "3.6.9"
  },
  "widgets": {
   "application/vnd.jupyter.widget-state+json": {
    "state": {
     "008320df0ba949369886bcee295f83d3": {
      "model_module": "@jupyter-widgets/controls",
      "model_module_version": "1.5.0",
      "model_name": "HTMLModel",
      "state": {
       "layout": "IPY_MODEL_072d260779be42218b78500810c9fb6f",
       "style": "IPY_MODEL_0eb21fa777d445fa93f053c93a16bdea",
       "value": " 142/142 [00:01&lt;00:00, 138.32it/s]"
      }
     },
     "00d0e9959ed74d22a12a398f4350655c": {
      "model_module": "@jupyter-widgets/base",
      "model_module_version": "1.2.0",
      "model_name": "LayoutModel",
      "state": {}
     },
     "010dcde31d24437fb16cf9a3de83cf1a": {
      "model_module": "@jupyter-widgets/controls",
      "model_module_version": "1.5.0",
      "model_name": "DescriptionStyleModel",
      "state": {
       "description_width": ""
      }
     },
     "01152ae144e14c3b96b2226da58cbe46": {
      "model_module": "@jupyter-widgets/controls",
      "model_module_version": "1.5.0",
      "model_name": "ProgressStyleModel",
      "state": {
       "description_width": ""
      }
     },
     "024471d6afd24861bea46784e0967fe2": {
      "model_module": "@jupyter-widgets/controls",
      "model_module_version": "1.5.0",
      "model_name": "HBoxModel",
      "state": {
       "children": [
        "IPY_MODEL_2167e35f6efa4298aa8cf0965fd8afa4",
        "IPY_MODEL_0b9b9ed115204004896f730d37a1c455",
        "IPY_MODEL_c632cc4fe25d424fadc3e0b4cf469aa2"
       ],
       "layout": "IPY_MODEL_59fba031c7ba452a865ae9da851933ac"
      }
     },
     "02e17f2b80354404b61f184bf598574f": {
      "model_module": "@jupyter-widgets/base",
      "model_module_version": "1.2.0",
      "model_name": "LayoutModel",
      "state": {}
     },
     "0356eced61424d23872a867aa62e955d": {
      "model_module": "@jupyter-widgets/controls",
      "model_module_version": "1.5.0",
      "model_name": "HTMLModel",
      "state": {
       "layout": "IPY_MODEL_dd510447831b4a348484b461b4310c10",
       "style": "IPY_MODEL_20846bb6f9284e77ae7b5835131fec79",
       "value": " 142/142 [21:44&lt;00:00,  9.18s/it]"
      }
     },
     "03a9509924414e408e598c4ab1e9c00c": {
      "model_module": "@jupyter-widgets/controls",
      "model_module_version": "1.5.0",
      "model_name": "DescriptionStyleModel",
      "state": {
       "description_width": ""
      }
     },
     "04255845f8c14e129611f45a8ee6289f": {
      "model_module": "@jupyter-widgets/controls",
      "model_module_version": "1.5.0",
      "model_name": "ProgressStyleModel",
      "state": {
       "description_width": ""
      }
     },
     "046b2a0ca0d040c9a76acb11838bb875": {
      "model_module": "@jupyter-widgets/controls",
      "model_module_version": "1.5.0",
      "model_name": "HBoxModel",
      "state": {
       "children": [
        "IPY_MODEL_2f836038946b486eadb6758934407758",
        "IPY_MODEL_2095bc87ec704492b0b16ccc4c3ae5e2",
        "IPY_MODEL_4b2e411242a84931b7e642461c643eb7"
       ],
       "layout": "IPY_MODEL_3a84b38348b941038bf0ad95871eb8c3"
      }
     },
     "057d4c238df246bcb5e9be4880054e61": {
      "model_module": "@jupyter-widgets/base",
      "model_module_version": "1.2.0",
      "model_name": "LayoutModel",
      "state": {}
     },
     "072d260779be42218b78500810c9fb6f": {
      "model_module": "@jupyter-widgets/base",
      "model_module_version": "1.2.0",
      "model_name": "LayoutModel",
      "state": {}
     },
     "0858004961074c71b9b64b52b2fd427b": {
      "model_module": "@jupyter-widgets/controls",
      "model_module_version": "1.5.0",
      "model_name": "FloatProgressModel",
      "state": {
       "bar_style": "success",
       "layout": "IPY_MODEL_aabfd0c5a0bc4fb8a452d4de60406c40",
       "max": 142,
       "style": "IPY_MODEL_04255845f8c14e129611f45a8ee6289f",
       "value": 142
      }
     },
     "08a934ee0bed45efb43bf0742a197cf2": {
      "model_module": "@jupyter-widgets/base",
      "model_module_version": "1.2.0",
      "model_name": "LayoutModel",
      "state": {}
     },
     "090e011a7b1746038f89b70402f9c496": {
      "model_module": "@jupyter-widgets/base",
      "model_module_version": "1.2.0",
      "model_name": "LayoutModel",
      "state": {}
     },
     "0b9b9ed115204004896f730d37a1c455": {
      "model_module": "@jupyter-widgets/controls",
      "model_module_version": "1.5.0",
      "model_name": "FloatProgressModel",
      "state": {
       "bar_style": "danger",
       "layout": "IPY_MODEL_a285b0ba9b724768abffa9b939d82d78",
       "max": 142,
       "style": "IPY_MODEL_5bb1b98138424731843448cbda61bff4"
      }
     },
     "0baee2569d1e4b50b798666eb391f025": {
      "model_module": "@jupyter-widgets/controls",
      "model_module_version": "1.5.0",
      "model_name": "HBoxModel",
      "state": {
       "children": [
        "IPY_MODEL_e63b408d545e4c3c8148af6f3dfa4f8a",
        "IPY_MODEL_c2696c10cf944f709f19e233a2b0cf8d",
        "IPY_MODEL_e2a71ccdc2104da4b3c839d8fa602718"
       ],
       "layout": "IPY_MODEL_be778ffbd38e443f8e1520d4b5d7ca33"
      }
     },
     "0bea446a09f54c70b19d8204deeab7df": {
      "model_module": "@jupyter-widgets/controls",
      "model_module_version": "1.5.0",
      "model_name": "FloatProgressModel",
      "state": {
       "bar_style": "success",
       "layout": "IPY_MODEL_1dd4d2b6285645fa9799d434d9da2e99",
       "max": 142,
       "style": "IPY_MODEL_fef4a52df1cb4c0c828dbf4c9311a758",
       "value": 142
      }
     },
     "0c048faa146d469e857303b9867e89ca": {
      "model_module": "@jupyter-widgets/controls",
      "model_module_version": "1.5.0",
      "model_name": "DescriptionStyleModel",
      "state": {
       "description_width": ""
      }
     },
     "0cd6b46f442b46d88332607118270c5c": {
      "model_module": "@jupyter-widgets/controls",
      "model_module_version": "1.5.0",
      "model_name": "HTMLModel",
      "state": {
       "layout": "IPY_MODEL_e4d35bda17764bb6a018cc94b23f291b",
       "style": "IPY_MODEL_b7c7a7a6b84446d2804d511d011b6ba4",
       "value": " 142/142 [00:00&lt;00:00, 489.85it/s]"
      }
     },
     "0eb21fa777d445fa93f053c93a16bdea": {
      "model_module": "@jupyter-widgets/controls",
      "model_module_version": "1.5.0",
      "model_name": "DescriptionStyleModel",
      "state": {
       "description_width": ""
      }
     },
     "0f14bdfe35204433922b13949858042b": {
      "model_module": "@jupyter-widgets/controls",
      "model_module_version": "1.5.0",
      "model_name": "HTMLModel",
      "state": {
       "layout": "IPY_MODEL_f0ffc274db7e49f198eba07dd9223dfe",
       "style": "IPY_MODEL_d39b5508be4345c2b6a3752423ad1f87",
       "value": "100%"
      }
     },
     "0f1df0b5b7824ec6a0200f54d7bd12b4": {
      "model_module": "@jupyter-widgets/controls",
      "model_module_version": "1.5.0",
      "model_name": "DescriptionStyleModel",
      "state": {
       "description_width": ""
      }
     },
     "0f295b9d083f41b38ce47a785dfe685f": {
      "model_module": "@jupyter-widgets/controls",
      "model_module_version": "1.5.0",
      "model_name": "ProgressStyleModel",
      "state": {
       "description_width": ""
      }
     },
     "103a25e70e844ddebc70a6868135fc34": {
      "model_module": "@jupyter-widgets/controls",
      "model_module_version": "1.5.0",
      "model_name": "FloatProgressModel",
      "state": {
       "bar_style": "success",
       "layout": "IPY_MODEL_2a0258f3dd56499e95d1788cd98a950e",
       "max": 142,
       "style": "IPY_MODEL_cfdd0d83777547cf80470b6cca1c54fc",
       "value": 142
      }
     },
     "10f57170da344fa8a5f4c5a6ef24ff03": {
      "model_module": "@jupyter-widgets/controls",
      "model_module_version": "1.5.0",
      "model_name": "DescriptionStyleModel",
      "state": {
       "description_width": ""
      }
     },
     "112ea78c303a4feb912397179897cf87": {
      "model_module": "@jupyter-widgets/base",
      "model_module_version": "1.2.0",
      "model_name": "LayoutModel",
      "state": {}
     },
     "117e549f31c4461192569546d76db7de": {
      "model_module": "@jupyter-widgets/controls",
      "model_module_version": "1.5.0",
      "model_name": "FloatProgressModel",
      "state": {
       "bar_style": "success",
       "layout": "IPY_MODEL_95201e6389364d58875ebe54c6f1d865",
       "max": 142,
       "style": "IPY_MODEL_636de7f7647e4576b2c87df17e652201",
       "value": 142
      }
     },
     "11fb821acdde448396dfa6275b8a9498": {
      "model_module": "@jupyter-widgets/controls",
      "model_module_version": "1.5.0",
      "model_name": "DescriptionStyleModel",
      "state": {
       "description_width": ""
      }
     },
     "1383252fd28240709a9643e429b3d18f": {
      "model_module": "@jupyter-widgets/base",
      "model_module_version": "1.2.0",
      "model_name": "LayoutModel",
      "state": {}
     },
     "13fc1eb2fa9847dab8a1282b75bced9c": {
      "model_module": "@jupyter-widgets/base",
      "model_module_version": "1.2.0",
      "model_name": "LayoutModel",
      "state": {}
     },
     "164a6510251b40e5852611986d6d1923": {
      "model_module": "@jupyter-widgets/base",
      "model_module_version": "1.2.0",
      "model_name": "LayoutModel",
      "state": {}
     },
     "167c966feb4b40cda75f7a7d0bfcb898": {
      "model_module": "@jupyter-widgets/controls",
      "model_module_version": "1.5.0",
      "model_name": "HTMLModel",
      "state": {
       "layout": "IPY_MODEL_20c8ae50c43b460fa9d26b29a824e5a6",
       "style": "IPY_MODEL_18a9e9b1cd3c4af1a4019536d84307d7",
       "value": "100%"
      }
     },
     "16dcbdbf3834401dbbc1f7cfb291305d": {
      "model_module": "@jupyter-widgets/base",
      "model_module_version": "1.2.0",
      "model_name": "LayoutModel",
      "state": {}
     },
     "18a9e9b1cd3c4af1a4019536d84307d7": {
      "model_module": "@jupyter-widgets/controls",
      "model_module_version": "1.5.0",
      "model_name": "DescriptionStyleModel",
      "state": {
       "description_width": ""
      }
     },
     "1974a3a74d76493fb54c75cf88ebfc95": {
      "model_module": "@jupyter-widgets/base",
      "model_module_version": "1.2.0",
      "model_name": "LayoutModel",
      "state": {}
     },
     "19e4ff7e60f9422c857f40f619710f7a": {
      "model_module": "@jupyter-widgets/base",
      "model_module_version": "1.2.0",
      "model_name": "LayoutModel",
      "state": {}
     },
     "1a6c8d19cf49420989bd8732158864fe": {
      "model_module": "@jupyter-widgets/base",
      "model_module_version": "1.2.0",
      "model_name": "LayoutModel",
      "state": {}
     },
     "1bd17a7cee7b4f97873c72e5c7e6f0a4": {
      "model_module": "@jupyter-widgets/base",
      "model_module_version": "1.2.0",
      "model_name": "LayoutModel",
      "state": {}
     },
     "1dd4d2b6285645fa9799d434d9da2e99": {
      "model_module": "@jupyter-widgets/base",
      "model_module_version": "1.2.0",
      "model_name": "LayoutModel",
      "state": {}
     },
     "1e1ee58fd18c41518f19b06a5f40fd32": {
      "model_module": "@jupyter-widgets/controls",
      "model_module_version": "1.5.0",
      "model_name": "HTMLModel",
      "state": {
       "layout": "IPY_MODEL_77605ed6f57447c899fc09b4a46bb441",
       "style": "IPY_MODEL_e3ab5fedf20e41bda3d5885b98b32768",
       "value": " 142/142 [09:37&lt;00:00,  4.07s/it]"
      }
     },
     "1f3909b9dadc43b0865fdc051c03d811": {
      "model_module": "@jupyter-widgets/base",
      "model_module_version": "1.2.0",
      "model_name": "LayoutModel",
      "state": {}
     },
     "1f6b94c6377a4593a0551801ab129c3c": {
      "model_module": "@jupyter-widgets/controls",
      "model_module_version": "1.5.0",
      "model_name": "ProgressStyleModel",
      "state": {
       "description_width": ""
      }
     },
     "20846bb6f9284e77ae7b5835131fec79": {
      "model_module": "@jupyter-widgets/controls",
      "model_module_version": "1.5.0",
      "model_name": "DescriptionStyleModel",
      "state": {
       "description_width": ""
      }
     },
     "2095bc87ec704492b0b16ccc4c3ae5e2": {
      "model_module": "@jupyter-widgets/controls",
      "model_module_version": "1.5.0",
      "model_name": "FloatProgressModel",
      "state": {
       "bar_style": "success",
       "layout": "IPY_MODEL_36e5f3633a3b4383b86beb1f1736cce6",
       "max": 142,
       "style": "IPY_MODEL_5d5baa0c66e742de93252e9c85cd7b25",
       "value": 142
      }
     },
     "20c8ae50c43b460fa9d26b29a824e5a6": {
      "model_module": "@jupyter-widgets/base",
      "model_module_version": "1.2.0",
      "model_name": "LayoutModel",
      "state": {}
     },
     "2167e35f6efa4298aa8cf0965fd8afa4": {
      "model_module": "@jupyter-widgets/controls",
      "model_module_version": "1.5.0",
      "model_name": "HTMLModel",
      "state": {
       "layout": "IPY_MODEL_260a0319e12f4a58b0683b6facf0225d",
       "style": "IPY_MODEL_6bfb1d6970384174882f7585f6d94149",
       "value": "  0%"
      }
     },
     "231509e1e9e94308bbcd9a911150fc9d": {
      "model_module": "@jupyter-widgets/base",
      "model_module_version": "1.2.0",
      "model_name": "LayoutModel",
      "state": {}
     },
     "233a62b785be4292b5740c1e5074f9d9": {
      "model_module": "@jupyter-widgets/controls",
      "model_module_version": "1.5.0",
      "model_name": "HBoxModel",
      "state": {
       "children": [
        "IPY_MODEL_33c1edf967be4fa6a61c9c562f702628",
        "IPY_MODEL_679dbb516a6d4c97a46b2b37ed325a5d",
        "IPY_MODEL_008320df0ba949369886bcee295f83d3"
       ],
       "layout": "IPY_MODEL_1974a3a74d76493fb54c75cf88ebfc95"
      }
     },
     "23a4ada32da44d3f9aa899ae3f038b72": {
      "model_module": "@jupyter-widgets/controls",
      "model_module_version": "1.5.0",
      "model_name": "ProgressStyleModel",
      "state": {
       "description_width": ""
      }
     },
     "2401c268195548168a609bd49fc3a49b": {
      "model_module": "@jupyter-widgets/controls",
      "model_module_version": "1.5.0",
      "model_name": "HTMLModel",
      "state": {
       "layout": "IPY_MODEL_7af5d0252d394c41b8e42cc56a20e5d1",
       "style": "IPY_MODEL_82e5e009537e4d9da4ef9cf530546fa2",
       "value": "100%"
      }
     },
     "255e396f5abe4e8caf9b1cad7972de82": {
      "model_module": "@jupyter-widgets/base",
      "model_module_version": "1.2.0",
      "model_name": "LayoutModel",
      "state": {}
     },
     "2580d55689e9472ca790f7f8b894f1a7": {
      "model_module": "@jupyter-widgets/base",
      "model_module_version": "1.2.0",
      "model_name": "LayoutModel",
      "state": {}
     },
     "260a0319e12f4a58b0683b6facf0225d": {
      "model_module": "@jupyter-widgets/base",
      "model_module_version": "1.2.0",
      "model_name": "LayoutModel",
      "state": {}
     },
     "271a18b62c1944eb9de019a63de548db": {
      "model_module": "@jupyter-widgets/base",
      "model_module_version": "1.2.0",
      "model_name": "LayoutModel",
      "state": {}
     },
     "2748c30181ce41ceb50e2fd30b14f1f0": {
      "model_module": "@jupyter-widgets/base",
      "model_module_version": "1.2.0",
      "model_name": "LayoutModel",
      "state": {}
     },
     "27a6deeaa41c438b9d8cb7637ee7a547": {
      "model_module": "@jupyter-widgets/controls",
      "model_module_version": "1.5.0",
      "model_name": "FloatProgressModel",
      "state": {
       "bar_style": "success",
       "layout": "IPY_MODEL_2a3dcecfa504402da768fcbb224df236",
       "max": 142,
       "style": "IPY_MODEL_5875711e0b1d40ea8184362c9e15238a",
       "value": 142
      }
     },
     "27c9fe6ec59e4f64a7511bebaade1453": {
      "model_module": "@jupyter-widgets/controls",
      "model_module_version": "1.5.0",
      "model_name": "HBoxModel",
      "state": {
       "children": [
        "IPY_MODEL_a2bb946ee6f74688af06bb760152ca0d",
        "IPY_MODEL_da57ac5b7ff546e0bb148141373f1f1f",
        "IPY_MODEL_ef3a77cd346540feb8b597f0ef086295"
       ],
       "layout": "IPY_MODEL_febf7a9cccb346a685d7f5b2fb9d7eb5"
      }
     },
     "28539d994a8542c08dfcaf03c96a8e5b": {
      "model_module": "@jupyter-widgets/controls",
      "model_module_version": "1.5.0",
      "model_name": "DescriptionStyleModel",
      "state": {
       "description_width": ""
      }
     },
     "2a0258f3dd56499e95d1788cd98a950e": {
      "model_module": "@jupyter-widgets/base",
      "model_module_version": "1.2.0",
      "model_name": "LayoutModel",
      "state": {}
     },
     "2a3dcecfa504402da768fcbb224df236": {
      "model_module": "@jupyter-widgets/base",
      "model_module_version": "1.2.0",
      "model_name": "LayoutModel",
      "state": {}
     },
     "2b22179deb844709a022bfcaf07eca98": {
      "model_module": "@jupyter-widgets/controls",
      "model_module_version": "1.5.0",
      "model_name": "HBoxModel",
      "state": {
       "children": [
        "IPY_MODEL_65604048c32e4829a9f3aebe25d232e2",
        "IPY_MODEL_7f97829019e249808c90e2d67770f840",
        "IPY_MODEL_0356eced61424d23872a867aa62e955d"
       ],
       "layout": "IPY_MODEL_43e8c0978c23453283fc2a8549e2d7c1"
      }
     },
     "2b940bb58f184d78b99465102ad9a7b4": {
      "model_module": "@jupyter-widgets/controls",
      "model_module_version": "1.5.0",
      "model_name": "DescriptionStyleModel",
      "state": {
       "description_width": ""
      }
     },
     "2d0ec078e9da4b2fb0cd4f3c60afee8e": {
      "model_module": "@jupyter-widgets/controls",
      "model_module_version": "1.5.0",
      "model_name": "ProgressStyleModel",
      "state": {
       "description_width": ""
      }
     },
     "2d4c8e588f78474dbbbe3b585b8bb72b": {
      "model_module": "@jupyter-widgets/controls",
      "model_module_version": "1.5.0",
      "model_name": "FloatProgressModel",
      "state": {
       "bar_style": "success",
       "layout": "IPY_MODEL_a1f10d52cec04112bd19f22cceb796bb",
       "max": 142,
       "style": "IPY_MODEL_1f6b94c6377a4593a0551801ab129c3c",
       "value": 142
      }
     },
     "2f836038946b486eadb6758934407758": {
      "model_module": "@jupyter-widgets/controls",
      "model_module_version": "1.5.0",
      "model_name": "HTMLModel",
      "state": {
       "layout": "IPY_MODEL_65324fb1da9844dc990b81215925b638",
       "style": "IPY_MODEL_7903679777a645b2981a5e37c21aadb6",
       "value": "100%"
      }
     },
     "30362f7622bd454195231a62ec57f496": {
      "model_module": "@jupyter-widgets/controls",
      "model_module_version": "1.5.0",
      "model_name": "HBoxModel",
      "state": {
       "children": [
        "IPY_MODEL_4663aad5fa2049349a9268b2d56bb5c5",
        "IPY_MODEL_4273f3be4b424addad6247784c293055",
        "IPY_MODEL_8144dac2608348cf92dfb20364e01ab9"
       ],
       "layout": "IPY_MODEL_429799002ccf41078c542c60ba9d1162"
      }
     },
     "30548b12083e4187951147c51db620b1": {
      "model_module": "@jupyter-widgets/controls",
      "model_module_version": "1.5.0",
      "model_name": "DescriptionStyleModel",
      "state": {
       "description_width": ""
      }
     },
     "33382e6082e34e1cbf9047ad4219369d": {
      "model_module": "@jupyter-widgets/base",
      "model_module_version": "1.2.0",
      "model_name": "LayoutModel",
      "state": {}
     },
     "33c1edf967be4fa6a61c9c562f702628": {
      "model_module": "@jupyter-widgets/controls",
      "model_module_version": "1.5.0",
      "model_name": "HTMLModel",
      "state": {
       "layout": "IPY_MODEL_02e17f2b80354404b61f184bf598574f",
       "style": "IPY_MODEL_e7fb7f94f83542e3a7d89e7af0515397",
       "value": "100%"
      }
     },
     "34758563a8ba41b9840eea2e599f20e7": {
      "model_module": "@jupyter-widgets/controls",
      "model_module_version": "1.5.0",
      "model_name": "HTMLModel",
      "state": {
       "layout": "IPY_MODEL_e5ba456bbf3e4d47934bb3a8954eedc7",
       "style": "IPY_MODEL_4917d9fb01644e3597954bbfdadc1680",
       "value": " 142/142 [13:00&lt;00:00,  5.49s/it]"
      }
     },
     "34e8a268655243cb9f8893af6c433857": {
      "model_module": "@jupyter-widgets/base",
      "model_module_version": "1.2.0",
      "model_name": "LayoutModel",
      "state": {}
     },
     "3501dfec1cf84000bfdc2944ac7072d2": {
      "model_module": "@jupyter-widgets/controls",
      "model_module_version": "1.5.0",
      "model_name": "FloatProgressModel",
      "state": {
       "bar_style": "success",
       "layout": "IPY_MODEL_08a934ee0bed45efb43bf0742a197cf2",
       "max": 142,
       "style": "IPY_MODEL_a5eeea03eed54dcaade5d2177857693c",
       "value": 142
      }
     },
     "35580a25ca904bb590d52e2b7b66087b": {
      "model_module": "@jupyter-widgets/controls",
      "model_module_version": "1.5.0",
      "model_name": "FloatProgressModel",
      "state": {
       "bar_style": "success",
       "layout": "IPY_MODEL_cbf6c82822314b7b99e44f873e58a2b2",
       "max": 142,
       "style": "IPY_MODEL_b49a1bd901284fd28dbabb3e0b98973e",
       "value": 142
      }
     },
     "35830737a7df4a8c9203f7f6d4aee613": {
      "model_module": "@jupyter-widgets/controls",
      "model_module_version": "1.5.0",
      "model_name": "HBoxModel",
      "state": {
       "children": [
        "IPY_MODEL_167c966feb4b40cda75f7a7d0bfcb898",
        "IPY_MODEL_ca5e9d377cb542de9e1998e3ffa39c6a",
        "IPY_MODEL_1e1ee58fd18c41518f19b06a5f40fd32"
       ],
       "layout": "IPY_MODEL_98f0a311568e440aa95716e54bdae64d"
      }
     },
     "36463a0c039a4a10a6f0edca5f8ff419": {
      "model_module": "@jupyter-widgets/base",
      "model_module_version": "1.2.0",
      "model_name": "LayoutModel",
      "state": {}
     },
     "36c6ea8f15764c27a8c2f22528e94ce9": {
      "model_module": "@jupyter-widgets/controls",
      "model_module_version": "1.5.0",
      "model_name": "FloatProgressModel",
      "state": {
       "bar_style": "success",
       "layout": "IPY_MODEL_ea449e55b600419ab35cb647c1c40586",
       "max": 142,
       "style": "IPY_MODEL_a37baec4b3d648d89079ccc5f5c1b2c3",
       "value": 142
      }
     },
     "36e5f3633a3b4383b86beb1f1736cce6": {
      "model_module": "@jupyter-widgets/base",
      "model_module_version": "1.2.0",
      "model_name": "LayoutModel",
      "state": {}
     },
     "36f35912b44e49fea987d3aba40d8eea": {
      "model_module": "@jupyter-widgets/base",
      "model_module_version": "1.2.0",
      "model_name": "LayoutModel",
      "state": {}
     },
     "372f4c505cee471fa98414edbbb21bb1": {
      "model_module": "@jupyter-widgets/base",
      "model_module_version": "1.2.0",
      "model_name": "LayoutModel",
      "state": {}
     },
     "37df43d8c2344155a80581d451d6e452": {
      "model_module": "@jupyter-widgets/base",
      "model_module_version": "1.2.0",
      "model_name": "LayoutModel",
      "state": {}
     },
     "37eaabeed90e49c6a6ff81f880551b5d": {
      "model_module": "@jupyter-widgets/base",
      "model_module_version": "1.2.0",
      "model_name": "LayoutModel",
      "state": {}
     },
     "3861ff1a98e34459882be1dad6d4168c": {
      "model_module": "@jupyter-widgets/base",
      "model_module_version": "1.2.0",
      "model_name": "LayoutModel",
      "state": {}
     },
     "39e27fd08623496b84687a33808f657c": {
      "model_module": "@jupyter-widgets/controls",
      "model_module_version": "1.5.0",
      "model_name": "HBoxModel",
      "state": {
       "children": [
        "IPY_MODEL_c49736ed7d5247d6b979cc9969c2e6d7",
        "IPY_MODEL_56d8a304545c40d89f2f6cadd60252a2",
        "IPY_MODEL_cc20851773fd41c4bf06d13273d1c1c8"
       ],
       "layout": "IPY_MODEL_5e11e6665ba24190a79459402ccfeeef"
      }
     },
     "3a84b38348b941038bf0ad95871eb8c3": {
      "model_module": "@jupyter-widgets/base",
      "model_module_version": "1.2.0",
      "model_name": "LayoutModel",
      "state": {}
     },
     "3d2cf1ba6831497d984b4ebe45317b74": {
      "model_module": "@jupyter-widgets/controls",
      "model_module_version": "1.5.0",
      "model_name": "HTMLModel",
      "state": {
       "layout": "IPY_MODEL_cb71306088cc4fbbbedaffe69df3476a",
       "style": "IPY_MODEL_03a9509924414e408e598c4ab1e9c00c",
       "value": " 142/142 [00:00&lt;00:00, 1304.83it/s]"
      }
     },
     "3e0ede8234a047e382a42ecf2cf99c5d": {
      "model_module": "@jupyter-widgets/controls",
      "model_module_version": "1.5.0",
      "model_name": "HTMLModel",
      "state": {
       "layout": "IPY_MODEL_a7430198e6d343a9978730ff58df8356",
       "style": "IPY_MODEL_cc756b3f0d3440d4aaeacec9d6ffeeb6",
       "value": " 142/142 [00:00&lt;00:00, 494.33it/s]"
      }
     },
     "3e44335b6bed4f1cb6138c2a00ff2ab7": {
      "model_module": "@jupyter-widgets/controls",
      "model_module_version": "1.5.0",
      "model_name": "HBoxModel",
      "state": {
       "children": [
        "IPY_MODEL_862af50677d149aaa734f70c65959d58",
        "IPY_MODEL_e1f1fd07aa7a48c1988c4ecdd2512797",
        "IPY_MODEL_a0fe26b8a6fb4d1a940777a989c3161f"
       ],
       "layout": "IPY_MODEL_583378e5ce234881afc28a5ede7b4ae3"
      }
     },
     "3ea942fd2f824a59b869bb688d1d592d": {
      "model_module": "@jupyter-widgets/controls",
      "model_module_version": "1.5.0",
      "model_name": "HBoxModel",
      "state": {
       "children": [
        "IPY_MODEL_2401c268195548168a609bd49fc3a49b",
        "IPY_MODEL_983ff7995aaa45e092d5c68a3d70dc06",
        "IPY_MODEL_7b2102bed7a04305b71b75509a3bac01"
       ],
       "layout": "IPY_MODEL_af94d51348d44cac8f87b0c8cc3dc635"
      }
     },
     "3f47da49a8d449d0a791c94e6d9d4c01": {
      "model_module": "@jupyter-widgets/controls",
      "model_module_version": "1.5.0",
      "model_name": "FloatProgressModel",
      "state": {
       "bar_style": "success",
       "layout": "IPY_MODEL_231509e1e9e94308bbcd9a911150fc9d",
       "max": 142,
       "style": "IPY_MODEL_98a019081e98470495a5d3b5324362d6",
       "value": 142
      }
     },
     "40c4c3556943454cb5d30f8173f080d3": {
      "model_module": "@jupyter-widgets/base",
      "model_module_version": "1.2.0",
      "model_name": "LayoutModel",
      "state": {}
     },
     "41915e03a93c4d41823bdb8db55f204e": {
      "model_module": "@jupyter-widgets/base",
      "model_module_version": "1.2.0",
      "model_name": "LayoutModel",
      "state": {}
     },
     "423ba774a09d4007b8143e88514f090c": {
      "model_module": "@jupyter-widgets/controls",
      "model_module_version": "1.5.0",
      "model_name": "DescriptionStyleModel",
      "state": {
       "description_width": ""
      }
     },
     "4273f3be4b424addad6247784c293055": {
      "model_module": "@jupyter-widgets/controls",
      "model_module_version": "1.5.0",
      "model_name": "FloatProgressModel",
      "state": {
       "bar_style": "success",
       "layout": "IPY_MODEL_3861ff1a98e34459882be1dad6d4168c",
       "max": 142,
       "style": "IPY_MODEL_23a4ada32da44d3f9aa899ae3f038b72",
       "value": 142
      }
     },
     "429799002ccf41078c542c60ba9d1162": {
      "model_module": "@jupyter-widgets/base",
      "model_module_version": "1.2.0",
      "model_name": "LayoutModel",
      "state": {}
     },
     "42d23cc9342346058d7e9bc2b596c492": {
      "model_module": "@jupyter-widgets/base",
      "model_module_version": "1.2.0",
      "model_name": "LayoutModel",
      "state": {}
     },
     "43e8c0978c23453283fc2a8549e2d7c1": {
      "model_module": "@jupyter-widgets/base",
      "model_module_version": "1.2.0",
      "model_name": "LayoutModel",
      "state": {}
     },
     "44afb855d5de42ddb97a1aede85eb0d8": {
      "model_module": "@jupyter-widgets/controls",
      "model_module_version": "1.5.0",
      "model_name": "DescriptionStyleModel",
      "state": {
       "description_width": ""
      }
     },
     "454c59db20d14edf977686e56f13f383": {
      "model_module": "@jupyter-widgets/base",
      "model_module_version": "1.2.0",
      "model_name": "LayoutModel",
      "state": {}
     },
     "4569845caf7e4d15832e4d90f328e214": {
      "model_module": "@jupyter-widgets/controls",
      "model_module_version": "1.5.0",
      "model_name": "DescriptionStyleModel",
      "state": {
       "description_width": ""
      }
     },
     "4663aad5fa2049349a9268b2d56bb5c5": {
      "model_module": "@jupyter-widgets/controls",
      "model_module_version": "1.5.0",
      "model_name": "HTMLModel",
      "state": {
       "layout": "IPY_MODEL_33382e6082e34e1cbf9047ad4219369d",
       "style": "IPY_MODEL_cb7866c5261d480bb50f9fde8000670a",
       "value": "100%"
      }
     },
     "47881b39aced461596b540e9a2cd1660": {
      "model_module": "@jupyter-widgets/controls",
      "model_module_version": "1.5.0",
      "model_name": "DescriptionStyleModel",
      "state": {
       "description_width": ""
      }
     },
     "485eb4f5b61a4430ae78adadf4944d62": {
      "model_module": "@jupyter-widgets/base",
      "model_module_version": "1.2.0",
      "model_name": "LayoutModel",
      "state": {}
     },
     "4917d9fb01644e3597954bbfdadc1680": {
      "model_module": "@jupyter-widgets/controls",
      "model_module_version": "1.5.0",
      "model_name": "DescriptionStyleModel",
      "state": {
       "description_width": ""
      }
     },
     "491ee601973f4fa69880fb13aa1d022d": {
      "model_module": "@jupyter-widgets/controls",
      "model_module_version": "1.5.0",
      "model_name": "HTMLModel",
      "state": {
       "layout": "IPY_MODEL_5d048c6b5e4b4560a7af48a496af8a12",
       "style": "IPY_MODEL_7fc0b0c44db74872ab07f1e3b871f597",
       "value": " 142/142 [00:01&lt;00:00, 124.57it/s]"
      }
     },
     "4a1485362bba4e77b9c45eac97517bf8": {
      "model_module": "@jupyter-widgets/base",
      "model_module_version": "1.2.0",
      "model_name": "LayoutModel",
      "state": {}
     },
     "4af6b2b1f5564b88a192df9fb4444fe4": {
      "model_module": "@jupyter-widgets/base",
      "model_module_version": "1.2.0",
      "model_name": "LayoutModel",
      "state": {}
     },
     "4b2d8bb62db54a08aa1cf1179f659d66": {
      "model_module": "@jupyter-widgets/base",
      "model_module_version": "1.2.0",
      "model_name": "LayoutModel",
      "state": {}
     },
     "4b2e411242a84931b7e642461c643eb7": {
      "model_module": "@jupyter-widgets/controls",
      "model_module_version": "1.5.0",
      "model_name": "HTMLModel",
      "state": {
       "layout": "IPY_MODEL_c07fdce7ec1a4816a8b5df1cc478de0c",
       "style": "IPY_MODEL_7cf617db006a447f8086a78f27c202ad",
       "value": " 142/142 [00:03&lt;00:00, 40.68it/s]"
      }
     },
     "4b86d5cb14e94ed0a433ba2132619a41": {
      "model_module": "@jupyter-widgets/base",
      "model_module_version": "1.2.0",
      "model_name": "LayoutModel",
      "state": {}
     },
     "4d8fbbadd60c40479b96a2774f1ecec9": {
      "model_module": "@jupyter-widgets/controls",
      "model_module_version": "1.5.0",
      "model_name": "DescriptionStyleModel",
      "state": {
       "description_width": ""
      }
     },
     "4decce78accf4d7dbd7b34dc4bf6d7e8": {
      "model_module": "@jupyter-widgets/controls",
      "model_module_version": "1.5.0",
      "model_name": "ProgressStyleModel",
      "state": {
       "description_width": ""
      }
     },
     "4e20d367fbe54385a0e4988f3ef4f02c": {
      "model_module": "@jupyter-widgets/base",
      "model_module_version": "1.2.0",
      "model_name": "LayoutModel",
      "state": {}
     },
     "4eb64aa7938947a49170c8e45d2c02ca": {
      "model_module": "@jupyter-widgets/controls",
      "model_module_version": "1.5.0",
      "model_name": "ProgressStyleModel",
      "state": {
       "description_width": ""
      }
     },
     "529859c608774b7590dd406f4c0e3bd2": {
      "model_module": "@jupyter-widgets/controls",
      "model_module_version": "1.5.0",
      "model_name": "HBoxModel",
      "state": {
       "children": [
        "IPY_MODEL_626f1c293d4047a983370fdfa16f2666",
        "IPY_MODEL_c2c27ad2247c4eabb245220987acb9b3",
        "IPY_MODEL_f2004fd4c95f4e1cb4cb78c3972658e2"
       ],
       "layout": "IPY_MODEL_34e8a268655243cb9f8893af6c433857"
      }
     },
     "54daa3c33fa444e4b4fe5e6ac535ccef": {
      "model_module": "@jupyter-widgets/controls",
      "model_module_version": "1.5.0",
      "model_name": "HTMLModel",
      "state": {
       "layout": "IPY_MODEL_1bd17a7cee7b4f97873c72e5c7e6f0a4",
       "style": "IPY_MODEL_6877b8c2a0744cc58662ff998ee12cc9",
       "value": "100%"
      }
     },
     "55ad21c0b36c400783f1a2334385a45a": {
      "model_module": "@jupyter-widgets/controls",
      "model_module_version": "1.5.0",
      "model_name": "DescriptionStyleModel",
      "state": {
       "description_width": ""
      }
     },
     "560cd2de2be04cfda9705f8581bd1473": {
      "model_module": "@jupyter-widgets/base",
      "model_module_version": "1.2.0",
      "model_name": "LayoutModel",
      "state": {}
     },
     "56d8a304545c40d89f2f6cadd60252a2": {
      "model_module": "@jupyter-widgets/controls",
      "model_module_version": "1.5.0",
      "model_name": "FloatProgressModel",
      "state": {
       "bar_style": "success",
       "layout": "IPY_MODEL_8847c9925aaf443fad554133aa1b6904",
       "max": 142,
       "style": "IPY_MODEL_b756dc4f5c0746a69487f9602b7066b1",
       "value": 142
      }
     },
     "580e223baae5421c8cdbde30e5119298": {
      "model_module": "@jupyter-widgets/base",
      "model_module_version": "1.2.0",
      "model_name": "LayoutModel",
      "state": {}
     },
     "583378e5ce234881afc28a5ede7b4ae3": {
      "model_module": "@jupyter-widgets/base",
      "model_module_version": "1.2.0",
      "model_name": "LayoutModel",
      "state": {}
     },
     "584f3eee8e8840d58453469e7b7ec1d5": {
      "model_module": "@jupyter-widgets/controls",
      "model_module_version": "1.5.0",
      "model_name": "HBoxModel",
      "state": {
       "children": [
        "IPY_MODEL_de68d329efe04ed6a0777a64d4e8cb05",
        "IPY_MODEL_bb1e2c6caaf24222a0603016daa59a18",
        "IPY_MODEL_baaa7a4d6bc24e8ba546be7ccdd3b7d1"
       ],
       "layout": "IPY_MODEL_eadb27f512d643cf9dae4599edff086d"
      }
     },
     "5875711e0b1d40ea8184362c9e15238a": {
      "model_module": "@jupyter-widgets/controls",
      "model_module_version": "1.5.0",
      "model_name": "ProgressStyleModel",
      "state": {
       "description_width": ""
      }
     },
     "5926485de83142eaac53ba4b369d93ce": {
      "model_module": "@jupyter-widgets/controls",
      "model_module_version": "1.5.0",
      "model_name": "DescriptionStyleModel",
      "state": {
       "description_width": ""
      }
     },
     "59fba031c7ba452a865ae9da851933ac": {
      "model_module": "@jupyter-widgets/base",
      "model_module_version": "1.2.0",
      "model_name": "LayoutModel",
      "state": {}
     },
     "5a0846ee35104df59300fdd4a6a6bce7": {
      "model_module": "@jupyter-widgets/controls",
      "model_module_version": "1.5.0",
      "model_name": "HTMLModel",
      "state": {
       "layout": "IPY_MODEL_2580d55689e9472ca790f7f8b894f1a7",
       "style": "IPY_MODEL_e10d882cb84e46e2b764294a12a83c53",
       "value": " 142/142 [00:06&lt;00:00, 20.50it/s]"
      }
     },
     "5ac51119241e468b8b8d10cf18e154ca": {
      "model_module": "@jupyter-widgets/base",
      "model_module_version": "1.2.0",
      "model_name": "LayoutModel",
      "state": {}
     },
     "5ad85f55dd044c0799c0e739b71920ae": {
      "model_module": "@jupyter-widgets/controls",
      "model_module_version": "1.5.0",
      "model_name": "HTMLModel",
      "state": {
       "layout": "IPY_MODEL_4b86d5cb14e94ed0a433ba2132619a41",
       "style": "IPY_MODEL_84aa42b87ac044c3b878c733ba9497ae",
       "value": " 142/142 [01:56&lt;00:00,  1.21it/s]"
      }
     },
     "5bb1b98138424731843448cbda61bff4": {
      "model_module": "@jupyter-widgets/controls",
      "model_module_version": "1.5.0",
      "model_name": "ProgressStyleModel",
      "state": {
       "description_width": ""
      }
     },
     "5c2e1743568244bb9db89c55955b5a58": {
      "model_module": "@jupyter-widgets/controls",
      "model_module_version": "1.5.0",
      "model_name": "FloatProgressModel",
      "state": {
       "bar_style": "success",
       "layout": "IPY_MODEL_8759d78396a140a1b2f26ea695fc6143",
       "max": 142,
       "style": "IPY_MODEL_eff69267a5ba4abda0fe9cb566de1c97",
       "value": 142
      }
     },
     "5c4add5c1dd64f488c7a7543bd9b261b": {
      "model_module": "@jupyter-widgets/base",
      "model_module_version": "1.2.0",
      "model_name": "LayoutModel",
      "state": {}
     },
     "5c92ea5c46674f97bd5b79bd2438d562": {
      "model_module": "@jupyter-widgets/controls",
      "model_module_version": "1.5.0",
      "model_name": "DescriptionStyleModel",
      "state": {
       "description_width": ""
      }
     },
     "5d048c6b5e4b4560a7af48a496af8a12": {
      "model_module": "@jupyter-widgets/base",
      "model_module_version": "1.2.0",
      "model_name": "LayoutModel",
      "state": {}
     },
     "5d5baa0c66e742de93252e9c85cd7b25": {
      "model_module": "@jupyter-widgets/controls",
      "model_module_version": "1.5.0",
      "model_name": "ProgressStyleModel",
      "state": {
       "description_width": ""
      }
     },
     "5e11e6665ba24190a79459402ccfeeef": {
      "model_module": "@jupyter-widgets/base",
      "model_module_version": "1.2.0",
      "model_name": "LayoutModel",
      "state": {}
     },
     "5e879d33e7ec4426a9212f37affc4506": {
      "model_module": "@jupyter-widgets/base",
      "model_module_version": "1.2.0",
      "model_name": "LayoutModel",
      "state": {}
     },
     "60239423b04d464daec2addbadd67f4f": {
      "model_module": "@jupyter-widgets/controls",
      "model_module_version": "1.5.0",
      "model_name": "HTMLModel",
      "state": {
       "layout": "IPY_MODEL_83d4fbfe2ce6456d81bb8e8e6c17534e",
       "style": "IPY_MODEL_7410b14029e545cca95bf3aff95eff2a",
       "value": "100%"
      }
     },
     "61db3ad20c1f4c5fb4443b6d7406152d": {
      "model_module": "@jupyter-widgets/base",
      "model_module_version": "1.2.0",
      "model_name": "LayoutModel",
      "state": {}
     },
     "61f7097adf4248898a949deaca415116": {
      "model_module": "@jupyter-widgets/controls",
      "model_module_version": "1.5.0",
      "model_name": "HTMLModel",
      "state": {
       "layout": "IPY_MODEL_650b1358e01e4ef0bb7ffbc5bb2f7342",
       "style": "IPY_MODEL_719d420df9ab4afa9d6324c70c2e510b",
       "value": " 142/142 [00:00&lt;00:00, 942.84it/s]"
      }
     },
     "626f1c293d4047a983370fdfa16f2666": {
      "model_module": "@jupyter-widgets/controls",
      "model_module_version": "1.5.0",
      "model_name": "HTMLModel",
      "state": {
       "layout": "IPY_MODEL_89acfb4de4814d698260f5f86a40329c",
       "style": "IPY_MODEL_30548b12083e4187951147c51db620b1",
       "value": "100%"
      }
     },
     "63317da70659409ab7abe7b22416a038": {
      "model_module": "@jupyter-widgets/base",
      "model_module_version": "1.2.0",
      "model_name": "LayoutModel",
      "state": {}
     },
     "636de7f7647e4576b2c87df17e652201": {
      "model_module": "@jupyter-widgets/controls",
      "model_module_version": "1.5.0",
      "model_name": "ProgressStyleModel",
      "state": {
       "description_width": ""
      }
     },
     "6424cf06c4524fda85d433accfb4bdbf": {
      "model_module": "@jupyter-widgets/controls",
      "model_module_version": "1.5.0",
      "model_name": "HBoxModel",
      "state": {
       "children": [
        "IPY_MODEL_f827cff533154ebd9cd5fa73ba7a2679",
        "IPY_MODEL_3f47da49a8d449d0a791c94e6d9d4c01",
        "IPY_MODEL_cac65863eed142c0af20b8935b88fb4a"
       ],
       "layout": "IPY_MODEL_6c922e168f5c4be3a1acac0473a158df"
      }
     },
     "645d6d165e7e42afb0e53cc8cf79f4c3": {
      "model_module": "@jupyter-widgets/controls",
      "model_module_version": "1.5.0",
      "model_name": "HBoxModel",
      "state": {
       "children": [
        "IPY_MODEL_e1eeac481a3f4fca8e55b25749c5a4a1",
        "IPY_MODEL_35580a25ca904bb590d52e2b7b66087b",
        "IPY_MODEL_69c517c4d8cb4136a82994e2faa37df8"
       ],
       "layout": "IPY_MODEL_6cc457ecb9e44a208bdc152600421171"
      }
     },
     "64d42e588f8d49778eb6b9fc94c50e0d": {
      "model_module": "@jupyter-widgets/base",
      "model_module_version": "1.2.0",
      "model_name": "LayoutModel",
      "state": {}
     },
     "650b1358e01e4ef0bb7ffbc5bb2f7342": {
      "model_module": "@jupyter-widgets/base",
      "model_module_version": "1.2.0",
      "model_name": "LayoutModel",
      "state": {}
     },
     "65324fb1da9844dc990b81215925b638": {
      "model_module": "@jupyter-widgets/base",
      "model_module_version": "1.2.0",
      "model_name": "LayoutModel",
      "state": {}
     },
     "65604048c32e4829a9f3aebe25d232e2": {
      "model_module": "@jupyter-widgets/controls",
      "model_module_version": "1.5.0",
      "model_name": "HTMLModel",
      "state": {
       "layout": "IPY_MODEL_41915e03a93c4d41823bdb8db55f204e",
       "style": "IPY_MODEL_9404c81aded740218006c1d2e68c9b37",
       "value": "100%"
      }
     },
     "65beb8f914c74d1b88a849b29e3bd1be": {
      "model_module": "@jupyter-widgets/controls",
      "model_module_version": "1.5.0",
      "model_name": "DescriptionStyleModel",
      "state": {
       "description_width": ""
      }
     },
     "679dbb516a6d4c97a46b2b37ed325a5d": {
      "model_module": "@jupyter-widgets/controls",
      "model_module_version": "1.5.0",
      "model_name": "FloatProgressModel",
      "state": {
       "bar_style": "success",
       "layout": "IPY_MODEL_af9d122df7cd4525965ff07a08505bea",
       "max": 142,
       "style": "IPY_MODEL_f48ff34df72346cda202b3160a5fcf4b",
       "value": 142
      }
     },
     "684659b5624e4c2f9a5d104d45a6625e": {
      "model_module": "@jupyter-widgets/controls",
      "model_module_version": "1.5.0",
      "model_name": "HTMLModel",
      "state": {
       "layout": "IPY_MODEL_bc303a83b4bc439abb9d44c661db29bb",
       "style": "IPY_MODEL_423ba774a09d4007b8143e88514f090c",
       "value": " 142/142 [13:25&lt;00:00,  5.67s/it]"
      }
     },
     "6877b8c2a0744cc58662ff998ee12cc9": {
      "model_module": "@jupyter-widgets/controls",
      "model_module_version": "1.5.0",
      "model_name": "DescriptionStyleModel",
      "state": {
       "description_width": ""
      }
     },
     "69c517c4d8cb4136a82994e2faa37df8": {
      "model_module": "@jupyter-widgets/controls",
      "model_module_version": "1.5.0",
      "model_name": "HTMLModel",
      "state": {
       "layout": "IPY_MODEL_090e011a7b1746038f89b70402f9c496",
       "style": "IPY_MODEL_79e252249f794ffb89e8750ef7a9e685",
       "value": " 142/142 [12:35&lt;00:00,  5.32s/it]"
      }
     },
     "6aa11ed5a5b047b680b4f0e1c0ccc292": {
      "model_module": "@jupyter-widgets/base",
      "model_module_version": "1.2.0",
      "model_name": "LayoutModel",
      "state": {}
     },
     "6ac67bee4af74ded99a138c4d255b83f": {
      "model_module": "@jupyter-widgets/controls",
      "model_module_version": "1.5.0",
      "model_name": "HBoxModel",
      "state": {
       "children": [
        "IPY_MODEL_6bef961ab0214f1aaa545c556687ee37",
        "IPY_MODEL_117e549f31c4461192569546d76db7de",
        "IPY_MODEL_3e0ede8234a047e382a42ecf2cf99c5d"
       ],
       "layout": "IPY_MODEL_fbade5fab7cc4897bd836f356ff6ca2e"
      }
     },
     "6bef961ab0214f1aaa545c556687ee37": {
      "model_module": "@jupyter-widgets/controls",
      "model_module_version": "1.5.0",
      "model_name": "HTMLModel",
      "state": {
       "layout": "IPY_MODEL_4e20d367fbe54385a0e4988f3ef4f02c",
       "style": "IPY_MODEL_5c92ea5c46674f97bd5b79bd2438d562",
       "value": "100%"
      }
     },
     "6bfb1d6970384174882f7585f6d94149": {
      "model_module": "@jupyter-widgets/controls",
      "model_module_version": "1.5.0",
      "model_name": "DescriptionStyleModel",
      "state": {
       "description_width": ""
      }
     },
     "6c368835bdc54adcab63c2f316c1919c": {
      "model_module": "@jupyter-widgets/controls",
      "model_module_version": "1.5.0",
      "model_name": "ProgressStyleModel",
      "state": {
       "description_width": ""
      }
     },
     "6c922e168f5c4be3a1acac0473a158df": {
      "model_module": "@jupyter-widgets/base",
      "model_module_version": "1.2.0",
      "model_name": "LayoutModel",
      "state": {}
     },
     "6cc457ecb9e44a208bdc152600421171": {
      "model_module": "@jupyter-widgets/base",
      "model_module_version": "1.2.0",
      "model_name": "LayoutModel",
      "state": {}
     },
     "719d420df9ab4afa9d6324c70c2e510b": {
      "model_module": "@jupyter-widgets/controls",
      "model_module_version": "1.5.0",
      "model_name": "DescriptionStyleModel",
      "state": {
       "description_width": ""
      }
     },
     "73b631ce3f65453a82b1ead42a89d373": {
      "model_module": "@jupyter-widgets/controls",
      "model_module_version": "1.5.0",
      "model_name": "HBoxModel",
      "state": {
       "children": [
        "IPY_MODEL_60239423b04d464daec2addbadd67f4f",
        "IPY_MODEL_f88f052914204ac387bdc52f823ba564",
        "IPY_MODEL_f25ea4162344479b815464a8ec70fdcc"
       ],
       "layout": "IPY_MODEL_cecebf77b80f46888b902de79535b47e"
      }
     },
     "7410b14029e545cca95bf3aff95eff2a": {
      "model_module": "@jupyter-widgets/controls",
      "model_module_version": "1.5.0",
      "model_name": "DescriptionStyleModel",
      "state": {
       "description_width": ""
      }
     },
     "74567db0ca9c4ffcabe3942720be70e3": {
      "model_module": "@jupyter-widgets/base",
      "model_module_version": "1.2.0",
      "model_name": "LayoutModel",
      "state": {}
     },
     "74b97b5725234fc986637c5f858018da": {
      "model_module": "@jupyter-widgets/controls",
      "model_module_version": "1.5.0",
      "model_name": "HBoxModel",
      "state": {
       "children": [
        "IPY_MODEL_a6d10e50100e4c0b9e1b746e959b31db",
        "IPY_MODEL_103a25e70e844ddebc70a6868135fc34",
        "IPY_MODEL_9e685713ff6b413a91c70d4836422767"
       ],
       "layout": "IPY_MODEL_e5753ccc4da04c3bb36c8e44f43929b6"
      }
     },
     "769d98bbb03a44ce8e1379acb26b8eb3": {
      "model_module": "@jupyter-widgets/controls",
      "model_module_version": "1.5.0",
      "model_name": "HTMLModel",
      "state": {
       "layout": "IPY_MODEL_00d0e9959ed74d22a12a398f4350655c",
       "style": "IPY_MODEL_f83472c257c649aeb9391aa173c6c8b2",
       "value": "100%"
      }
     },
     "77605ed6f57447c899fc09b4a46bb441": {
      "model_module": "@jupyter-widgets/base",
      "model_module_version": "1.2.0",
      "model_name": "LayoutModel",
      "state": {}
     },
     "7903679777a645b2981a5e37c21aadb6": {
      "model_module": "@jupyter-widgets/controls",
      "model_module_version": "1.5.0",
      "model_name": "DescriptionStyleModel",
      "state": {
       "description_width": ""
      }
     },
     "7938b390c0db4a63a85359d76f4096d1": {
      "model_module": "@jupyter-widgets/controls",
      "model_module_version": "1.5.0",
      "model_name": "DescriptionStyleModel",
      "state": {
       "description_width": ""
      }
     },
     "79e252249f794ffb89e8750ef7a9e685": {
      "model_module": "@jupyter-widgets/controls",
      "model_module_version": "1.5.0",
      "model_name": "DescriptionStyleModel",
      "state": {
       "description_width": ""
      }
     },
     "79fd3a6b0bdd4b8a92249463d3feca82": {
      "model_module": "@jupyter-widgets/controls",
      "model_module_version": "1.5.0",
      "model_name": "FloatProgressModel",
      "state": {
       "bar_style": "success",
       "layout": "IPY_MODEL_19e4ff7e60f9422c857f40f619710f7a",
       "max": 142,
       "style": "IPY_MODEL_e7aff43ae2684d74be693d853f965d88",
       "value": 142
      }
     },
     "7a5384f52058455c8c072530687020c2": {
      "model_module": "@jupyter-widgets/controls",
      "model_module_version": "1.5.0",
      "model_name": "HTMLModel",
      "state": {
       "layout": "IPY_MODEL_7bc9bf547d8a44abbd97a502bfa772d6",
       "style": "IPY_MODEL_0c048faa146d469e857303b9867e89ca",
       "value": " 142/142 [00:01&lt;00:00, 118.03it/s]"
      }
     },
     "7a88d4cd7ac140dd95d7a0ce37f719be": {
      "model_module": "@jupyter-widgets/base",
      "model_module_version": "1.2.0",
      "model_name": "LayoutModel",
      "state": {}
     },
     "7af2b0ff4d134bad8847f61f715bc55a": {
      "model_module": "@jupyter-widgets/controls",
      "model_module_version": "1.5.0",
      "model_name": "ProgressStyleModel",
      "state": {
       "description_width": ""
      }
     },
     "7af5d0252d394c41b8e42cc56a20e5d1": {
      "model_module": "@jupyter-widgets/base",
      "model_module_version": "1.2.0",
      "model_name": "LayoutModel",
      "state": {}
     },
     "7b2102bed7a04305b71b75509a3bac01": {
      "model_module": "@jupyter-widgets/controls",
      "model_module_version": "1.5.0",
      "model_name": "HTMLModel",
      "state": {
       "layout": "IPY_MODEL_888d08088b074e898d429574e2d928ad",
       "style": "IPY_MODEL_c61d2c612e5a486ca1d049d5e5668df4",
       "value": " 142/142 [00:01&lt;00:00, 100.44it/s]"
      }
     },
     "7bc9bf547d8a44abbd97a502bfa772d6": {
      "model_module": "@jupyter-widgets/base",
      "model_module_version": "1.2.0",
      "model_name": "LayoutModel",
      "state": {}
     },
     "7c25fffc2b5b4f4a9f0671bdf126f345": {
      "model_module": "@jupyter-widgets/controls",
      "model_module_version": "1.5.0",
      "model_name": "HBoxModel",
      "state": {
       "children": [
        "IPY_MODEL_92a0a3b136dd40219636401670b4b76c",
        "IPY_MODEL_0858004961074c71b9b64b52b2fd427b",
        "IPY_MODEL_0cd6b46f442b46d88332607118270c5c"
       ],
       "layout": "IPY_MODEL_580e223baae5421c8cdbde30e5119298"
      }
     },
     "7ceb4ecca372434782bc2e1b9e44f4eb": {
      "model_module": "@jupyter-widgets/controls",
      "model_module_version": "1.5.0",
      "model_name": "FloatProgressModel",
      "state": {
       "bar_style": "success",
       "layout": "IPY_MODEL_8964370a0ebf40e3ad83dc79cab8a3e7",
       "max": 142,
       "style": "IPY_MODEL_eca34720c8524b5fad32be8416de6862",
       "value": 142
      }
     },
     "7cf617db006a447f8086a78f27c202ad": {
      "model_module": "@jupyter-widgets/controls",
      "model_module_version": "1.5.0",
      "model_name": "DescriptionStyleModel",
      "state": {
       "description_width": ""
      }
     },
     "7d5395138e054f869f25a87ab0e04f49": {
      "model_module": "@jupyter-widgets/controls",
      "model_module_version": "1.5.0",
      "model_name": "HTMLModel",
      "state": {
       "layout": "IPY_MODEL_7a88d4cd7ac140dd95d7a0ce37f719be",
       "style": "IPY_MODEL_10f57170da344fa8a5f4c5a6ef24ff03",
       "value": " 142/142 [00:03&lt;00:00, 40.90it/s]"
      }
     },
     "7f97829019e249808c90e2d67770f840": {
      "model_module": "@jupyter-widgets/controls",
      "model_module_version": "1.5.0",
      "model_name": "FloatProgressModel",
      "state": {
       "bar_style": "success",
       "layout": "IPY_MODEL_454c59db20d14edf977686e56f13f383",
       "max": 142,
       "style": "IPY_MODEL_2d0ec078e9da4b2fb0cd4f3c60afee8e",
       "value": 142
      }
     },
     "7fc0b0c44db74872ab07f1e3b871f597": {
      "model_module": "@jupyter-widgets/controls",
      "model_module_version": "1.5.0",
      "model_name": "DescriptionStyleModel",
      "state": {
       "description_width": ""
      }
     },
     "805279dcdc714251a8f32d03ac57807b": {
      "model_module": "@jupyter-widgets/controls",
      "model_module_version": "1.5.0",
      "model_name": "HTMLModel",
      "state": {
       "layout": "IPY_MODEL_c158192cd77441be9a966179f2e6ceae",
       "style": "IPY_MODEL_cbdfefd21b42491990eae6c1bd44670c",
       "value": "100%"
      }
     },
     "813f0e6f715d468f9bcc1c72b1bd3316": {
      "model_module": "@jupyter-widgets/controls",
      "model_module_version": "1.5.0",
      "model_name": "HBoxModel",
      "state": {
       "children": [
        "IPY_MODEL_0f14bdfe35204433922b13949858042b",
        "IPY_MODEL_36c6ea8f15764c27a8c2f22528e94ce9",
        "IPY_MODEL_5ad85f55dd044c0799c0e739b71920ae"
       ],
       "layout": "IPY_MODEL_af3bde0b429e42a5af809a91e560b028"
      }
     },
     "8144dac2608348cf92dfb20364e01ab9": {
      "model_module": "@jupyter-widgets/controls",
      "model_module_version": "1.5.0",
      "model_name": "HTMLModel",
      "state": {
       "layout": "IPY_MODEL_2748c30181ce41ceb50e2fd30b14f1f0",
       "style": "IPY_MODEL_55ad21c0b36c400783f1a2334385a45a",
       "value": " 142/142 [07:18&lt;00:00,  3.09s/it]"
      }
     },
     "81c436541e9f4a17b6d44109b71e6f3c": {
      "model_module": "@jupyter-widgets/controls",
      "model_module_version": "1.5.0",
      "model_name": "DescriptionStyleModel",
      "state": {
       "description_width": ""
      }
     },
     "81e6236514054e5a943462d5f0d927a8": {
      "model_module": "@jupyter-widgets/controls",
      "model_module_version": "1.5.0",
      "model_name": "HBoxModel",
      "state": {
       "children": [
        "IPY_MODEL_8764e0987e4745f78dbb84f8433675e6",
        "IPY_MODEL_d5a3dd9317fb4a9ea457c56e4dafea32",
        "IPY_MODEL_c53d7632365249888645f9d0909964f1"
       ],
       "layout": "IPY_MODEL_915e7b6e361f4c72b0672f6daf70f23a"
      }
     },
     "82e5e009537e4d9da4ef9cf530546fa2": {
      "model_module": "@jupyter-widgets/controls",
      "model_module_version": "1.5.0",
      "model_name": "DescriptionStyleModel",
      "state": {
       "description_width": ""
      }
     },
     "83d4fbfe2ce6456d81bb8e8e6c17534e": {
      "model_module": "@jupyter-widgets/base",
      "model_module_version": "1.2.0",
      "model_name": "LayoutModel",
      "state": {}
     },
     "84225a9251e44fe088e58ab1808c0ab0": {
      "model_module": "@jupyter-widgets/controls",
      "model_module_version": "1.5.0",
      "model_name": "FloatProgressModel",
      "state": {
       "bar_style": "success",
       "layout": "IPY_MODEL_112ea78c303a4feb912397179897cf87",
       "max": 142,
       "style": "IPY_MODEL_4eb64aa7938947a49170c8e45d2c02ca",
       "value": 142
      }
     },
     "84aa42b87ac044c3b878c733ba9497ae": {
      "model_module": "@jupyter-widgets/controls",
      "model_module_version": "1.5.0",
      "model_name": "DescriptionStyleModel",
      "state": {
       "description_width": ""
      }
     },
     "862af50677d149aaa734f70c65959d58": {
      "model_module": "@jupyter-widgets/controls",
      "model_module_version": "1.5.0",
      "model_name": "HTMLModel",
      "state": {
       "layout": "IPY_MODEL_6aa11ed5a5b047b680b4f0e1c0ccc292",
       "style": "IPY_MODEL_010dcde31d24437fb16cf9a3de83cf1a",
       "value": "100%"
      }
     },
     "8759d78396a140a1b2f26ea695fc6143": {
      "model_module": "@jupyter-widgets/base",
      "model_module_version": "1.2.0",
      "model_name": "LayoutModel",
      "state": {}
     },
     "8764e0987e4745f78dbb84f8433675e6": {
      "model_module": "@jupyter-widgets/controls",
      "model_module_version": "1.5.0",
      "model_name": "HTMLModel",
      "state": {
       "layout": "IPY_MODEL_1383252fd28240709a9643e429b3d18f",
       "style": "IPY_MODEL_a9988c4928424076996ff5d1e99303da",
       "value": "100%"
      }
     },
     "8847c9925aaf443fad554133aa1b6904": {
      "model_module": "@jupyter-widgets/base",
      "model_module_version": "1.2.0",
      "model_name": "LayoutModel",
      "state": {}
     },
     "888d08088b074e898d429574e2d928ad": {
      "model_module": "@jupyter-widgets/base",
      "model_module_version": "1.2.0",
      "model_name": "LayoutModel",
      "state": {}
     },
     "8911b2df91244153aaa6865d9079cc95": {
      "model_module": "@jupyter-widgets/base",
      "model_module_version": "1.2.0",
      "model_name": "LayoutModel",
      "state": {}
     },
     "8964370a0ebf40e3ad83dc79cab8a3e7": {
      "model_module": "@jupyter-widgets/base",
      "model_module_version": "1.2.0",
      "model_name": "LayoutModel",
      "state": {}
     },
     "89acfb4de4814d698260f5f86a40329c": {
      "model_module": "@jupyter-widgets/base",
      "model_module_version": "1.2.0",
      "model_name": "LayoutModel",
      "state": {}
     },
     "8d175c1a11ee4d1c87a9468b5eeeb922": {
      "model_module": "@jupyter-widgets/controls",
      "model_module_version": "1.5.0",
      "model_name": "DescriptionStyleModel",
      "state": {
       "description_width": ""
      }
     },
     "8df385fe33574c32b35cf75e7816f6c2": {
      "model_module": "@jupyter-widgets/controls",
      "model_module_version": "1.5.0",
      "model_name": "HBoxModel",
      "state": {
       "children": [
        "IPY_MODEL_769d98bbb03a44ce8e1379acb26b8eb3",
        "IPY_MODEL_27a6deeaa41c438b9d8cb7637ee7a547",
        "IPY_MODEL_684659b5624e4c2f9a5d104d45a6625e"
       ],
       "layout": "IPY_MODEL_954c7cb0bd6f457880a5821610af5bce"
      }
     },
     "8f51cc671da24621af10159dfa2acf5e": {
      "model_module": "@jupyter-widgets/controls",
      "model_module_version": "1.5.0",
      "model_name": "HBoxModel",
      "state": {
       "children": [
        "IPY_MODEL_d48a534b82e6468fa1b5f7ceacbec9b9",
        "IPY_MODEL_5c2e1743568244bb9db89c55955b5a58",
        "IPY_MODEL_34758563a8ba41b9840eea2e599f20e7"
       ],
       "layout": "IPY_MODEL_1a6c8d19cf49420989bd8732158864fe"
      }
     },
     "915e7b6e361f4c72b0672f6daf70f23a": {
      "model_module": "@jupyter-widgets/base",
      "model_module_version": "1.2.0",
      "model_name": "LayoutModel",
      "state": {}
     },
     "92a0a3b136dd40219636401670b4b76c": {
      "model_module": "@jupyter-widgets/controls",
      "model_module_version": "1.5.0",
      "model_name": "HTMLModel",
      "state": {
       "layout": "IPY_MODEL_36463a0c039a4a10a6f0edca5f8ff419",
       "style": "IPY_MODEL_4569845caf7e4d15832e4d90f328e214",
       "value": "100%"
      }
     },
     "92ced415a31f4d14a42f2222e605ebac": {
      "model_module": "@jupyter-widgets/controls",
      "model_module_version": "1.5.0",
      "model_name": "HTMLModel",
      "state": {
       "layout": "IPY_MODEL_61db3ad20c1f4c5fb4443b6d7406152d",
       "style": "IPY_MODEL_7938b390c0db4a63a85359d76f4096d1",
       "value": " 142/142 [00:00&lt;00:00, 807.88it/s]"
      }
     },
     "9378e430d7084e9c918c236b764f92c1": {
      "model_module": "@jupyter-widgets/controls",
      "model_module_version": "1.5.0",
      "model_name": "HTMLModel",
      "state": {
       "layout": "IPY_MODEL_5ac51119241e468b8b8d10cf18e154ca",
       "style": "IPY_MODEL_ecce1945bdcc45f382347b067b6657bd",
       "value": "100%"
      }
     },
     "9404c81aded740218006c1d2e68c9b37": {
      "model_module": "@jupyter-widgets/controls",
      "model_module_version": "1.5.0",
      "model_name": "DescriptionStyleModel",
      "state": {
       "description_width": ""
      }
     },
     "949d100c92d44693a13316c1b88e1d65": {
      "model_module": "@jupyter-widgets/controls",
      "model_module_version": "1.5.0",
      "model_name": "HTMLModel",
      "state": {
       "layout": "IPY_MODEL_057d4c238df246bcb5e9be4880054e61",
       "style": "IPY_MODEL_4d8fbbadd60c40479b96a2774f1ecec9",
       "value": " 142/142 [15:40&lt;00:00,  6.62s/it]"
      }
     },
     "95201e6389364d58875ebe54c6f1d865": {
      "model_module": "@jupyter-widgets/base",
      "model_module_version": "1.2.0",
      "model_name": "LayoutModel",
      "state": {}
     },
     "95423c7b4e754af7bdacd199f8572f89": {
      "model_module": "@jupyter-widgets/base",
      "model_module_version": "1.2.0",
      "model_name": "LayoutModel",
      "state": {}
     },
     "954c7cb0bd6f457880a5821610af5bce": {
      "model_module": "@jupyter-widgets/base",
      "model_module_version": "1.2.0",
      "model_name": "LayoutModel",
      "state": {}
     },
     "9736ab86fca8472095e07d9956e2ee60": {
      "model_module": "@jupyter-widgets/controls",
      "model_module_version": "1.5.0",
      "model_name": "HBoxModel",
      "state": {
       "children": [
        "IPY_MODEL_c55c0fa0d5d745b4bb232189a756faf7",
        "IPY_MODEL_3501dfec1cf84000bfdc2944ac7072d2",
        "IPY_MODEL_7d5395138e054f869f25a87ab0e04f49"
       ],
       "layout": "IPY_MODEL_36f35912b44e49fea987d3aba40d8eea"
      }
     },
     "97cef2a83f97456b88d2b9a2d30efd90": {
      "model_module": "@jupyter-widgets/base",
      "model_module_version": "1.2.0",
      "model_name": "LayoutModel",
      "state": {}
     },
     "97fac714768440a0adf2d405a964b8b3": {
      "model_module": "@jupyter-widgets/controls",
      "model_module_version": "1.5.0",
      "model_name": "FloatProgressModel",
      "state": {
       "bar_style": "success",
       "layout": "IPY_MODEL_ed85d9eff25347fba032900966167c3e",
       "max": 142,
       "style": "IPY_MODEL_0f295b9d083f41b38ce47a785dfe685f",
       "value": 142
      }
     },
     "983ff7995aaa45e092d5c68a3d70dc06": {
      "model_module": "@jupyter-widgets/controls",
      "model_module_version": "1.5.0",
      "model_name": "FloatProgressModel",
      "state": {
       "bar_style": "success",
       "layout": "IPY_MODEL_dd56addd7f9e45b5ad68155d8fa77874",
       "max": 142,
       "style": "IPY_MODEL_cfd699f1ab394574ab81d77b4b8538cb",
       "value": 142
      }
     },
     "98617aba6dc948e3922ab8b27089ca86": {
      "model_module": "@jupyter-widgets/controls",
      "model_module_version": "1.5.0",
      "model_name": "HTMLModel",
      "state": {
       "layout": "IPY_MODEL_8911b2df91244153aaa6865d9079cc95",
       "style": "IPY_MODEL_b1258c0f1f754aff83ba566da52da0d8",
       "value": "100%"
      }
     },
     "98a019081e98470495a5d3b5324362d6": {
      "model_module": "@jupyter-widgets/controls",
      "model_module_version": "1.5.0",
      "model_name": "ProgressStyleModel",
      "state": {
       "description_width": ""
      }
     },
     "98f0a311568e440aa95716e54bdae64d": {
      "model_module": "@jupyter-widgets/base",
      "model_module_version": "1.2.0",
      "model_name": "LayoutModel",
      "state": {}
     },
     "9a549067d9db4d328cdd8366c7a8619a": {
      "model_module": "@jupyter-widgets/base",
      "model_module_version": "1.2.0",
      "model_name": "LayoutModel",
      "state": {}
     },
     "9a87b90a65014e66b15bf7ca25d02a71": {
      "model_module": "@jupyter-widgets/base",
      "model_module_version": "1.2.0",
      "model_name": "LayoutModel",
      "state": {}
     },
     "9bb4c386ba5f4cc490b7cf07b6713483": {
      "model_module": "@jupyter-widgets/controls",
      "model_module_version": "1.5.0",
      "model_name": "DescriptionStyleModel",
      "state": {
       "description_width": ""
      }
     },
     "9bca7b0b55624c11a947c9b98713b7b5": {
      "model_module": "@jupyter-widgets/controls",
      "model_module_version": "1.5.0",
      "model_name": "ProgressStyleModel",
      "state": {
       "description_width": ""
      }
     },
     "9c9a0086aa5245dbb199af65d953fafa": {
      "model_module": "@jupyter-widgets/base",
      "model_module_version": "1.2.0",
      "model_name": "LayoutModel",
      "state": {}
     },
     "9e685713ff6b413a91c70d4836422767": {
      "model_module": "@jupyter-widgets/controls",
      "model_module_version": "1.5.0",
      "model_name": "HTMLModel",
      "state": {
       "layout": "IPY_MODEL_95423c7b4e754af7bdacd199f8572f89",
       "style": "IPY_MODEL_9bb4c386ba5f4cc490b7cf07b6713483",
       "value": " 142/142 [00:01&lt;00:00, 96.05it/s]"
      }
     },
     "9e82ed00b06c4869b1a0f2d343468a5d": {
      "model_module": "@jupyter-widgets/controls",
      "model_module_version": "1.5.0",
      "model_name": "HBoxModel",
      "state": {
       "children": [
        "IPY_MODEL_98617aba6dc948e3922ab8b27089ca86",
        "IPY_MODEL_e5c3e801f698426ba495f6592c0b0db9",
        "IPY_MODEL_5a0846ee35104df59300fdd4a6a6bce7"
       ],
       "layout": "IPY_MODEL_b9a58fa995894516a87f6d5d1053faea"
      }
     },
     "a0ca80ce20c149e5888bed1fd411fb68": {
      "model_module": "@jupyter-widgets/controls",
      "model_module_version": "1.5.0",
      "model_name": "DescriptionStyleModel",
      "state": {
       "description_width": ""
      }
     },
     "a0fe26b8a6fb4d1a940777a989c3161f": {
      "model_module": "@jupyter-widgets/controls",
      "model_module_version": "1.5.0",
      "model_name": "HTMLModel",
      "state": {
       "layout": "IPY_MODEL_560cd2de2be04cfda9705f8581bd1473",
       "style": "IPY_MODEL_e1505aa3d027484aa88d7445b71949d0",
       "value": " 142/142 [07:26&lt;00:00,  3.15s/it]"
      }
     },
     "a1f10d52cec04112bd19f22cceb796bb": {
      "model_module": "@jupyter-widgets/base",
      "model_module_version": "1.2.0",
      "model_name": "LayoutModel",
      "state": {}
     },
     "a2768d887f4949168434133ac20f1d32": {
      "model_module": "@jupyter-widgets/controls",
      "model_module_version": "1.5.0",
      "model_name": "DescriptionStyleModel",
      "state": {
       "description_width": ""
      }
     },
     "a285b0ba9b724768abffa9b939d82d78": {
      "model_module": "@jupyter-widgets/base",
      "model_module_version": "1.2.0",
      "model_name": "LayoutModel",
      "state": {}
     },
     "a2bb946ee6f74688af06bb760152ca0d": {
      "model_module": "@jupyter-widgets/controls",
      "model_module_version": "1.5.0",
      "model_name": "HTMLModel",
      "state": {
       "layout": "IPY_MODEL_4af6b2b1f5564b88a192df9fb4444fe4",
       "style": "IPY_MODEL_47881b39aced461596b540e9a2cd1660",
       "value": "100%"
      }
     },
     "a32171c9c7574fe799f12a0ba6d8c123": {
      "model_module": "@jupyter-widgets/controls",
      "model_module_version": "1.5.0",
      "model_name": "HBoxModel",
      "state": {
       "children": [
        "IPY_MODEL_e06f80a81cfa46e3af7e03dd4fb47d3a",
        "IPY_MODEL_7ceb4ecca372434782bc2e1b9e44f4eb",
        "IPY_MODEL_7a5384f52058455c8c072530687020c2"
       ],
       "layout": "IPY_MODEL_5e879d33e7ec4426a9212f37affc4506"
      }
     },
     "a37baec4b3d648d89079ccc5f5c1b2c3": {
      "model_module": "@jupyter-widgets/controls",
      "model_module_version": "1.5.0",
      "model_name": "ProgressStyleModel",
      "state": {
       "description_width": ""
      }
     },
     "a3efd2ef43904e789c9da554e1b08553": {
      "model_module": "@jupyter-widgets/controls",
      "model_module_version": "1.5.0",
      "model_name": "ProgressStyleModel",
      "state": {
       "description_width": ""
      }
     },
     "a49ee730a9f0415e918bfd33ecf1e504": {
      "model_module": "@jupyter-widgets/controls",
      "model_module_version": "1.5.0",
      "model_name": "DescriptionStyleModel",
      "state": {
       "description_width": ""
      }
     },
     "a5eeea03eed54dcaade5d2177857693c": {
      "model_module": "@jupyter-widgets/controls",
      "model_module_version": "1.5.0",
      "model_name": "ProgressStyleModel",
      "state": {
       "description_width": ""
      }
     },
     "a60228169b384f37bf07d17ed9d0f637": {
      "model_module": "@jupyter-widgets/base",
      "model_module_version": "1.2.0",
      "model_name": "LayoutModel",
      "state": {}
     },
     "a6d10e50100e4c0b9e1b746e959b31db": {
      "model_module": "@jupyter-widgets/controls",
      "model_module_version": "1.5.0",
      "model_name": "HTMLModel",
      "state": {
       "layout": "IPY_MODEL_97cef2a83f97456b88d2b9a2d30efd90",
       "style": "IPY_MODEL_5926485de83142eaac53ba4b369d93ce",
       "value": "100%"
      }
     },
     "a7011c7e852d499e83cff753192ffebe": {
      "model_module": "@jupyter-widgets/base",
      "model_module_version": "1.2.0",
      "model_name": "LayoutModel",
      "state": {}
     },
     "a7430198e6d343a9978730ff58df8356": {
      "model_module": "@jupyter-widgets/base",
      "model_module_version": "1.2.0",
      "model_name": "LayoutModel",
      "state": {}
     },
     "a9104fa49c2846b780ee912c5c62a7a1": {
      "model_module": "@jupyter-widgets/controls",
      "model_module_version": "1.5.0",
      "model_name": "HTMLModel",
      "state": {
       "layout": "IPY_MODEL_37eaabeed90e49c6a6ff81f880551b5d",
       "style": "IPY_MODEL_2b940bb58f184d78b99465102ad9a7b4",
       "value": "100%"
      }
     },
     "a9988c4928424076996ff5d1e99303da": {
      "model_module": "@jupyter-widgets/controls",
      "model_module_version": "1.5.0",
      "model_name": "DescriptionStyleModel",
      "state": {
       "description_width": ""
      }
     },
     "aabfd0c5a0bc4fb8a452d4de60406c40": {
      "model_module": "@jupyter-widgets/base",
      "model_module_version": "1.2.0",
      "model_name": "LayoutModel",
      "state": {}
     },
     "ac412f39d6ae4286995b8c6c767c095d": {
      "model_module": "@jupyter-widgets/controls",
      "model_module_version": "1.5.0",
      "model_name": "HBoxModel",
      "state": {
       "children": [
        "IPY_MODEL_54daa3c33fa444e4b4fe5e6ac535ccef",
        "IPY_MODEL_79fd3a6b0bdd4b8a92249463d3feca82",
        "IPY_MODEL_491ee601973f4fa69880fb13aa1d022d"
       ],
       "layout": "IPY_MODEL_40c4c3556943454cb5d30f8173f080d3"
      }
     },
     "ac68464fbf55439a914577942fcec074": {
      "model_module": "@jupyter-widgets/base",
      "model_module_version": "1.2.0",
      "model_name": "LayoutModel",
      "state": {}
     },
     "af3bde0b429e42a5af809a91e560b028": {
      "model_module": "@jupyter-widgets/base",
      "model_module_version": "1.2.0",
      "model_name": "LayoutModel",
      "state": {}
     },
     "af94d51348d44cac8f87b0c8cc3dc635": {
      "model_module": "@jupyter-widgets/base",
      "model_module_version": "1.2.0",
      "model_name": "LayoutModel",
      "state": {}
     },
     "af9d122df7cd4525965ff07a08505bea": {
      "model_module": "@jupyter-widgets/base",
      "model_module_version": "1.2.0",
      "model_name": "LayoutModel",
      "state": {}
     },
     "afb56e4bec734f56804b1b3ba7554cbb": {
      "model_module": "@jupyter-widgets/base",
      "model_module_version": "1.2.0",
      "model_name": "LayoutModel",
      "state": {}
     },
     "b1258c0f1f754aff83ba566da52da0d8": {
      "model_module": "@jupyter-widgets/controls",
      "model_module_version": "1.5.0",
      "model_name": "DescriptionStyleModel",
      "state": {
       "description_width": ""
      }
     },
     "b144c4e3baaa4f5da6f929556fb265bf": {
      "model_module": "@jupyter-widgets/controls",
      "model_module_version": "1.5.0",
      "model_name": "HBoxModel",
      "state": {
       "children": [
        "IPY_MODEL_805279dcdc714251a8f32d03ac57807b",
        "IPY_MODEL_0bea446a09f54c70b19d8204deeab7df",
        "IPY_MODEL_61f7097adf4248898a949deaca415116"
       ],
       "layout": "IPY_MODEL_74567db0ca9c4ffcabe3942720be70e3"
      }
     },
     "b49a1bd901284fd28dbabb3e0b98973e": {
      "model_module": "@jupyter-widgets/controls",
      "model_module_version": "1.5.0",
      "model_name": "ProgressStyleModel",
      "state": {
       "description_width": ""
      }
     },
     "b548fc1251b048a2b56ba83f3075f6e6": {
      "model_module": "@jupyter-widgets/controls",
      "model_module_version": "1.5.0",
      "model_name": "DescriptionStyleModel",
      "state": {
       "description_width": ""
      }
     },
     "b756dc4f5c0746a69487f9602b7066b1": {
      "model_module": "@jupyter-widgets/controls",
      "model_module_version": "1.5.0",
      "model_name": "ProgressStyleModel",
      "state": {
       "description_width": ""
      }
     },
     "b7c7a7a6b84446d2804d511d011b6ba4": {
      "model_module": "@jupyter-widgets/controls",
      "model_module_version": "1.5.0",
      "model_name": "DescriptionStyleModel",
      "state": {
       "description_width": ""
      }
     },
     "b9a58fa995894516a87f6d5d1053faea": {
      "model_module": "@jupyter-widgets/base",
      "model_module_version": "1.2.0",
      "model_name": "LayoutModel",
      "state": {}
     },
     "ba4e8d2c3d844ef289ae7a447d7cd927": {
      "model_module": "@jupyter-widgets/base",
      "model_module_version": "1.2.0",
      "model_name": "LayoutModel",
      "state": {}
     },
     "baaa7a4d6bc24e8ba546be7ccdd3b7d1": {
      "model_module": "@jupyter-widgets/controls",
      "model_module_version": "1.5.0",
      "model_name": "HTMLModel",
      "state": {
       "layout": "IPY_MODEL_a7011c7e852d499e83cff753192ffebe",
       "style": "IPY_MODEL_f904f1644b544c41b2a478f14ca61568",
       "value": " 142/142 [00:00&lt;00:00, 550.91it/s]"
      }
     },
     "bb1e2c6caaf24222a0603016daa59a18": {
      "model_module": "@jupyter-widgets/controls",
      "model_module_version": "1.5.0",
      "model_name": "FloatProgressModel",
      "state": {
       "bar_style": "success",
       "layout": "IPY_MODEL_c40a0ea751014ae293ddaa38f02dc379",
       "max": 142,
       "style": "IPY_MODEL_4decce78accf4d7dbd7b34dc4bf6d7e8",
       "value": 142
      }
     },
     "bc303a83b4bc439abb9d44c661db29bb": {
      "model_module": "@jupyter-widgets/base",
      "model_module_version": "1.2.0",
      "model_name": "LayoutModel",
      "state": {}
     },
     "be778ffbd38e443f8e1520d4b5d7ca33": {
      "model_module": "@jupyter-widgets/base",
      "model_module_version": "1.2.0",
      "model_name": "LayoutModel",
      "state": {}
     },
     "c07fdce7ec1a4816a8b5df1cc478de0c": {
      "model_module": "@jupyter-widgets/base",
      "model_module_version": "1.2.0",
      "model_name": "LayoutModel",
      "state": {}
     },
     "c123b3c133894a398ce45e9dd948732b": {
      "model_module": "@jupyter-widgets/controls",
      "model_module_version": "1.5.0",
      "model_name": "DescriptionStyleModel",
      "state": {
       "description_width": ""
      }
     },
     "c158192cd77441be9a966179f2e6ceae": {
      "model_module": "@jupyter-widgets/base",
      "model_module_version": "1.2.0",
      "model_name": "LayoutModel",
      "state": {}
     },
     "c21ec8c350bd443c9f6a0357b497420d": {
      "model_module": "@jupyter-widgets/base",
      "model_module_version": "1.2.0",
      "model_name": "LayoutModel",
      "state": {}
     },
     "c2696c10cf944f709f19e233a2b0cf8d": {
      "model_module": "@jupyter-widgets/controls",
      "model_module_version": "1.5.0",
      "model_name": "FloatProgressModel",
      "state": {
       "bar_style": "success",
       "layout": "IPY_MODEL_c21ec8c350bd443c9f6a0357b497420d",
       "max": 142,
       "style": "IPY_MODEL_ff5fcf301a9f49849b8c16fc77f9e71a",
       "value": 142
      }
     },
     "c2c27ad2247c4eabb245220987acb9b3": {
      "model_module": "@jupyter-widgets/controls",
      "model_module_version": "1.5.0",
      "model_name": "FloatProgressModel",
      "state": {
       "bar_style": "success",
       "layout": "IPY_MODEL_4b2d8bb62db54a08aa1cf1179f659d66",
       "max": 142,
       "style": "IPY_MODEL_fe66a507afca499bb51e757ab2dc1237",
       "value": 142
      }
     },
     "c40a0ea751014ae293ddaa38f02dc379": {
      "model_module": "@jupyter-widgets/base",
      "model_module_version": "1.2.0",
      "model_name": "LayoutModel",
      "state": {}
     },
     "c49736ed7d5247d6b979cc9969c2e6d7": {
      "model_module": "@jupyter-widgets/controls",
      "model_module_version": "1.5.0",
      "model_name": "HTMLModel",
      "state": {
       "layout": "IPY_MODEL_9c9a0086aa5245dbb199af65d953fafa",
       "style": "IPY_MODEL_f78c324be92f4b8d9274ef32664ed898",
       "value": "100%"
      }
     },
     "c53d7632365249888645f9d0909964f1": {
      "model_module": "@jupyter-widgets/controls",
      "model_module_version": "1.5.0",
      "model_name": "HTMLModel",
      "state": {
       "layout": "IPY_MODEL_271a18b62c1944eb9de019a63de548db",
       "style": "IPY_MODEL_a0ca80ce20c149e5888bed1fd411fb68",
       "value": " 142/142 [00:00&lt;00:00, 530.17it/s]"
      }
     },
     "c54166ccd6df41b89cf89412480f045c": {
      "model_module": "@jupyter-widgets/controls",
      "model_module_version": "1.5.0",
      "model_name": "HTMLModel",
      "state": {
       "layout": "IPY_MODEL_5c4add5c1dd64f488c7a7543bd9b261b",
       "style": "IPY_MODEL_eccdfa499f984991a4a2f88d8337e1b8",
       "value": " 142/142 [01:55&lt;00:00,  1.23it/s]"
      }
     },
     "c55c0fa0d5d745b4bb232189a756faf7": {
      "model_module": "@jupyter-widgets/controls",
      "model_module_version": "1.5.0",
      "model_name": "HTMLModel",
      "state": {
       "layout": "IPY_MODEL_d1a7ffc7d59040f8ab2a71354bfcd215",
       "style": "IPY_MODEL_81c436541e9f4a17b6d44109b71e6f3c",
       "value": "100%"
      }
     },
     "c61d2c612e5a486ca1d049d5e5668df4": {
      "model_module": "@jupyter-widgets/controls",
      "model_module_version": "1.5.0",
      "model_name": "DescriptionStyleModel",
      "state": {
       "description_width": ""
      }
     },
     "c632cc4fe25d424fadc3e0b4cf469aa2": {
      "model_module": "@jupyter-widgets/controls",
      "model_module_version": "1.5.0",
      "model_name": "HTMLModel",
      "state": {
       "layout": "IPY_MODEL_164a6510251b40e5852611986d6d1923",
       "style": "IPY_MODEL_f5ced12c7fd44108b0d76f3b0c352e76",
       "value": " 0/142 [00:00&lt;?, ?it/s]"
      }
     },
     "c70f5490f5e34c3381c1c0b89c351e70": {
      "model_module": "@jupyter-widgets/controls",
      "model_module_version": "1.5.0",
      "model_name": "DescriptionStyleModel",
      "state": {
       "description_width": ""
      }
     },
     "ca5e9d377cb542de9e1998e3ffa39c6a": {
      "model_module": "@jupyter-widgets/controls",
      "model_module_version": "1.5.0",
      "model_name": "FloatProgressModel",
      "state": {
       "bar_style": "success",
       "layout": "IPY_MODEL_63317da70659409ab7abe7b22416a038",
       "max": 142,
       "style": "IPY_MODEL_01152ae144e14c3b96b2226da58cbe46",
       "value": 142
      }
     },
     "cac65863eed142c0af20b8935b88fb4a": {
      "model_module": "@jupyter-widgets/controls",
      "model_module_version": "1.5.0",
      "model_name": "HTMLModel",
      "state": {
       "layout": "IPY_MODEL_372f4c505cee471fa98414edbbb21bb1",
       "style": "IPY_MODEL_44afb855d5de42ddb97a1aede85eb0d8",
       "value": " 142/142 [00:01&lt;00:00, 108.54it/s]"
      }
     },
     "cb71306088cc4fbbbedaffe69df3476a": {
      "model_module": "@jupyter-widgets/base",
      "model_module_version": "1.2.0",
      "model_name": "LayoutModel",
      "state": {}
     },
     "cb7866c5261d480bb50f9fde8000670a": {
      "model_module": "@jupyter-widgets/controls",
      "model_module_version": "1.5.0",
      "model_name": "DescriptionStyleModel",
      "state": {
       "description_width": ""
      }
     },
     "cbdfefd21b42491990eae6c1bd44670c": {
      "model_module": "@jupyter-widgets/controls",
      "model_module_version": "1.5.0",
      "model_name": "DescriptionStyleModel",
      "state": {
       "description_width": ""
      }
     },
     "cbf6c82822314b7b99e44f873e58a2b2": {
      "model_module": "@jupyter-widgets/base",
      "model_module_version": "1.2.0",
      "model_name": "LayoutModel",
      "state": {}
     },
     "cc20851773fd41c4bf06d13273d1c1c8": {
      "model_module": "@jupyter-widgets/controls",
      "model_module_version": "1.5.0",
      "model_name": "HTMLModel",
      "state": {
       "layout": "IPY_MODEL_255e396f5abe4e8caf9b1cad7972de82",
       "style": "IPY_MODEL_cf63a849cc414bd496b2a614e14cf66b",
       "value": " 142/142 [00:00&lt;00:00, 391.04it/s]"
      }
     },
     "cc756b3f0d3440d4aaeacec9d6ffeeb6": {
      "model_module": "@jupyter-widgets/controls",
      "model_module_version": "1.5.0",
      "model_name": "DescriptionStyleModel",
      "state": {
       "description_width": ""
      }
     },
     "cdf21607fefe4fd3a88f5a4d3cb964e9": {
      "model_module": "@jupyter-widgets/controls",
      "model_module_version": "1.5.0",
      "model_name": "HBoxModel",
      "state": {
       "children": [
        "IPY_MODEL_a9104fa49c2846b780ee912c5c62a7a1",
        "IPY_MODEL_97fac714768440a0adf2d405a964b8b3",
        "IPY_MODEL_92ced415a31f4d14a42f2222e605ebac"
       ],
       "layout": "IPY_MODEL_ac68464fbf55439a914577942fcec074"
      }
     },
     "cecebf77b80f46888b902de79535b47e": {
      "model_module": "@jupyter-widgets/base",
      "model_module_version": "1.2.0",
      "model_name": "LayoutModel",
      "state": {}
     },
     "cf39dbe46e6d417e830c67ef20ce2c71": {
      "model_module": "@jupyter-widgets/base",
      "model_module_version": "1.2.0",
      "model_name": "LayoutModel",
      "state": {}
     },
     "cf63a849cc414bd496b2a614e14cf66b": {
      "model_module": "@jupyter-widgets/controls",
      "model_module_version": "1.5.0",
      "model_name": "DescriptionStyleModel",
      "state": {
       "description_width": ""
      }
     },
     "cf793ff6aa27408c93bd40276a1959b0": {
      "model_module": "@jupyter-widgets/base",
      "model_module_version": "1.2.0",
      "model_name": "LayoutModel",
      "state": {}
     },
     "cfd699f1ab394574ab81d77b4b8538cb": {
      "model_module": "@jupyter-widgets/controls",
      "model_module_version": "1.5.0",
      "model_name": "ProgressStyleModel",
      "state": {
       "description_width": ""
      }
     },
     "cfdd0d83777547cf80470b6cca1c54fc": {
      "model_module": "@jupyter-widgets/controls",
      "model_module_version": "1.5.0",
      "model_name": "ProgressStyleModel",
      "state": {
       "description_width": ""
      }
     },
     "d1a7ffc7d59040f8ab2a71354bfcd215": {
      "model_module": "@jupyter-widgets/base",
      "model_module_version": "1.2.0",
      "model_name": "LayoutModel",
      "state": {}
     },
     "d352454f0d344600a78d40412490e9b0": {
      "model_module": "@jupyter-widgets/base",
      "model_module_version": "1.2.0",
      "model_name": "LayoutModel",
      "state": {}
     },
     "d389d35a3bb04928bc0ef40a737aa80f": {
      "model_module": "@jupyter-widgets/base",
      "model_module_version": "1.2.0",
      "model_name": "LayoutModel",
      "state": {}
     },
     "d39b5508be4345c2b6a3752423ad1f87": {
      "model_module": "@jupyter-widgets/controls",
      "model_module_version": "1.5.0",
      "model_name": "DescriptionStyleModel",
      "state": {
       "description_width": ""
      }
     },
     "d48a534b82e6468fa1b5f7ceacbec9b9": {
      "model_module": "@jupyter-widgets/controls",
      "model_module_version": "1.5.0",
      "model_name": "HTMLModel",
      "state": {
       "layout": "IPY_MODEL_cf793ff6aa27408c93bd40276a1959b0",
       "style": "IPY_MODEL_a49ee730a9f0415e918bfd33ecf1e504",
       "value": "100%"
      }
     },
     "d5a3dd9317fb4a9ea457c56e4dafea32": {
      "model_module": "@jupyter-widgets/controls",
      "model_module_version": "1.5.0",
      "model_name": "FloatProgressModel",
      "state": {
       "bar_style": "success",
       "layout": "IPY_MODEL_d389d35a3bb04928bc0ef40a737aa80f",
       "max": 142,
       "style": "IPY_MODEL_6c368835bdc54adcab63c2f316c1919c",
       "value": 142
      }
     },
     "d61717a25daf40b2b9e1a24289b4ec09": {
      "model_module": "@jupyter-widgets/controls",
      "model_module_version": "1.5.0",
      "model_name": "DescriptionStyleModel",
      "state": {
       "description_width": ""
      }
     },
     "d8dbed1088d442ecb6e817280008f063": {
      "model_module": "@jupyter-widgets/controls",
      "model_module_version": "1.5.0",
      "model_name": "ProgressStyleModel",
      "state": {
       "description_width": ""
      }
     },
     "da57ac5b7ff546e0bb148141373f1f1f": {
      "model_module": "@jupyter-widgets/controls",
      "model_module_version": "1.5.0",
      "model_name": "FloatProgressModel",
      "state": {
       "bar_style": "success",
       "layout": "IPY_MODEL_eeb93ab19d714291a3d3dce60a98773d",
       "max": 142,
       "style": "IPY_MODEL_ddb4718dff3a4d1cbcf5a19daaa64f32",
       "value": 142
      }
     },
     "dd510447831b4a348484b461b4310c10": {
      "model_module": "@jupyter-widgets/base",
      "model_module_version": "1.2.0",
      "model_name": "LayoutModel",
      "state": {}
     },
     "dd56addd7f9e45b5ad68155d8fa77874": {
      "model_module": "@jupyter-widgets/base",
      "model_module_version": "1.2.0",
      "model_name": "LayoutModel",
      "state": {}
     },
     "ddb4718dff3a4d1cbcf5a19daaa64f32": {
      "model_module": "@jupyter-widgets/controls",
      "model_module_version": "1.5.0",
      "model_name": "ProgressStyleModel",
      "state": {
       "description_width": ""
      }
     },
     "de68d329efe04ed6a0777a64d4e8cb05": {
      "model_module": "@jupyter-widgets/controls",
      "model_module_version": "1.5.0",
      "model_name": "HTMLModel",
      "state": {
       "layout": "IPY_MODEL_d352454f0d344600a78d40412490e9b0",
       "style": "IPY_MODEL_a2768d887f4949168434133ac20f1d32",
       "value": "100%"
      }
     },
     "de6a4ee9ef434e208590d0a874cc8e75": {
      "model_module": "@jupyter-widgets/base",
      "model_module_version": "1.2.0",
      "model_name": "LayoutModel",
      "state": {}
     },
     "e06f80a81cfa46e3af7e03dd4fb47d3a": {
      "model_module": "@jupyter-widgets/controls",
      "model_module_version": "1.5.0",
      "model_name": "HTMLModel",
      "state": {
       "layout": "IPY_MODEL_4a1485362bba4e77b9c45eac97517bf8",
       "style": "IPY_MODEL_c70f5490f5e34c3381c1c0b89c351e70",
       "value": "100%"
      }
     },
     "e10d882cb84e46e2b764294a12a83c53": {
      "model_module": "@jupyter-widgets/controls",
      "model_module_version": "1.5.0",
      "model_name": "DescriptionStyleModel",
      "state": {
       "description_width": ""
      }
     },
     "e1505aa3d027484aa88d7445b71949d0": {
      "model_module": "@jupyter-widgets/controls",
      "model_module_version": "1.5.0",
      "model_name": "DescriptionStyleModel",
      "state": {
       "description_width": ""
      }
     },
     "e1eeac481a3f4fca8e55b25749c5a4a1": {
      "model_module": "@jupyter-widgets/controls",
      "model_module_version": "1.5.0",
      "model_name": "HTMLModel",
      "state": {
       "layout": "IPY_MODEL_de6a4ee9ef434e208590d0a874cc8e75",
       "style": "IPY_MODEL_11fb821acdde448396dfa6275b8a9498",
       "value": "100%"
      }
     },
     "e1f1fd07aa7a48c1988c4ecdd2512797": {
      "model_module": "@jupyter-widgets/controls",
      "model_module_version": "1.5.0",
      "model_name": "FloatProgressModel",
      "state": {
       "bar_style": "success",
       "layout": "IPY_MODEL_13fc1eb2fa9847dab8a1282b75bced9c",
       "max": 142,
       "style": "IPY_MODEL_d8dbed1088d442ecb6e817280008f063",
       "value": 142
      }
     },
     "e2a71ccdc2104da4b3c839d8fa602718": {
      "model_module": "@jupyter-widgets/controls",
      "model_module_version": "1.5.0",
      "model_name": "HTMLModel",
      "state": {
       "layout": "IPY_MODEL_64d42e588f8d49778eb6b9fc94c50e0d",
       "style": "IPY_MODEL_e9f67027fa89497eb55308c200ee8ca3",
       "value": " 142/142 [01:50&lt;00:00,  1.29it/s]"
      }
     },
     "e2aa8672f9f443c491450a84d9b37ee2": {
      "model_module": "@jupyter-widgets/base",
      "model_module_version": "1.2.0",
      "model_name": "LayoutModel",
      "state": {}
     },
     "e3ab5fedf20e41bda3d5885b98b32768": {
      "model_module": "@jupyter-widgets/controls",
      "model_module_version": "1.5.0",
      "model_name": "DescriptionStyleModel",
      "state": {
       "description_width": ""
      }
     },
     "e4d35bda17764bb6a018cc94b23f291b": {
      "model_module": "@jupyter-widgets/base",
      "model_module_version": "1.2.0",
      "model_name": "LayoutModel",
      "state": {}
     },
     "e4fb0d13968a49e1a323e4871bc2f17b": {
      "model_module": "@jupyter-widgets/controls",
      "model_module_version": "1.5.0",
      "model_name": "HTMLModel",
      "state": {
       "layout": "IPY_MODEL_42d23cc9342346058d7e9bc2b596c492",
       "style": "IPY_MODEL_8d175c1a11ee4d1c87a9468b5eeeb922",
       "value": "100%"
      }
     },
     "e5753ccc4da04c3bb36c8e44f43929b6": {
      "model_module": "@jupyter-widgets/base",
      "model_module_version": "1.2.0",
      "model_name": "LayoutModel",
      "state": {}
     },
     "e5ba456bbf3e4d47934bb3a8954eedc7": {
      "model_module": "@jupyter-widgets/base",
      "model_module_version": "1.2.0",
      "model_name": "LayoutModel",
      "state": {}
     },
     "e5c3e801f698426ba495f6592c0b0db9": {
      "model_module": "@jupyter-widgets/controls",
      "model_module_version": "1.5.0",
      "model_name": "FloatProgressModel",
      "state": {
       "bar_style": "success",
       "layout": "IPY_MODEL_f4bc2a2be05247348b9a6d5826e0ea5b",
       "max": 142,
       "style": "IPY_MODEL_9bca7b0b55624c11a947c9b98713b7b5",
       "value": 142
      }
     },
     "e63b408d545e4c3c8148af6f3dfa4f8a": {
      "model_module": "@jupyter-widgets/controls",
      "model_module_version": "1.5.0",
      "model_name": "HTMLModel",
      "state": {
       "layout": "IPY_MODEL_9a549067d9db4d328cdd8366c7a8619a",
       "style": "IPY_MODEL_65beb8f914c74d1b88a849b29e3bd1be",
       "value": "100%"
      }
     },
     "e7aff43ae2684d74be693d853f965d88": {
      "model_module": "@jupyter-widgets/controls",
      "model_module_version": "1.5.0",
      "model_name": "ProgressStyleModel",
      "state": {
       "description_width": ""
      }
     },
     "e7fb7f94f83542e3a7d89e7af0515397": {
      "model_module": "@jupyter-widgets/controls",
      "model_module_version": "1.5.0",
      "model_name": "DescriptionStyleModel",
      "state": {
       "description_width": ""
      }
     },
     "e9f67027fa89497eb55308c200ee8ca3": {
      "model_module": "@jupyter-widgets/controls",
      "model_module_version": "1.5.0",
      "model_name": "DescriptionStyleModel",
      "state": {
       "description_width": ""
      }
     },
     "ea449e55b600419ab35cb647c1c40586": {
      "model_module": "@jupyter-widgets/base",
      "model_module_version": "1.2.0",
      "model_name": "LayoutModel",
      "state": {}
     },
     "eadb27f512d643cf9dae4599edff086d": {
      "model_module": "@jupyter-widgets/base",
      "model_module_version": "1.2.0",
      "model_name": "LayoutModel",
      "state": {}
     },
     "eca34720c8524b5fad32be8416de6862": {
      "model_module": "@jupyter-widgets/controls",
      "model_module_version": "1.5.0",
      "model_name": "ProgressStyleModel",
      "state": {
       "description_width": ""
      }
     },
     "eccdfa499f984991a4a2f88d8337e1b8": {
      "model_module": "@jupyter-widgets/controls",
      "model_module_version": "1.5.0",
      "model_name": "DescriptionStyleModel",
      "state": {
       "description_width": ""
      }
     },
     "ecce1945bdcc45f382347b067b6657bd": {
      "model_module": "@jupyter-widgets/controls",
      "model_module_version": "1.5.0",
      "model_name": "DescriptionStyleModel",
      "state": {
       "description_width": ""
      }
     },
     "ed85d9eff25347fba032900966167c3e": {
      "model_module": "@jupyter-widgets/base",
      "model_module_version": "1.2.0",
      "model_name": "LayoutModel",
      "state": {}
     },
     "eda8ba90c4a04e16b44d04848597cc3d": {
      "model_module": "@jupyter-widgets/controls",
      "model_module_version": "1.5.0",
      "model_name": "FloatProgressModel",
      "state": {
       "bar_style": "success",
       "layout": "IPY_MODEL_485eb4f5b61a4430ae78adadf4944d62",
       "max": 142,
       "style": "IPY_MODEL_a3efd2ef43904e789c9da554e1b08553",
       "value": 142
      }
     },
     "ee945e70692d4bc2a94cd94f525ec873": {
      "model_module": "@jupyter-widgets/controls",
      "model_module_version": "1.5.0",
      "model_name": "HBoxModel",
      "state": {
       "children": [
        "IPY_MODEL_f4fc43e52ac14eb59ccca5057df4c8e0",
        "IPY_MODEL_eda8ba90c4a04e16b44d04848597cc3d",
        "IPY_MODEL_c54166ccd6df41b89cf89412480f045c"
       ],
       "layout": "IPY_MODEL_ba4e8d2c3d844ef289ae7a447d7cd927"
      }
     },
     "eeb93ab19d714291a3d3dce60a98773d": {
      "model_module": "@jupyter-widgets/base",
      "model_module_version": "1.2.0",
      "model_name": "LayoutModel",
      "state": {}
     },
     "ef3a77cd346540feb8b597f0ef086295": {
      "model_module": "@jupyter-widgets/controls",
      "model_module_version": "1.5.0",
      "model_name": "HTMLModel",
      "state": {
       "layout": "IPY_MODEL_a60228169b384f37bf07d17ed9d0f637",
       "style": "IPY_MODEL_0f1df0b5b7824ec6a0200f54d7bd12b4",
       "value": " 142/142 [00:00&lt;00:00, 862.06it/s]"
      }
     },
     "eff69267a5ba4abda0fe9cb566de1c97": {
      "model_module": "@jupyter-widgets/controls",
      "model_module_version": "1.5.0",
      "model_name": "ProgressStyleModel",
      "state": {
       "description_width": ""
      }
     },
     "f0ffc274db7e49f198eba07dd9223dfe": {
      "model_module": "@jupyter-widgets/base",
      "model_module_version": "1.2.0",
      "model_name": "LayoutModel",
      "state": {}
     },
     "f2004fd4c95f4e1cb4cb78c3972658e2": {
      "model_module": "@jupyter-widgets/controls",
      "model_module_version": "1.5.0",
      "model_name": "HTMLModel",
      "state": {
       "layout": "IPY_MODEL_37df43d8c2344155a80581d451d6e452",
       "style": "IPY_MODEL_d61717a25daf40b2b9e1a24289b4ec09",
       "value": " 142/142 [18:07&lt;00:00,  7.66s/it]"
      }
     },
     "f25ea4162344479b815464a8ec70fdcc": {
      "model_module": "@jupyter-widgets/controls",
      "model_module_version": "1.5.0",
      "model_name": "HTMLModel",
      "state": {
       "layout": "IPY_MODEL_16dcbdbf3834401dbbc1f7cfb291305d",
       "style": "IPY_MODEL_28539d994a8542c08dfcaf03c96a8e5b",
       "value": " 142/142 [00:00&lt;00:00, 731.66it/s]"
      }
     },
     "f3a27fc774fc43a888539401966cab99": {
      "model_module": "@jupyter-widgets/controls",
      "model_module_version": "1.5.0",
      "model_name": "HBoxModel",
      "state": {
       "children": [
        "IPY_MODEL_e4fb0d13968a49e1a323e4871bc2f17b",
        "IPY_MODEL_84225a9251e44fe088e58ab1808c0ab0",
        "IPY_MODEL_949d100c92d44693a13316c1b88e1d65"
       ],
       "layout": "IPY_MODEL_afb56e4bec734f56804b1b3ba7554cbb"
      }
     },
     "f48ff34df72346cda202b3160a5fcf4b": {
      "model_module": "@jupyter-widgets/controls",
      "model_module_version": "1.5.0",
      "model_name": "ProgressStyleModel",
      "state": {
       "description_width": ""
      }
     },
     "f4bc2a2be05247348b9a6d5826e0ea5b": {
      "model_module": "@jupyter-widgets/base",
      "model_module_version": "1.2.0",
      "model_name": "LayoutModel",
      "state": {}
     },
     "f4fc43e52ac14eb59ccca5057df4c8e0": {
      "model_module": "@jupyter-widgets/controls",
      "model_module_version": "1.5.0",
      "model_name": "HTMLModel",
      "state": {
       "layout": "IPY_MODEL_1f3909b9dadc43b0865fdc051c03d811",
       "style": "IPY_MODEL_b548fc1251b048a2b56ba83f3075f6e6",
       "value": "100%"
      }
     },
     "f5ced12c7fd44108b0d76f3b0c352e76": {
      "model_module": "@jupyter-widgets/controls",
      "model_module_version": "1.5.0",
      "model_name": "DescriptionStyleModel",
      "state": {
       "description_width": ""
      }
     },
     "f78c324be92f4b8d9274ef32664ed898": {
      "model_module": "@jupyter-widgets/controls",
      "model_module_version": "1.5.0",
      "model_name": "DescriptionStyleModel",
      "state": {
       "description_width": ""
      }
     },
     "f827cff533154ebd9cd5fa73ba7a2679": {
      "model_module": "@jupyter-widgets/controls",
      "model_module_version": "1.5.0",
      "model_name": "HTMLModel",
      "state": {
       "layout": "IPY_MODEL_e2aa8672f9f443c491450a84d9b37ee2",
       "style": "IPY_MODEL_c123b3c133894a398ce45e9dd948732b",
       "value": "100%"
      }
     },
     "f83472c257c649aeb9391aa173c6c8b2": {
      "model_module": "@jupyter-widgets/controls",
      "model_module_version": "1.5.0",
      "model_name": "DescriptionStyleModel",
      "state": {
       "description_width": ""
      }
     },
     "f88f052914204ac387bdc52f823ba564": {
      "model_module": "@jupyter-widgets/controls",
      "model_module_version": "1.5.0",
      "model_name": "FloatProgressModel",
      "state": {
       "bar_style": "success",
       "layout": "IPY_MODEL_9a87b90a65014e66b15bf7ca25d02a71",
       "max": 142,
       "style": "IPY_MODEL_7af2b0ff4d134bad8847f61f715bc55a",
       "value": 142
      }
     },
     "f8ef7dfbfa4c42578f16a5be7492164b": {
      "model_module": "@jupyter-widgets/controls",
      "model_module_version": "1.5.0",
      "model_name": "HBoxModel",
      "state": {
       "children": [
        "IPY_MODEL_9378e430d7084e9c918c236b764f92c1",
        "IPY_MODEL_2d4c8e588f78474dbbbe3b585b8bb72b",
        "IPY_MODEL_3d2cf1ba6831497d984b4ebe45317b74"
       ],
       "layout": "IPY_MODEL_cf39dbe46e6d417e830c67ef20ce2c71"
      }
     },
     "f904f1644b544c41b2a478f14ca61568": {
      "model_module": "@jupyter-widgets/controls",
      "model_module_version": "1.5.0",
      "model_name": "DescriptionStyleModel",
      "state": {
       "description_width": ""
      }
     },
     "fbade5fab7cc4897bd836f356ff6ca2e": {
      "model_module": "@jupyter-widgets/base",
      "model_module_version": "1.2.0",
      "model_name": "LayoutModel",
      "state": {}
     },
     "fe66a507afca499bb51e757ab2dc1237": {
      "model_module": "@jupyter-widgets/controls",
      "model_module_version": "1.5.0",
      "model_name": "ProgressStyleModel",
      "state": {
       "description_width": ""
      }
     },
     "febf7a9cccb346a685d7f5b2fb9d7eb5": {
      "model_module": "@jupyter-widgets/base",
      "model_module_version": "1.2.0",
      "model_name": "LayoutModel",
      "state": {}
     },
     "fef4a52df1cb4c0c828dbf4c9311a758": {
      "model_module": "@jupyter-widgets/controls",
      "model_module_version": "1.5.0",
      "model_name": "ProgressStyleModel",
      "state": {
       "description_width": ""
      }
     },
     "ff5fcf301a9f49849b8c16fc77f9e71a": {
      "model_module": "@jupyter-widgets/controls",
      "model_module_version": "1.5.0",
      "model_name": "ProgressStyleModel",
      "state": {
       "description_width": ""
      }
     }
    },
    "version_major": 2,
    "version_minor": 0
   }
  }
 },
 "nbformat": 4,
 "nbformat_minor": 4
}
