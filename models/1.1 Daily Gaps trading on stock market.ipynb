{
 "cells": [
  {
   "cell_type": "code",
   "execution_count": 233,
   "metadata": {},
   "outputs": [],
   "source": [
    "# to make local package be able to import in notebook\n",
    "%run initlibs.py QuantTradingResearch dark\n",
    "\n",
    "from tools.charting.plot_helpers import *\n",
    "from tools.analysis.timeseries import *\n",
    "from tools.analysis.tools import retain_columns_and_join, scols, srows\n",
    "from tools.analysis.portfolio import sharpe_ratio\n",
    "from tools.loaders.yahoo_finance import load_yahoo_daily_data"
   ]
  },
  {
   "cell_type": "markdown",
   "metadata": {},
   "source": [
    "# Main conception"
   ]
  },
  {
   "cell_type": "markdown",
   "metadata": {},
   "source": [
    "It's said stock prices tend to follow geometric random walks but this is true only if we test their price series for mean reversion strictly at regular intervals, such as using their daily closing price.\n",
    "\n",
    "We will try to find special conditions where mean reversion occurs with regularity. As the following idea will show, there may indeed be seasonal mean reversion occurring at the intra-day time frame for stocks.\n",
    "\n",
    "The strategy rules are as follows:\n",
    "\n",
    "- Select all stocks near the market open whose returns from their previous day’s lows to today’s opens are lower than one standard deviation. The standard deviation is computed using the daily close-to-close returns of the last 90 days. These are stocks that “gapped down”.\n",
    "\n",
    "- Narrow down this list of stocks by requiring that their open prices be higher than the 20-day moving average of the closing prices.\n",
    "\n",
    "- Liquidate the positions at the market close.\n",
    "\n",
    "- Include short selling part."
   ]
  },
  {
   "cell_type": "markdown",
   "metadata": {},
   "source": [
    "We will use stocks listed on NYSE exchange (data loaded from https://eoddata.com/symbols.aspx) and fetch daily prices from Yahoo."
   ]
  },
  {
   "cell_type": "code",
   "execution_count": 3,
   "metadata": {},
   "outputs": [
    {
     "name": "stdout",
     "output_type": "stream",
     "text": [
      "3613\n"
     ]
    }
   ],
   "source": [
    "stocks = pd.read_csv('../data/NYSE.txt', delimiter=\"\\t\")\n",
    "stocks_list = stocks.Symbol.values.tolist()\n",
    "print(len(stocks_list))"
   ]
  },
  {
   "cell_type": "markdown",
   "metadata": {},
   "source": [
    "Now load daily data for these stocks. One thing here we do not take in account survivalship bias - so stocks were delisted ealier won't get in this list."
   ]
  },
  {
   "cell_type": "code",
   "execution_count": 4,
   "metadata": {},
   "outputs": [
    {
     "data": {
      "application/vnd.jupyter.widget-view+json": {
       "model_id": "206b205a18ff414bb672b628ee70969c",
       "version_major": 2,
       "version_minor": 0
      },
      "text/plain": [
       "HBox(children=(HTML(value=''), FloatProgress(value=0.0, max=3613.0), HTML(value='')))"
      ]
     },
     "metadata": {},
     "output_type": "display_data"
    },
    {
     "name": "stdout",
     "output_type": "stream",
     "text": [
      "\u001b[31mAAC.U\u001b[0m \u001b[31mAAC.W\u001b[0m \u001b[31mAAI-B\u001b[0m \u001b[31mAAI-C\u001b[0m \u001b[31mAAQ.U\u001b[0m \u001b[31mAAQ.W\u001b[0m \u001b[31mABR-A\u001b[0m \u001b[31mABR-B\u001b[0m \u001b[31mABR-C\u001b[0m \u001b[31mACI.S\u001b[0m \u001b[31mACI.T\u001b[0m \u001b[31mACI.U\u001b[0m \u001b[31mACI.W\u001b[0m \u001b[31mACN.U\u001b[0m \u001b[31mACN.W\u001b[0m \u001b[31mACP-A\u001b[0m \u001b[31mACP.P\u001b[0m \u001b[31mACR-C\u001b[0m \u001b[31mADE.U\u001b[0m \u001b[31mADE.W\u001b[0m \u001b[31mADF.U\u001b[0m \u001b[31mAEL-A\u001b[0m \u001b[31mAEL-B\u001b[0m \u001b[31mAEV.W\u001b[0m \u001b[31mAGA.U\u001b[0m \u001b[31mAGA.W\u001b[0m \u001b[31mAGM-C\u001b[0m \u001b[31mAGM-D\u001b[0m \u001b[31mAGM-E\u001b[0m \u001b[31mAGM-F\u001b[0m \u001b[31mAGM.A\u001b[0m \u001b[31mAGO-B\u001b[0m \u001b[31mAGO-E\u001b[0m \u001b[31mAGO-F\u001b[0m \u001b[31mAHH-A\u001b[0m \u001b[31mAHL-C\u001b[0m \u001b[31mAHL-D\u001b[0m \u001b[31mAHL-E\u001b[0m \u001b[31mAHT-D\u001b[0m \u001b[31mAHT-F\u001b[0m \u001b[31mAHT-G\u001b[0m \u001b[31mAHT-H\u001b[0m \u001b[31mAHT-I\u001b[0m \u001b[31mAIG-A\u001b[0m \u001b[31mAJA.U\u001b[0m \u001b[31mAJA.W\u001b[0m \u001b[31mAKO.A\u001b[0m \u001b[31mAKO.B\u001b[0m \u001b[31mAL-A\u001b[0m \u001b[31mALI-A\u001b[0m \u001b[31mALI-B\u001b[0m \u001b[31mALI-E\u001b[0m \u001b[31mALL-B\u001b[0m \u001b[31mALL-G\u001b[0m \u001b[31mALL-H\u001b[0m \u001b[31mALL-I\u001b[0m \u001b[31mALL-Y\u001b[0m \u001b[31mALP-Q\u001b[0m \u001b[31mALT-A\u001b[0m \u001b[31mALU.U\u001b[0m \u001b[31mALU.W\u001b[0m \u001b[31mAMB.W\u001b[0m \u001b[31mAMH-D\u001b[0m \u001b[31mAMH-E\u001b[0m \u001b[31mAMH-F\u001b[0m \u001b[31mAMH-G\u001b[0m \u001b[31mAMH-H\u001b[0m \u001b[31mAMP.U\u001b[0m \u001b[31mAMP.W\u001b[0m \u001b[31mANA.U\u001b[0m \u001b[31mANA.W\u001b[0m \u001b[31mAON.U\u001b[0m \u001b[31mAON.W\u001b[0m \u001b[31mAPG.U\u001b[0m \u001b[31mAPG.W\u001b[0m \u001b[31mAPO-A\u001b[0m \u001b[31mAPO-B\u001b[0m \u001b[31mAPS.U\u001b[0m \u001b[31mAPS.W\u001b[0m \u001b[31mAPT-A\u001b[0m \u001b[31mARE-A\u001b[0m \u001b[31mARG-A\u001b[0m \u001b[31mARR-C\u001b[0m \u001b[31mASA.U\u001b[0m \u001b[31mASA.W\u001b[0m \u001b[31mASB-C\u001b[0m \u001b[31mASB-D\u001b[0m \u001b[31mASB-E\u001b[0m \u001b[31mASB-F\u001b[0m \u001b[31mASP.U\u001b[0m \u001b[31mASP.W\u001b[0m \u001b[31mASZ.U\u001b[0m \u001b[31mASZ.W\u001b[0m \u001b[31mATA.D\u001b[0m \u001b[31mATA.S\u001b[0m \u001b[31mATA.T\u001b[0m \u001b[31mATA.U\u001b[0m \u001b[31mATA.V\u001b[0m \u001b[31mATA.W\u001b[0m \u001b[31mATC-D\u001b[0m \u001b[31mATC-E\u001b[0m \u001b[31mATC-G\u001b[0m \u001b[31mATC-H\u001b[0m \u001b[31mATC-I\u001b[0m \u001b[31mATH-A\u001b[0m \u001b[31mATH-B\u001b[0m \u001b[31mATH-C\u001b[0m \u001b[31mATH-D\u001b[0m \u001b[31mATH.U\u001b[0m \u001b[31mATH.W\u001b[0m \u001b[31mATM.U\u001b[0m \u001b[31mATM.W\u001b[0m \u001b[31mAUS.U\u001b[0m \u001b[31mAUS.W\u001b[0m \u001b[31mAVA.U\u001b[0m \u001b[31mAVA.W\u001b[0m \u001b[31mAVT-A\u001b[0m \u001b[31mAXS-E\u001b[0m \u001b[31mBAC-B\u001b[0m \u001b[31mBAC-E\u001b[0m \u001b[31mBAC-K\u001b[0m \u001b[31mBAC-L\u001b[0m \u001b[31mBAC-M\u001b[0m \u001b[31mBAC-N\u001b[0m \u001b[31mBAC-O\u001b[0m \u001b[31mBAC-P\u001b[0m \u001b[31mBAN-E\u001b[0m \u001b[31mBC-A\u001b[0m \u001b[31mBC-B\u001b[0m \u001b[31mBC-C\u001b[0m \u001b[31mBEP-A\u001b[0m \u001b[31mBF.A\u001b[0m \u001b[31mBF.B\u001b[0m \u001b[31mBFL.W\u001b[0m \u001b[31mBFS-D\u001b[0m \u001b[31mBFS-E\u001b[0m \u001b[31mBGS.U\u001b[0m \u001b[31mBGS.W\u001b[0m \u001b[31mBH.A\u001b[0m \u001b[31mBHR-B\u001b[0m \u001b[31mBHR-D\u001b[0m \u001b[31mBIO.B\u001b[0m \u001b[31mBIP-A\u001b[0m \u001b[31mBIP-B\u001b[0m \u001b[31mBIT.U\u001b[0m \u001b[31mBIT.W\u001b[0m \u001b[31mBLU.U\u001b[0m \u001b[31mBLU.W\u001b[0m \u001b[31mBML-G\u001b[0m \u001b[31mBML-H\u001b[0m \u001b[31mBML-J\u001b[0m \u001b[31mBML-L\u001b[0m \u001b[31mBOA.S\u001b[0m \u001b[31mBOA.T\u001b[0m \u001b[31mBOA.U\u001b[0m \u001b[31mBOA.W\u001b[0m \u001b[31mBRK.A\u001b[0m \u001b[31mBRK.B\u001b[0m \u001b[31mBSN.U\u001b[0m \u001b[31mBSN.W\u001b[0m \u001b[31mBSX-A\u001b[0m \u001b[31mBW-A\u001b[0m \u001b[31mBXS-A\u001b[0m \u001b[31mC-J\u001b[0m \u001b[31mC-K\u001b[0m \u001b[31mC-N\u001b[0m \u001b[31mCAI-A\u001b[0m \u001b[31mCAI-B\u001b[0m \u001b[31mCAP.U\u001b[0m \u001b[31mCAP.W\u001b[0m \u001b[31mCAS.U\u001b[0m \u001b[31mCAS.W\u001b[0m \u001b[31mCBA.U\u001b[0m \u001b[31mCBA.W\u001b[0m \u001b[31mCBB-B\u001b[0m \u001b[31mCCA.U\u001b[0m \u001b[31mCCA.W\u001b[0m \u001b[31mCCI.U\u001b[0m \u001b[31mCCI.W\u001b[0m \u001b[31mCCV.S\u001b[0m \u001b[31mCCV.T\u001b[0m \u001b[31mCCV.U\u001b[0m \u001b[31mCCV.W\u001b[0m \u001b[31mCCX.U\u001b[0m \u001b[31mCCX.W\u001b[0m \u001b[31mCDR-B\u001b[0m \u001b[31mCDR-C\u001b[0m \u001b[31mCEL.P\u001b[0m \u001b[31mCEQ.P\u001b[0m \u001b[31mCFG-D\u001b[0m \u001b[31mCFG-E\u001b[0m \u001b[31mCFR-B\u001b[0m \u001b[31mCHA.S\u001b[0m \u001b[31mCHA.T\u001b[0m \u001b[31mCHM-A\u001b[0m \u001b[31mCHM-B\u001b[0m \u001b[31mCHP.W\u001b[0m \u001b[31mCIG.C\u001b[0m \u001b[31mCIM-A\u001b[0m \u001b[31mCIM-B\u001b[0m \u001b[31mCIM-C\u001b[0m \u001b[31mCIM-D\u001b[0m \u001b[31mCIO-A\u001b[0m \u001b[31mCIT-B\u001b[0m \u001b[31mCLA.S\u001b[0m \u001b[31mCLA.T\u001b[0m \u001b[31mCLA.U\u001b[0m \u001b[31mCLA.W\u001b[0m \u001b[31mCLI.S\u001b[0m \u001b[31mCLI.T\u001b[0m \u001b[31mCLI.U\u001b[0m \u001b[31mCLI.W\u001b[0m \u001b[31mCLN-G\u001b[0m \u001b[31mCLN-H\u001b[0m \u001b[31mCLN-I\u001b[0m \u001b[31mCLN-J\u001b[0m \u001b[31mCMO-E\u001b[0m \u001b[31mCMR-B\u001b[0m \u001b[31mCMR-C\u001b[0m \u001b[31mCMR-D\u001b[0m \u001b[31mCMR-E\u001b[0m \u001b[31mCMS-B\u001b[0m \u001b[31mCND.U\u001b[0m \u001b[31mCND.W\u001b[0m \u001b[31mCNO-A\u001b[0m \u001b[31mCNP-B\u001b[0m \u001b[31mCOD-A\u001b[0m \u001b[31mCOD-B\u001b[0m \u001b[31mCOD-C\u001b[0m \u001b[31mCOF-G\u001b[0m \u001b[31mCOF-H\u001b[0m \u001b[31mCOF-I\u001b[0m \u001b[31mCOF-J\u001b[0m \u001b[31mCOF-K\u001b[0m \u001b[31mCOF-L\u001b[0m \u001b[31mCOR-Z\u001b[0m \u001b[31mCPS.U\u001b[0m \u001b[31mCPS.W\u001b[0m \u001b[31mCPT.U\u001b[0m \u001b[31mCPT.W\u001b[0m \u001b[31mCPU.U\u001b[0m \u001b[31mCPU.W\u001b[0m \u001b[31mCRD.A\u001b[0m \u001b[31mCRD.B\u001b[0m \u001b[31mCRH.U\u001b[0m \u001b[31mCRH.W\u001b[0m \u001b[31mCRU.U\u001b[0m \u001b[31mCRU.W\u001b[0m \u001b[31mCSR-C\u001b[0m \u001b[31mCST.U\u001b[0m \u001b[31mCST.W\u001b[0m \u001b[31mCTA-A\u001b[0m \u001b[31mCTA-B\u001b[0m \u001b[31mCTA.U\u001b[0m \u001b[31mCTA.W\u001b[0m \u001b[31mCTO.W\u001b[0m \u001b[31mCUB-C\u001b[0m \u001b[31mCUB-D\u001b[0m \u001b[31mCUB-E\u001b[0m \u001b[31mCUB-F\u001b[0m \u001b[31mCVE.W\u001b[0m \u001b[31mCVI.U\u001b[0m \u001b[31mCVI.W\u001b[0m \u001b[31mCWE.A\u001b[0m \u001b[31mDCP-B\u001b[0m \u001b[31mDCP-C\u001b[0m \u001b[31mDEH.U\u001b[0m \u001b[31mDEH.W\u001b[0m \u001b[31mDFN.U\u001b[0m \u001b[31mDFN.W\u001b[0m \u001b[31mDGN.U\u001b[0m \u001b[31mDGN.W\u001b[0m \u001b[31mDHR-A\u001b[0m \u001b[31mDHR-B\u001b[0m \u001b[31mDLN-A\u001b[0m \u001b[31mDLN-B\u001b[0m \u001b[31mDLR-C\u001b[0m \u001b[31mDLR-J\u001b[0m \u001b[31mDLR-K\u001b[0m \u001b[31mDLR-L\u001b[0m \u001b[31mDMS.W\u001b[0m \u001b[31mDMY.D\u001b[0m \u001b[31mDMY.U\u001b[0m \u001b[31mDMY.V\u001b[0m \u001b[31mDMY.W\u001b[0m \u001b[31mDNM.W\u001b[0m \u001b[31mDNZ.U\u001b[0m \u001b[31mDNZ.W\u001b[0m \u001b[31mDRH-A\u001b[0m \u001b[31mDS-B\u001b[0m \u001b[31mDS-C\u001b[0m \u001b[31mDS-D\u001b[0m \u001b[31mDSX-B\u001b[0m \u001b[31mDTL.P\u001b[0m \u001b[31mDUK-A\u001b[0m \u001b[31mDWI.U\u001b[0m \u001b[31mDWI.W\u001b[0m \u001b[31mDX-C\u001b[0m \u001b[31mEBR.B\u001b[0m \u001b[31mEFC-A\u001b[0m \u001b[31mEMP.U\u001b[0m \u001b[31mEMP.W\u001b[0m \u001b[31mENP.U\u001b[0m \u001b[31mENP.W\u001b[0m \u001b[31mENR-A\u001b[0m \u001b[31mEP-C\u001b[0m \u001b[31mEPR-C\u001b[0m \u001b[31mEPR-E\u001b[0m \u001b[31mEPR-G\u001b[0m \u001b[31mEPW.U\u001b[0m \u001b[31mEPW.W\u001b[0m \u001b[31mEQC-D\u001b[0m \u001b[31mEQD.U\u001b[0m \u001b[31mEQD.W\u001b[0m \u001b[31mEQH-A\u001b[0m \u001b[31mEQH-C\u001b[0m \u001b[31mEQH.U\u001b[0m \u001b[31mEQH.W\u001b[0m \u001b[31mESM.U\u001b[0m \u001b[31mESM.W\u001b[0m \u001b[31mET-C\u001b[0m \u001b[31mET-D\u001b[0m \u001b[31mET-E\u001b[0m \u001b[31mETI.P\u001b[0m \u001b[31mETW.W\u001b[0m \u001b[31mF-B\u001b[0m \u001b[31mF-C\u001b[0m \u001b[31mFAC.S\u001b[0m \u001b[31mFAC.T\u001b[0m \u001b[31mFAC.U\u001b[0m \u001b[31mFAC.W\u001b[0m \u001b[31mFAI.U\u001b[0m \u001b[31mFAI.W\u001b[0m \u001b[31mFCA.U\u001b[0m \u001b[31mFCA.W\u001b[0m \u001b[31mFGN.U\u001b[0m \u001b[31mFGN.W\u001b[0m \u001b[31mFHN-A\u001b[0m \u001b[31mFHN-B\u001b[0m \u001b[31mFHN-C\u001b[0m \u001b[31mFHN-D\u001b[0m \u001b[31mFHN-E\u001b[0m \u001b[31mFHN-F\u001b[0m \u001b[31mFLM.U\u001b[0m \u001b[31mFLM.W\u001b[0m \u001b[31mFMA.U\u001b[0m \u001b[31mFMA.W\u001b[0m \u001b[31mFNB-E\u001b[0m \u001b[31mFOA.W\u001b[0m \u001b[31mFPA.U\u001b[0m \u001b[31mFPA.W\u001b[0m \u001b[31mFPI-B\u001b[0m \u001b[31mFRC-H\u001b[0m \u001b[31mFRC-I\u001b[0m \u001b[31mFRC-J\u001b[0m \u001b[31mFRC-K\u001b[0m \u001b[31mFRC-L\u001b[0m \u001b[31mFRT-C\u001b[0m \u001b[31mFRX.S\u001b[0m \u001b[31mFRX.T\u001b[0m \u001b[31mFRX.U\u001b[0m \u001b[31mFRX.W\u001b[0m \u001b[31mFSN.U\u001b[0m \u001b[31mFSN.W\u001b[0m \u001b[31mFST.U\u001b[0m \u001b[31mFST.W\u001b[0m \u001b[31mFTA-A\u001b[0m \u001b[31mFTA-B\u001b[0m \u001b[31mFTA-C\u001b[0m \u001b[31mFTE.U\u001b[0m \u001b[31mFTE.W\u001b[0m \u001b[31mFTV-A\u001b[0m \u001b[31mFUS.U\u001b[0m \u001b[31mFUS.W\u001b[0m \u001b[31mFVI.U\u001b[0m \u001b[31mFVI.W\u001b[0m \u001b[31mFVT.U\u001b[0m \u001b[31mFVT.W\u001b[0m \u001b[31mFZT.U\u001b[0m \u001b[31mFZT.W\u001b[0m \u001b[31mGAB-G\u001b[0m \u001b[31mGAB-H\u001b[0m \u001b[31mGAB-J\u001b[0m \u001b[31mGAB-K\u001b[0m \u001b[31mGAM-B\u001b[0m \u001b[31mGAP.U\u001b[0m \u001b[31mGAP.W\u001b[0m \u001b[31mGB.W\u001b[0m \u001b[31mGDL-C\u001b[0m \u001b[31mGDV-G\u001b[0m \u001b[31mGDV-H\u001b[0m \u001b[31mGEF.B\u001b[0m \u001b[31mGEN.W\u001b[0m \u001b[31mGFO.U\u001b[0m \u001b[31mGFX.U\u001b[0m \u001b[31mGFX.W\u001b[0m \u001b[31mGGT-E\u001b[0m \u001b[31mGGT-G\u001b[0m \u001b[31mGGZ-A\u001b[0m \u001b[31mGIK.U\u001b[0m \u001b[31mGIK.W\u001b[0m \u001b[31mGIX.P\u001b[0m \u001b[31mGIX.U\u001b[0m \u001b[31mGIX.W\u001b[0m \u001b[31mGL-C\u001b[0m \u001b[31mGLE.U\u001b[0m \u001b[31mGLE.W\u001b[0m \u001b[31mGLO-A\u001b[0m \u001b[31mGLO-B\u001b[0m \u001b[31mGLO-C\u001b[0m \u001b[31mGLO-G\u001b[0m \u001b[31mGLP-A\u001b[0m \u001b[31mGLP-B\u001b[0m \u001b[31mGMR-A\u001b[0m \u001b[31mGNE-A\u001b[0m \u001b[31mGNL-A\u001b[0m \u001b[31mGNL-B\u001b[0m \u001b[31mGNP.U\u001b[0m \u001b[31mGNP.W\u001b[0m \u001b[31mGNT-A\u001b[0m \u001b[31mGOA.U\u001b[0m \u001b[31mGOA.W\u001b[0m \u001b[31mGRP.U\u001b[0m \u001b[31mGS-A\u001b[0m \u001b[31mGS-C\u001b[0m \u001b[31mGS-D\u001b[0m \u001b[31mGS-J\u001b[0m \u001b[31mGS-K\u001b[0m \u001b[31mGS-N\u001b[0m \u001b[31mGSA.U\u001b[0m \u001b[31mGSA.W\u001b[0m \u001b[31mGSL-B\u001b[0m \u001b[31mGSQ.U\u001b[0m \u001b[31mGSQ.W\u001b[0m \u001b[31mGTN.A\u001b[0m \u001b[31mGUT-A\u001b[0m \u001b[31mGUT-C\u001b[0m \u001b[31mHEI.A\u001b[0m \u001b[31mHFR-A\u001b[0m \u001b[31mHHL.U\u001b[0m \u001b[31mHHL.W\u001b[0m \u001b[31mHIG-G\u001b[0m \u001b[31mHIG.U\u001b[0m \u001b[31mHIG.W\u001b[0m \u001b[31mHIM.W\u001b[0m \u001b[31mHL-B\u001b[0m \u001b[31mHML-A\u001b[0m \u001b[31mHPX.U\u001b[0m \u001b[31mHPX.W\u001b[0m \u001b[31mHT-C\u001b[0m \u001b[31mHT-D\u001b[0m \u001b[31mHT-E\u001b[0m \u001b[31mHTP.U\u001b[0m \u001b[31mHTP.W\u001b[0m \u001b[31mHUG.U\u001b[0m \u001b[31mHUG.W\u001b[0m \u001b[31mHVT.A\u001b[0m \u001b[31mHZA.U\u001b[0m \u001b[31mHZA.W\u001b[0m \u001b[31mHZO.U\u001b[0m \u001b[31mHZO.W\u001b[0m \u001b[31mIAC.S\u001b[0m \u001b[31mIAC.T\u001b[0m \u001b[31mIAC.U\u001b[0m \u001b[31mIAC.W\u001b[0m \u001b[31mIBE.U\u001b[0m \u001b[31mIBE.W\u001b[0m \u001b[31mIIA.U\u001b[0m \u001b[31mIIA.W\u001b[0m \u001b[31mIIP-A\u001b[0m \u001b[31mIMP.U\u001b[0m \u001b[31mIMP.W\u001b[0m \u001b[31mINN-D\u001b[0m \u001b[31mINN-E\u001b[0m \u001b[31mINS-A\u001b[0m \u001b[31mIPO.D\u001b[0m \u001b[31mIPO.E\u001b[0m \u001b[31mIPO.F\u001b[0m \u001b[31mIPO.V\u001b[0m \u001b[31mIPO.Y\u001b[0m \u001b[31mIPO.Z\u001b[0m \u001b[31mIPV.D\u001b[0m \u001b[31mIPV.S\u001b[0m \u001b[31mIPV.T\u001b[0m \u001b[31mIPV.V\u001b[0m \u001b[31mISO.U\u001b[0m \u001b[31mISO.W\u001b[0m \u001b[31mIVA.U\u001b[0m \u001b[31mIVA.W\u001b[0m \u001b[31mIVR-A\u001b[0m \u001b[31mIVR-B\u001b[0m \u001b[31mIVR-C\u001b[0m \u001b[31mJIH.U\u001b[0m \u001b[31mJIH.W\u001b[0m \u001b[31mJPM-C\u001b[0m \u001b[31mJPM-D\u001b[0m \u001b[31mJPM-G\u001b[0m \u001b[31mJPM-H\u001b[0m \u001b[31mJPM-J\u001b[0m \u001b[31mJPM-K\u001b[0m \u001b[31mJPM-L\u001b[0m \u001b[31mJW.A\u001b[0m \u001b[31mJW.B\u001b[0m \u001b[31mJWS.S\u001b[0m \u001b[31mJWS.T\u001b[0m \u001b[31mJWS.U\u001b[0m \u001b[31mJWS.W\u001b[0m \u001b[31mKAH.U\u001b[0m \u001b[31mKAH.W\u001b[0m \u001b[31mKCA.U\u001b[0m \u001b[31mKCA.W\u001b[0m \u001b[31mKEY-I\u001b[0m \u001b[31mKEY-J\u001b[0m \u001b[31mKEY-K\u001b[0m \u001b[31mKIM-L\u001b[0m \u001b[31mKIM-M\u001b[0m \u001b[31mKKR-A\u001b[0m \u001b[31mKKR-B\u001b[0m \u001b[31mKKR-C\u001b[0m \u001b[31mKRE-A\u001b[0m \u001b[31mKWA.U\u001b[0m \u001b[31mKWA.W\u001b[0m \u001b[31mLEA.U\u001b[0m \u001b[31mLEA.W\u001b[0m \u001b[31mLEN.B\u001b[0m \u001b[31mLEV.W\u001b[0m \u001b[31mLFT-A\u001b[0m \u001b[31mLGF.A\u001b[0m \u001b[31mLGV.U\u001b[0m \u001b[31mLGV.W\u001b[0m \u001b[31mLHC.U\u001b[0m \u001b[31mLHC.W\u001b[0m \u001b[31mLII.U\u001b[0m \u001b[31mLII.W\u001b[0m \u001b[31mLNF.U\u001b[0m \u001b[31mLNF.W\u001b[0m \u001b[31mLOK.S\u001b[0m \u001b[31mLOK.T\u001b[0m \u001b[31mLOK.U\u001b[0m \u001b[31mLOK.W\u001b[0m \u001b[31mLXP-C\u001b[0m \u001b[31mMAA-I\u001b[0m \u001b[31mMAC.U\u001b[0m \u001b[31mMAC.W\u001b[0m \u001b[31mMBA.U\u001b[0m \u001b[31mMBA.W\u001b[0m \u001b[31mMDH.U\u001b[0m \u001b[31mMDH.W\u001b[0m \u001b[31mMER-K\u001b[0m \u001b[31mMET-A\u001b[0m \u001b[31mMET-E\u001b[0m \u001b[31mMET-F\u001b[0m \u001b[31mMFA-B\u001b[0m \u001b[31mMFA-C\u001b[0m \u001b[31mMH-A\u001b[0m \u001b[31mMH-C\u001b[0m \u001b[31mMH-D\u001b[0m \u001b[31mMIT-A\u001b[0m \u001b[31mMIT-B\u001b[0m \u001b[31mMIT-C\u001b[0m \u001b[31mMIT.U\u001b[0m \u001b[31mMIT.W\u001b[0m \u001b[31mMKC.V\u001b[0m \u001b[31mMNR-C\u001b[0m \u001b[31mMOG.A\u001b[0m \u001b[31mMOG.B\u001b[0m \u001b[31mMOT.U\u001b[0m \u001b[31mMOT.W\u001b[0m \u001b[31mMP.W\u001b[0m \u001b[31mMPL.W\u001b[0m \u001b[31mMS-A\u001b[0m \u001b[31mMS-E\u001b[0m \u001b[31mMS-F\u001b[0m \u001b[31mMS-I\u001b[0m \u001b[31mMS-K\u001b[0m \u001b[31mMS-L\u001b[0m \u001b[31mNAV-D\u001b[0m \u001b[31mNBR-A\u001b[0m \u001b[31mNCV\u001b[0m \u001b[31mNCV-A\u001b[0m \u001b[31mNCZ-A\u001b[0m \u001b[31mNEE-K\u001b[0m \u001b[31mNEE-N\u001b[0m \u001b[31mNEE-O\u001b[0m \u001b[31mNEE-P\u001b[0m \u001b[31mNEE-Q\u001b[0m \u001b[31mNEW\u001b[0m \u001b[31mNFH.W\u001b[0m \u001b[31mNGA.S\u001b[0m \u001b[31mNGA.T\u001b[0m \u001b[31mNGA.U\u001b[0m \u001b[31mNGA.W\u001b[0m \u001b[31mNGC.U\u001b[0m \u001b[31mNGC.W\u001b[0m \u001b[31mNGL-B\u001b[0m \u001b[31mNGL-C\u001b[0m \u001b[31mNHF-A\u001b[0m \u001b[31mNI-B\u001b[0m \u001b[31mNIM\u001b[0m \u001b[31mNIO\u001b[0m \u001b[31mNLY-F\u001b[0m \u001b[31mNLY-G\u001b[0m \u001b[31mNLY-I\u001b[0m \u001b[31mNM-G\u001b[0m \u001b[31mNM-H\u001b[0m \u001b[31mNMK-B\u001b[0m \u001b[31mNMK-C\u001b[0m \u001b[31mNNN-F\u001b[0m \u001b[31mNRE-A\u001b[0m \u001b[31mNRZ-A\u001b[0m \u001b[31mNRZ-B\u001b[0m \u001b[31mNRZ-C\u001b[0m \u001b[31mNS-A\u001b[0m \u001b[31mNS-B\u001b[0m \u001b[31mNS-C\u001b[0m \u001b[31mNSA-A\u001b[0m \u001b[31mNSH.U\u001b[0m \u001b[31mNSH.W\u001b[0m \u001b[31mNST.D\u001b[0m \u001b[31mNST.S\u001b[0m \u001b[31mNST.T\u001b[0m \u001b[31mNST.U\u001b[0m \u001b[31mNST.V\u001b[0m \u001b[31mNST.W\u001b[0m \u001b[31mNTEST.I\u001b[0m \u001b[31mNUV.W\u001b[0m \u001b[31mNXU.U\u001b[0m \u001b[31mNXU.W\u001b[0m \u001b[31mNYC-A\u001b[0m \u001b[31mNYC-U\u001b[0m \u001b[31mOAC.S\u001b[0m \u001b[31mOAC.Z\u001b[0m \u001b[31mOAK-A\u001b[0m \u001b[31mOAK-B\u001b[0m \u001b[31mOCA.U\u001b[0m \u001b[31mOCA.W\u001b[0m \u001b[31mOFG-A\u001b[0m \u001b[31mOFG-B\u001b[0m \u001b[31mOFG-D\u001b[0m \u001b[31mOGN.P\u001b[0m \u001b[31mOIB.C\u001b[0m \u001b[31mOPA.U\u001b[0m \u001b[31mOPA.W\u001b[0m \u001b[31mOPP-A\u001b[0m \u001b[31mOSI.U\u001b[0m \u001b[31mOUS.W\u001b[0m \u001b[31mOWL.W\u001b[0m \u001b[31mOXY.W\u001b[0m \u001b[31mPAC.U\u001b[0m \u001b[31mPAC.W\u001b[0m \u001b[31mPAY\u001b[0m \u001b[31mPBI-B\u001b[0m \u001b[31mPBR.A\u001b[0m \u001b[31mPCP.S\u001b[0m \u001b[31mPCP.T\u001b[0m \u001b[31mPDA.U\u001b[0m \u001b[31mPDA.W\u001b[0m \u001b[31mPDO.U\u001b[0m \u001b[31mPDO.W\u001b[0m \u001b[31mPEB-C\u001b[0m \u001b[31mPEB-D\u001b[0m \u001b[31mPEB-E\u001b[0m \u001b[31mPEB-F\u001b[0m \u001b[31mPEB-G\u001b[0m \u001b[31mPEI-B\u001b[0m \u001b[31mPEI-C\u001b[0m \u001b[31mPEI-D\u001b[0m \u001b[31mPIA.U\u001b[0m \u001b[31mPIA.W\u001b[0m \u001b[31mPIC.U\u001b[0m \u001b[31mPIC.W\u001b[0m \u001b[31mPIP.U\u001b[0m \u001b[31mPIP.W\u001b[0m \u001b[31mPMT-A\u001b[0m \u001b[31mPMT-B\u001b[0m \u001b[31mPMV.U\u001b[0m \u001b[31mPMV.W\u001b[0m \u001b[31mPNC-P\u001b[0m \u001b[31mPNT.U\u001b[0m \u001b[31mPNT.W\u001b[0m \u001b[31mPON.U\u001b[0m \u001b[31mPRE-G\u001b[0m \u001b[31mPRE-H\u001b[0m \u001b[31mPRE-I\u001b[0m \u001b[31mPRE-J\u001b[0m \u001b[31mPRI-A\u001b[0m \u001b[31mPRI-B\u001b[0m \u001b[31mPRI-C\u001b[0m \u001b[31mPRI-D\u001b[0m \u001b[31mPRI-E\u001b[0m \u001b[31mPRI-F\u001b[0m \u001b[31mPRI-G\u001b[0m \u001b[31mPRI-H\u001b[0m \u001b[31mPRP.S\u001b[0m \u001b[31mPRP.T\u001b[0m \u001b[31mPRP.U\u001b[0m \u001b[31mPRP.W\u001b[0m \u001b[31mPSA-C\u001b[0m \u001b[31mPSA-D\u001b[0m \u001b[31mPSA-E\u001b[0m \u001b[31mPSA-F\u001b[0m \u001b[31mPSA-G\u001b[0m \u001b[31mPSA-H\u001b[0m \u001b[31mPSA-I\u001b[0m \u001b[31mPSA-J\u001b[0m \u001b[31mPSA-K\u001b[0m \u001b[31mPSA-L\u001b[0m \u001b[31mPSA-M\u001b[0m \u001b[31mPSA-N\u001b[0m \u001b[31mPSA-O\u001b[0m \u001b[31mPSB-W\u001b[0m \u001b[31mPSB-X\u001b[0m \u001b[31mPSB-Y\u001b[0m \u001b[31mPSB-Z\u001b[0m \u001b[31mPSF.W\u001b[0m \u001b[31mPST.W\u001b[0m \u001b[31mPUK-A\u001b[0m \u001b[31mPUK.P\u001b[0m \u001b[31mPV.U\u001b[0m \u001b[31mPV.W\u001b[0m \u001b[31mQFT.U\u001b[0m \u001b[31mQFT.W\u001b[0m \u001b[31mQS.W\u001b[0m \u001b[31mQTS-A\u001b[0m \u001b[31mQTS-B\u001b[0m \u001b[31mRBA.U\u001b[0m \u001b[31mRBA.W\u001b[0m \u001b[31mRC-B\u001b[0m \u001b[31mRC-C\u001b[0m \u001b[31mRC-D\u001b[0m \u001b[31mRDS.A\u001b[0m \u001b[31mRDS.B\u001b[0m \u001b[31mREX-A\u001b[0m \u001b[31mREX-B\u001b[0m \u001b[31mREX-C\u001b[0m \u001b[31mRF-A\u001b[0m \u001b[31mRF-B\u001b[0m \u001b[31mRF-C\u001b[0m \u001b[31mRF-E\u001b[0m \u001b[31mRIC.U\u001b[0m \u001b[31mRIC.W\u001b[0m \u001b[31mRKT.U\u001b[0m \u001b[31mRKT.W\u001b[0m \u001b[31mRLJ-A\u001b[0m \u001b[31mRMP.P\u001b[0m \u001b[31mRNR-E\u001b[0m \u001b[31mRNR-F\u001b[0m \u001b[31mROS.U\u001b[0m \u001b[31mROS.W\u001b[0m \u001b[31mROT.U\u001b[0m \u001b[31mROT.W\u001b[0m \u001b[31mRPT-D\u001b[0m \u001b[31mRTP.S\u001b[0m \u001b[31mRTP.T\u001b[0m \u001b[31mRTP.U\u001b[0m \u001b[31mRTP.W\u001b[0m \u001b[31mRY-T\u001b[0m \u001b[31mSB-C\u001b[0m \u001b[31mSB-D\u001b[0m \u001b[31mSBG.U\u001b[0m \u001b[31mSBG.W\u001b[0m \u001b[31mSBI.U\u001b[0m \u001b[31mSBI.W\u001b[0m \u001b[31mSCE-G\u001b[0m \u001b[31mSCE-H\u001b[0m \u001b[31mSCE-J\u001b[0m \u001b[31mSCE-K\u001b[0m \u001b[31mSCE-L\u001b[0m \u001b[31mSCH-C\u001b[0m \u001b[31mSCH-D\u001b[0m \u001b[31mSCH-J\u001b[0m \u001b[31mSCP.U\u001b[0m \u001b[31mSCP.W\u001b[0m \u001b[31mSCV.U\u001b[0m \u001b[31mSCV.W\u001b[0m \u001b[31mSEA.U\u001b[0m \u001b[31mSEA.W\u001b[0m \u001b[31mSF-A\u001b[0m \u001b[31mSF-B\u001b[0m \u001b[31mSF-C\u001b[0m \u001b[31mSFB\u001b[0m \u001b[31mSFT.U\u001b[0m \u001b[31mSFT.W\u001b[0m \u001b[31mSHO-E\u001b[0m \u001b[31mSHO-F\u001b[0m \u001b[31mSIT-A\u001b[0m \u001b[31mSKL.W\u001b[0m \u001b[31mSLA.U\u001b[0m \u001b[31mSLA.W\u001b[0m \u001b[31mSLG-I\u001b[0m \u001b[31mSNI.U\u001b[0m \u001b[31mSNI.W\u001b[0m \u001b[31mSNP.U\u001b[0m \u001b[31mSNP.W\u001b[0m \u001b[31mSNV-D\u001b[0m \u001b[31mSNV-E\u001b[0m \u001b[31mSOA.U\u001b[0m \u001b[31mSOA.W\u001b[0m \u001b[31mSPA.U\u001b[0m \u001b[31mSPA.W\u001b[0m \u001b[31mSPE-B\u001b[0m \u001b[31mSPF.U\u001b[0m \u001b[31mSPF.W\u001b[0m \u001b[31mSPG-J\u001b[0m \u001b[31mSPG.U\u001b[0m \u001b[31mSPG.W\u001b[0m \u001b[31mSPL-A\u001b[0m \u001b[31mSPN.U\u001b[0m \u001b[31mSPN.W\u001b[0m \u001b[31mSPR.U\u001b[0m \u001b[31mSPR.W\u001b[0m \u001b[31mSR-A\u001b[0m \u001b[31mSRC-A\u001b[0m \u001b[31mSRE-B\u001b[0m \u001b[31mSRG-A\u001b[0m \u001b[31mSTA-D\u001b[0m \u001b[31mSTA-G\u001b[0m \u001b[31mSTA-I\u001b[0m \u001b[31mSTE.W\u001b[0m \u001b[31mSTI.U\u001b[0m \u001b[31mSTI.W\u001b[0m \u001b[31mSTL-A\u001b[0m \u001b[31mSTP.S\u001b[0m \u001b[31mSTP.T\u001b[0m \u001b[31mSTP.U\u001b[0m \u001b[31mSTP.W\u001b[0m \u001b[31mSTR.U\u001b[0m \u001b[31mSTR.W\u001b[0m \u001b[31mSTT-D\u001b[0m \u001b[31mSTT-G\u001b[0m \u001b[31mSTZ.B\u001b[0m \u001b[31mSWB.U\u001b[0m \u001b[31mSWB.W\u001b[0m \u001b[31mSYF-A\u001b[0m \u001b[31mT-A\u001b[0m \u001b[31mT-C\u001b[0m \u001b[31mTAC.U\u001b[0m \u001b[31mTAC.W\u001b[0m \u001b[31mTAP.A\u001b[0m \u001b[31mTDS-U\u001b[0m \u001b[31mTDW.A\u001b[0m \u001b[31mTDW.B\u001b[0m \u001b[31mTFC-H\u001b[0m \u001b[31mTFC-I\u001b[0m \u001b[31mTFC-O\u001b[0m \u001b[31mTFC-R\u001b[0m \u001b[31mTGH-A\u001b[0m \u001b[31mTGP-A\u001b[0m \u001b[31mTGP-B\u001b[0m \u001b[31mTIN.U\u001b[0m \u001b[31mTIN.W\u001b[0m \u001b[31mTLG.U\u001b[0m \u001b[31mTLG.W\u001b[0m \u001b[31mTMA.U\u001b[0m \u001b[31mTMA.W\u001b[0m \u001b[31mTNP-D\u001b[0m \u001b[31mTNP-E\u001b[0m \u001b[31mTNP-F\u001b[0m \u001b[31mTPG.U\u001b[0m \u001b[31mTPG.W\u001b[0m \u001b[31mTRC.U\u001b[0m \u001b[31mTRC.W\u001b[0m \u001b[31mTRE.U\u001b[0m \u001b[31mTRE.W\u001b[0m \u001b[31mTRT-A\u001b[0m \u001b[31mTRT-B\u001b[0m \u001b[31mTRT-C\u001b[0m \u001b[31mTRT-D\u001b[0m \u001b[31mTSP.U\u001b[0m \u001b[31mTSP.W\u001b[0m \u001b[31mTWN.H\u001b[0m \u001b[31mTWN.I\u001b[0m \u001b[31mTWN.S\u001b[0m \u001b[31mTWN.T\u001b[0m \u001b[31mTWN.U\u001b[0m \u001b[31mTWN.W\u001b[0m \u001b[31mTWO-A\u001b[0m \u001b[31mTWO-B\u001b[0m \u001b[31mTWO-C\u001b[0m \u001b[31mUBP-H\u001b[0m \u001b[31mUBP-K\u001b[0m \u001b[31mUMH-C\u001b[0m \u001b[31mUMH-D\u001b[0m \u001b[31mUSB-A\u001b[0m \u001b[31mUSB-H\u001b[0m \u001b[31mUSB-M\u001b[0m \u001b[31mUSB-P\u001b[0m \u001b[31mUSB-Q\u001b[0m \u001b[31mUSB-R\u001b[0m \u001b[31mUWM.W\u001b[0m \u001b[31mVAL.W\u001b[0m \u001b[31mVER-F\u001b[0m \u001b[31mVGA.U\u001b[0m \u001b[31mVGA.W\u001b[0m \u001b[31mVGI.U\u001b[0m \u001b[31mVGI.W\u001b[0m \u001b[31mVNO-K\u001b[0m \u001b[31mVNO-L\u001b[0m \u001b[31mVNO-M\u001b[0m \u001b[31mVNO-N\u001b[0m \u001b[31mVOY-B\u001b[0m \u001b[31mVPC.U\u001b[0m \u001b[31mVPC.W\u001b[0m \u001b[31mVST.A\u001b[0m \u001b[31mVYG.U\u001b[0m \u001b[31mVYG.W\u001b[0m \u001b[31mWAR.U\u001b[0m \u001b[31mWAR.W\u001b[0m \u001b[31mWBS-F\u001b[0m \u001b[31mWCC-A\u001b[0m \u001b[31mWFC-A\u001b[0m \u001b[31mWFC-C\u001b[0m \u001b[31mWFC-L\u001b[0m \u001b[31mWFC-N\u001b[0m \u001b[31mWFC-O\u001b[0m \u001b[31mWFC-Q\u001b[0m \u001b[31mWFC-R\u001b[0m \u001b[31mWFC-X\u001b[0m \u001b[31mWFC-Y\u001b[0m \u001b[31mWFC-Z\u001b[0m \u001b[31mWPC.S\u001b[0m \u001b[31mWPC.T\u001b[0m \u001b[31mWPC.U\u001b[0m \u001b[31mWPC.W\u001b[0m \u001b[31mWPF.U\u001b[0m \u001b[31mWPF.W\u001b[0m \u001b[31mWPG-H\u001b[0m \u001b[31mWPG-I\u001b[0m \u001b[31mWRB-D\u001b[0m \u001b[31mWRB-E\u001b[0m \u001b[31mWRB-F\u001b[0m \u001b[31mWRB-G\u001b[0m \u001b[31mWRB-H\u001b[0m \u001b[31mWSO.B\u001b[0m \u001b[31mXFL-A\u001b[0m \u001b[31mXPO.U\u001b[0m \u001b[31mXPO.W\u001b[0m \u001b[31mYAC.U\u001b[0m \u001b[31mYAC.W\u001b[0m \u001b[31mZEV.W\u001b[0m \n",
      "\n",
      "> Loaded 2673 symbols\n"
     ]
    }
   ],
   "source": [
    "md = load_yahoo_daily_data(stocks_list, '2000-01-01', '2021-05-25')"
   ]
  },
  {
   "cell_type": "markdown",
   "metadata": {},
   "source": [
    "Let's code strategy rules described above into separate method. Here we invest 1 dollar per every stock we trade."
   ]
  },
  {
   "cell_type": "code",
   "execution_count": 388,
   "metadata": {},
   "outputs": [],
   "source": [
    "def gap_trader(md, ma_period, std_period, long_only=False, capital=1):\n",
    "    \"\"\"\n",
    "    Gap trading strategy. Here we allocate equal capital for all stocks traded in same day.\n",
    "    \n",
    "    :param md: market data dict {symbol: ohlc} \n",
    "    :param ma_period: period of moving average\n",
    "    :param std_period: period of moving standard deviation\n",
    "    :param long_only: if True we process only long entries (avoiding short selling)\n",
    "    :return: portfolio as DataFrame\n",
    "    \"\"\"\n",
    "    signals = []\n",
    "    \n",
    "    for stock, data in tqdm(md.items()):\n",
    "        try:\n",
    "            # some stocks don't have enough data so skip them\n",
    "            if len(data) < max(ma_period, std_period):\n",
    "                continue\n",
    "\n",
    "            # indicators \n",
    "            stdev = data.close.rolling(window=std_period).std()\n",
    "            ma = apply_to_frame(sma, data.close, ma_period)\n",
    "\n",
    "            # buy if the gap down from previous day's low and opening price is above MA\n",
    "            buys = pd.Series(1, data[((data.open - data.low.shift(1)) < -stdev) & (data.open > ma)].index)\n",
    "\n",
    "            # sell if the gap up from previous day's high and opening price is below MA\n",
    "            if not long_only:\n",
    "                sells = pd.Series(-1, data[((data.open - data.high.shift(1)) > stdev) & (data.open < ma)].index)\n",
    "            else:\n",
    "                sells = None\n",
    "\n",
    "            # we just combine all trades into\n",
    "            trades = pd.concat((buys, sells), axis=0).sort_index()\n",
    "\n",
    "            # collect all signals\n",
    "            signals.append(trades.rename(stock))\n",
    "        except Exception as e:\n",
    "            print(f' >>> ERROR: [{stock}] {e}')\n",
    "            \n",
    "    # put all signals in same dataframe\n",
    "    signals = pd.concat(signals, axis=1).fillna(0)\n",
    "\n",
    "    # make equal weights \n",
    "    positions = capital * signals.div(abs(signals).sum(axis=1), axis=0)\n",
    "\n",
    "    # we use daily returns here (close - open) / open\n",
    "    daily_returns = retain_columns_and_join(md, 'close') / retain_columns_and_join(md, 'open') - 1\n",
    "\n",
    "    # finally we calculate PnL\n",
    "    pfl = (daily_returns * positions).fillna(0)\n",
    "\n",
    "    # clean up it \n",
    "    pfl[~np.isfinite(pfl)] = 0\n",
    "\n",
    "    # Sharpe ratio\n",
    "    sharpe = sharpe_ratio(pfl.sum(axis=1))\n",
    "\n",
    "    return mstruct(\n",
    "        \n",
    "        # put everything into single dataframe: each column contains PnL series for stock\n",
    "        portfolio = pfl,\n",
    "        \n",
    "        # we also returns signals \n",
    "        signals = signals,\n",
    "        \n",
    "        # sharpe ratio\n",
    "        sharpe = sharpe,\n",
    "        \n",
    "        # description\n",
    "        desc=f'GAP_{ma_period}_{std_period}_{ \"longs\" if long_only else \"long+short\"} | Sharpe: {sharpe:.2f}'\n",
    "    )"
   ]
  },
  {
   "cell_type": "markdown",
   "metadata": {},
   "source": [
    "We do not know best parameters of this strategy so we can choose some arbitrary values as first approximation. As example we could use 30 day MA period and same period for standard deviation calculation.\n",
    "\n",
    "Also we can test both variations of this strategy - bidirectional (longs and short sales) and long only.\n",
    "\n",
    "<font color='red'>NOTE:</font>\n",
    " > Here we do not take in account transaction costs, slippages, liquidity, hard to borrow list for short sales in sake of keeping idea simple.\n",
    " > All these additional moments could significantly impact on results !"
   ]
  },
  {
   "cell_type": "markdown",
   "metadata": {},
   "source": [
    "<font size=2>Long and Short</font>"
   ]
  },
  {
   "cell_type": "code",
   "execution_count": 389,
   "metadata": {},
   "outputs": [
    {
     "data": {
      "application/vnd.jupyter.widget-view+json": {
       "model_id": "58a6c8fddbc440efb1352aea97132f64",
       "version_major": 2,
       "version_minor": 0
      },
      "text/plain": [
       "HBox(children=(HTML(value=''), FloatProgress(value=0.0, max=2673.0), HTML(value='')))"
      ]
     },
     "metadata": {},
     "output_type": "display_data"
    },
    {
     "name": "stdout",
     "output_type": "stream",
     "text": [
      "\n"
     ]
    }
   ],
   "source": [
    "r30_30 = gap_trader(md, 30, 30)"
   ]
  },
  {
   "cell_type": "markdown",
   "metadata": {},
   "source": [
    "<font size=2>Long only </font>"
   ]
  },
  {
   "cell_type": "code",
   "execution_count": 390,
   "metadata": {},
   "outputs": [
    {
     "data": {
      "application/vnd.jupyter.widget-view+json": {
       "model_id": "e84749b953b04ddcb299608bb5b67d6a",
       "version_major": 2,
       "version_minor": 0
      },
      "text/plain": [
       "HBox(children=(HTML(value=''), FloatProgress(value=0.0, max=2673.0), HTML(value='')))"
      ]
     },
     "metadata": {},
     "output_type": "display_data"
    },
    {
     "name": "stdout",
     "output_type": "stream",
     "text": [
      "\n"
     ]
    }
   ],
   "source": [
    "r30_30_lo = gap_trader(md, 30, 30, True)"
   ]
  },
  {
   "cell_type": "markdown",
   "metadata": {},
   "source": [
    "Now let's look at overall portfolios performance and theirs comparison"
   ]
  },
  {
   "cell_type": "code",
   "execution_count": 391,
   "metadata": {},
   "outputs": [],
   "source": [
    "pnl = r30_30.portfolio.sum(axis=1)\n",
    "pnl_lo = r30_30_lo.portfolio.sum(axis=1)"
   ]
  },
  {
   "cell_type": "code",
   "execution_count": 392,
   "metadata": {},
   "outputs": [
    {
     "data": {
      "image/png": "[encoded data removed]",
      "text/plain": [
       "<Figure size 1536x864 with 1 Axes>"
      ]
     },
     "metadata": {},
     "output_type": "display_data"
    }
   ],
   "source": [
    "fig(16, 9)\n",
    "plt.plot(pnl.cumsum(), label=r30_30.desc);\n",
    "plt.plot(pnl_lo.cumsum(), label=r30_30_lo.desc); \n",
    "plt.title('Cumulative PnL of Gap strategy'); plt.legend();"
   ]
  },
  {
   "cell_type": "markdown",
   "metadata": {},
   "source": [
    "Long + short modification outperformed long only model. Sharpe 1.74 vs 1.39 for long only model."
   ]
  },
  {
   "cell_type": "markdown",
   "metadata": {},
   "source": [
    "Now let's look at best 50 performers (stocks that led to maximal gain)"
   ]
  },
  {
   "cell_type": "code",
   "execution_count": 393,
   "metadata": {},
   "outputs": [
    {
     "data": {
      "text/plain": [
       "UVE     0.764425\n",
       "AMOV    0.511142\n",
       "BVH     0.451967\n",
       "EGY     0.370065\n",
       "ELC     0.288925\n",
       "SAR     0.222008\n",
       "NOM     0.205207\n",
       "MUX     0.199592\n",
       "AMPY    0.197012\n",
       "SKM     0.171531\n",
       "ENLC    0.161364\n",
       "RGA     0.148869\n",
       "MFV     0.145174\n",
       "GTT     0.135337\n",
       "BB      0.135213\n",
       "FNV     0.134936\n",
       "KTH     0.130465\n",
       "NXJ     0.130214\n",
       "TPC     0.129901\n",
       "ENB     0.127469\n",
       "AMN     0.126187\n",
       "AIW     0.123814\n",
       "EQS     0.123725\n",
       "CVA     0.123263\n",
       "LXU     0.123107\n",
       "CPS     0.122215\n",
       "IAG     0.117978\n",
       "BXMT    0.116837\n",
       "GJS     0.116435\n",
       "TGS     0.115818\n",
       "FICO    0.115505\n",
       "BANC    0.114108\n",
       "NTZ     0.113762\n",
       "KTN     0.111148\n",
       "TARO    0.110870\n",
       "RL      0.109053\n",
       "GME     0.107723\n",
       "PYS     0.102318\n",
       "BGSF    0.099408\n",
       "NLS     0.098391\n",
       "MED     0.096891\n",
       "RMT     0.094889\n",
       "PHT     0.093385\n",
       "ESTE    0.093063\n",
       "AIC     0.092678\n",
       "WMB     0.091748\n",
       "DOOR    0.089747\n",
       "ICL     0.087562\n",
       "KGC     0.087419\n",
       "WLK     0.087395\n",
       "dtype: float64"
      ]
     },
     "execution_count": 393,
     "metadata": {},
     "output_type": "execute_result"
    }
   ],
   "source": [
    "top_performers = r30_30.portfolio.sum().sort_values(ascending=False)\n",
    "top_performers[:50]"
   ]
  },
  {
   "cell_type": "code",
   "execution_count": 394,
   "metadata": {},
   "outputs": [
    {
     "data": {
      "image/png": "[encoded data removed]",
      "text/plain": [
       "<Figure size 1536x480 with 1 Axes>"
      ]
     },
     "metadata": {},
     "output_type": "display_data"
    }
   ],
   "source": [
    "fig(16, 5)\n",
    "plt.plot(r30_30.portfolio[top_performers.index[:50]].cumsum());"
   ]
  },
  {
   "cell_type": "markdown",
   "metadata": {},
   "source": [
    "We can note that trades happen not too often. Let's count number of signals for every month:"
   ]
  },
  {
   "cell_type": "code",
   "execution_count": 395,
   "metadata": {},
   "outputs": [],
   "source": [
    "ntrades = abs(r30_30.signals.fillna(0)).sum(axis=1).groupby(pd.Grouper(freq='1m')).sum()"
   ]
  },
  {
   "cell_type": "code",
   "execution_count": 396,
   "metadata": {},
   "outputs": [
    {
     "data": {
      "image/png": "[encoded data removed]",
      "text/plain": [
       "<Figure size 1536x384 with 1 Axes>"
      ]
     },
     "metadata": {},
     "output_type": "display_data"
    }
   ],
   "source": [
    "fig(16, 4)\n",
    "plt.bar(ntrades.index, ntrades, width=25, color='g');"
   ]
  },
  {
   "cell_type": "markdown",
   "metadata": {},
   "source": [
    "In average we'd observe 20-25 trades per month."
   ]
  },
  {
   "cell_type": "markdown",
   "metadata": {},
   "source": [
    "# <font color='green'>Conclusion</font>"
   ]
  },
  {
   "cell_type": "markdown",
   "metadata": {},
   "source": [
    "In general model shows good performance and has some potential. But it's needed to say it again that we didn't take in account any transactions costs. It's also may be a problem to open position at the day bar opening price (Yahoo bars are built upon trades not quotes and real bid/ask spread may be really high on session opening time so we could not get execution at same prices as we see from Yahoo).\n",
    "\n",
    "Another big concern is that sometimes we won't be able to open short position because stock in Hard to Borrow list.\n",
    "\n"
   ]
  }
 ],
 "metadata": {
  "kernelspec": {
   "display_name": "Python 3",
   "language": "python",
   "name": "python3"
  },
  "language_info": {
   "codemirror_mode": {
    "name": "ipython",
    "version": 3
   },
   "file_extension": ".py",
   "mimetype": "text/x-python",
   "name": "python",
   "nbconvert_exporter": "python",
   "pygments_lexer": "ipython3",
   "version": "3.6.9"
  },
  "widgets": {
   "application/vnd.jupyter.widget-state+json": {
    "state": {
     "0014feda49954706850fa658e0b02993": {
      "model_module": "@jupyter-widgets/controls",
      "model_module_version": "1.5.0",
      "model_name": "FloatProgressModel",
      "state": {
       "bar_style": "success",
       "layout": "IPY_MODEL_f038284988834155a25485f3a77783ac",
       "max": 2673,
       "style": "IPY_MODEL_633f82c74f094aa2b09b8c2bfde05838",
       "value": 2673
      }
     },
     "012e32afff77426784c0dbdbc0988bbb": {
      "model_module": "@jupyter-widgets/base",
      "model_module_version": "1.2.0",
      "model_name": "LayoutModel",
      "state": {}
     },
     "013c7f2380484c258da49b7e83362341": {
      "model_module": "@jupyter-widgets/controls",
      "model_module_version": "1.5.0",
      "model_name": "FloatProgressModel",
      "state": {
       "bar_style": "success",
       "layout": "IPY_MODEL_4f44ae2d9613444c96650058eb2d4415",
       "max": 2673,
       "style": "IPY_MODEL_7e2645a61cb9418b9d02da743b9d2495",
       "value": 2673
      }
     },
     "019dba1f896b488ebf4a1874707a28c4": {
      "model_module": "@jupyter-widgets/controls",
      "model_module_version": "1.5.0",
      "model_name": "ProgressStyleModel",
      "state": {
       "description_width": ""
      }
     },
     "02b34fe74d994dbba4284592de0fbbf4": {
      "model_module": "@jupyter-widgets/base",
      "model_module_version": "1.2.0",
      "model_name": "LayoutModel",
      "state": {}
     },
     "043dc421904b427382c9a262abf7c236": {
      "model_module": "@jupyter-widgets/controls",
      "model_module_version": "1.5.0",
      "model_name": "ProgressStyleModel",
      "state": {
       "description_width": ""
      }
     },
     "04f7b44c11744e83855c01a089a7daeb": {
      "model_module": "@jupyter-widgets/base",
      "model_module_version": "1.2.0",
      "model_name": "LayoutModel",
      "state": {}
     },
     "0513a90e53d64cb4bd294978d29fc9bd": {
      "model_module": "@jupyter-widgets/controls",
      "model_module_version": "1.5.0",
      "model_name": "HTMLModel",
      "state": {
       "layout": "IPY_MODEL_f641d40e777c4d838d8a01d2bed2e273",
       "style": "IPY_MODEL_bcbee4d99cdc420fbbe3a5275f742831",
       "value": " 2673/2673 [00:12&lt;00:00, 217.14it/s]"
      }
     },
     "068035961541447b8e59cdaec1f2ddd9": {
      "model_module": "@jupyter-widgets/controls",
      "model_module_version": "1.5.0",
      "model_name": "HTMLModel",
      "state": {
       "layout": "IPY_MODEL_6a57eec1d61643f39badfad672ebc016",
       "style": "IPY_MODEL_e4e9a8ae243c4905989ecb2522c03551",
       "value": " 2673/2673 [02:19&lt;00:00, 19.11it/s]"
      }
     },
     "06be95aa72ea43eebe716778eec69f60": {
      "model_module": "@jupyter-widgets/base",
      "model_module_version": "1.2.0",
      "model_name": "LayoutModel",
      "state": {}
     },
     "06e928612e9d46149ce18e9d184048fd": {
      "model_module": "@jupyter-widgets/controls",
      "model_module_version": "1.5.0",
      "model_name": "HBoxModel",
      "state": {
       "children": [
        "IPY_MODEL_8704174cd80c4ccaa7bc3462152ee2fb",
        "IPY_MODEL_936498fe6198454f97df5f5044f5249c",
        "IPY_MODEL_3ea5af89d2fa4be1a61759b69861cd53"
       ],
       "layout": "IPY_MODEL_ea7b370be8dc45d78b34530deb0d6218"
      }
     },
     "0b8569422b084f9d96bdec6c9257b7e5": {
      "model_module": "@jupyter-widgets/base",
      "model_module_version": "1.2.0",
      "model_name": "LayoutModel",
      "state": {}
     },
     "0dc2560fb1f04b1492168eacf5e8bc6c": {
      "model_module": "@jupyter-widgets/base",
      "model_module_version": "1.2.0",
      "model_name": "LayoutModel",
      "state": {}
     },
     "1043f8bbe5984202a7c4aef3a1208b1d": {
      "model_module": "@jupyter-widgets/controls",
      "model_module_version": "1.5.0",
      "model_name": "HTMLModel",
      "state": {
       "layout": "IPY_MODEL_5c0889f8ae734f80a8fc09f3e5b96de7",
       "style": "IPY_MODEL_8cee33a03a16488baa6c86328f28b7fa",
       "value": "100%"
      }
     },
     "110ffc4926a440c2ab10e2326a7a137e": {
      "model_module": "@jupyter-widgets/controls",
      "model_module_version": "1.5.0",
      "model_name": "HTMLModel",
      "state": {
       "layout": "IPY_MODEL_53605123cde5482fa4b7e633b1856ffd",
       "style": "IPY_MODEL_4d0e625e212543878d52e7cfc19abd28",
       "value": "100%"
      }
     },
     "12e57760b9bc4677a7e9fea9a7c17e04": {
      "model_module": "@jupyter-widgets/controls",
      "model_module_version": "1.5.0",
      "model_name": "HBoxModel",
      "state": {
       "children": [
        "IPY_MODEL_75585afc05e74906aac9beaf079bf42a",
        "IPY_MODEL_62f44b6889ef4023b8fa16beabdb50f7",
        "IPY_MODEL_ea6e3a5ca0324647a66b6d3cf26af161"
       ],
       "layout": "IPY_MODEL_81efd3bf55cf45488e2808032e6e2d76"
      }
     },
     "141cbd793a614648a7ed52907a2860e6": {
      "model_module": "@jupyter-widgets/controls",
      "model_module_version": "1.5.0",
      "model_name": "DescriptionStyleModel",
      "state": {
       "description_width": ""
      }
     },
     "1519959aaf364ed9955bf453456e346a": {
      "model_module": "@jupyter-widgets/controls",
      "model_module_version": "1.5.0",
      "model_name": "HTMLModel",
      "state": {
       "layout": "IPY_MODEL_38ac569d1c4e469dbd4713c45d235ac9",
       "style": "IPY_MODEL_988d876282c64f889fb2ed8a9efeacc4",
       "value": "100%"
      }
     },
     "1606d3ba40d84086b89848af79651c9b": {
      "model_module": "@jupyter-widgets/base",
      "model_module_version": "1.2.0",
      "model_name": "LayoutModel",
      "state": {}
     },
     "16d2ea236272495eb7bed16618fae225": {
      "model_module": "@jupyter-widgets/base",
      "model_module_version": "1.2.0",
      "model_name": "LayoutModel",
      "state": {}
     },
     "1876a9052b864d96a3136587860bc523": {
      "model_module": "@jupyter-widgets/controls",
      "model_module_version": "1.5.0",
      "model_name": "DescriptionStyleModel",
      "state": {
       "description_width": ""
      }
     },
     "1a41f63c8c3e48e18fb1b0a8b7834f33": {
      "model_module": "@jupyter-widgets/controls",
      "model_module_version": "1.5.0",
      "model_name": "ProgressStyleModel",
      "state": {
       "description_width": ""
      }
     },
     "1b7ab302d7b44890921d2a5cfe8a6d2b": {
      "model_module": "@jupyter-widgets/base",
      "model_module_version": "1.2.0",
      "model_name": "LayoutModel",
      "state": {}
     },
     "1bd895ab00eb4c35a3489661cf7e0f54": {
      "model_module": "@jupyter-widgets/controls",
      "model_module_version": "1.5.0",
      "model_name": "DescriptionStyleModel",
      "state": {
       "description_width": ""
      }
     },
     "1c6b40be86304ea4b93b2e3bd38c956c": {
      "model_module": "@jupyter-widgets/controls",
      "model_module_version": "1.5.0",
      "model_name": "FloatProgressModel",
      "state": {
       "bar_style": "success",
       "layout": "IPY_MODEL_0dc2560fb1f04b1492168eacf5e8bc6c",
       "max": 2673,
       "style": "IPY_MODEL_1e05f871dac04227b58a0833ef7607ce",
       "value": 2673
      }
     },
     "1e05f871dac04227b58a0833ef7607ce": {
      "model_module": "@jupyter-widgets/controls",
      "model_module_version": "1.5.0",
      "model_name": "ProgressStyleModel",
      "state": {
       "description_width": ""
      }
     },
     "1e13951656174eee9586db6c5838dc24": {
      "model_module": "@jupyter-widgets/base",
      "model_module_version": "1.2.0",
      "model_name": "LayoutModel",
      "state": {}
     },
     "1ee7dd97547c4cf496fa811ea9d852df": {
      "model_module": "@jupyter-widgets/base",
      "model_module_version": "1.2.0",
      "model_name": "LayoutModel",
      "state": {}
     },
     "204903081bec4d6380b818ed0a05543d": {
      "model_module": "@jupyter-widgets/base",
      "model_module_version": "1.2.0",
      "model_name": "LayoutModel",
      "state": {}
     },
     "206b205a18ff414bb672b628ee70969c": {
      "model_module": "@jupyter-widgets/controls",
      "model_module_version": "1.5.0",
      "model_name": "HBoxModel",
      "state": {
       "children": [
        "IPY_MODEL_72959756c92544f0bd9a9dfda75d0fa2",
        "IPY_MODEL_4b77201e6293470b8e0b519f96a58ec7",
        "IPY_MODEL_672dbcec9fd048509744be2174aec738"
       ],
       "layout": "IPY_MODEL_71c2c3b9fe514c5da44ab7d654018bf6"
      }
     },
     "209e611bba4244389ca88fdf62d130dc": {
      "model_module": "@jupyter-widgets/base",
      "model_module_version": "1.2.0",
      "model_name": "LayoutModel",
      "state": {}
     },
     "221040f3301e41688fcc8b2aa0f87112": {
      "model_module": "@jupyter-widgets/base",
      "model_module_version": "1.2.0",
      "model_name": "LayoutModel",
      "state": {}
     },
     "22d4d9fb4c9f4b7b815235b5e5886ad6": {
      "model_module": "@jupyter-widgets/base",
      "model_module_version": "1.2.0",
      "model_name": "LayoutModel",
      "state": {}
     },
     "22f8b29434a64bd8a2355c2e34e95e37": {
      "model_module": "@jupyter-widgets/controls",
      "model_module_version": "1.5.0",
      "model_name": "FloatProgressModel",
      "state": {
       "bar_style": "success",
       "layout": "IPY_MODEL_4128b532839b4b41aa711ba61ffa4c6f",
       "max": 2673,
       "style": "IPY_MODEL_6bc0406a4ebe42d2928463a43d4e0bdb",
       "value": 2673
      }
     },
     "2302fd033ad5463da62d0dce4cda8fa3": {
      "model_module": "@jupyter-widgets/base",
      "model_module_version": "1.2.0",
      "model_name": "LayoutModel",
      "state": {}
     },
     "230e525c2df642b29a429a7694e69132": {
      "model_module": "@jupyter-widgets/controls",
      "model_module_version": "1.5.0",
      "model_name": "HTMLModel",
      "state": {
       "layout": "IPY_MODEL_34bb4cad001f427d892f6fbba8e20a8d",
       "style": "IPY_MODEL_4c3fcdc837af4b4685fcb0a5827d112e",
       "value": " 0/2673 [00:09&lt;?, ?it/s]"
      }
     },
     "23da22d6954f408cba06e951a1afec05": {
      "model_module": "@jupyter-widgets/base",
      "model_module_version": "1.2.0",
      "model_name": "LayoutModel",
      "state": {}
     },
     "23e190d0fba14d71a990885b9f525b80": {
      "model_module": "@jupyter-widgets/base",
      "model_module_version": "1.2.0",
      "model_name": "LayoutModel",
      "state": {}
     },
     "23efcf0f89fe42eeab7748af5b97601a": {
      "model_module": "@jupyter-widgets/base",
      "model_module_version": "1.2.0",
      "model_name": "LayoutModel",
      "state": {}
     },
     "242ac1e547c443aebbe9c7811380c04b": {
      "model_module": "@jupyter-widgets/base",
      "model_module_version": "1.2.0",
      "model_name": "LayoutModel",
      "state": {}
     },
     "26798cb0aace4f1dbb183782ffff9cf8": {
      "model_module": "@jupyter-widgets/base",
      "model_module_version": "1.2.0",
      "model_name": "LayoutModel",
      "state": {}
     },
     "2752956d08984a41832a058476b88497": {
      "model_module": "@jupyter-widgets/base",
      "model_module_version": "1.2.0",
      "model_name": "LayoutModel",
      "state": {}
     },
     "2843942d38384e71ad32a383c27fba30": {
      "model_module": "@jupyter-widgets/base",
      "model_module_version": "1.2.0",
      "model_name": "LayoutModel",
      "state": {}
     },
     "29e1fcb58d234a1a8bc4022a6e11e91e": {
      "model_module": "@jupyter-widgets/controls",
      "model_module_version": "1.5.0",
      "model_name": "DescriptionStyleModel",
      "state": {
       "description_width": ""
      }
     },
     "29faccfdca4f4844a947b133ca951f49": {
      "model_module": "@jupyter-widgets/controls",
      "model_module_version": "1.5.0",
      "model_name": "HBoxModel",
      "state": {
       "children": [
        "IPY_MODEL_c5003b023ca34c26a1f00e4e12f32282",
        "IPY_MODEL_cdd5bda212f243598276657b04d3ef0f",
        "IPY_MODEL_068035961541447b8e59cdaec1f2ddd9"
       ],
       "layout": "IPY_MODEL_012e32afff77426784c0dbdbc0988bbb"
      }
     },
     "2a1a497102af41068dd77708b6dafba8": {
      "model_module": "@jupyter-widgets/controls",
      "model_module_version": "1.5.0",
      "model_name": "ProgressStyleModel",
      "state": {
       "description_width": ""
      }
     },
     "2af6ad7e91464c52b0903a928b9b0cc9": {
      "model_module": "@jupyter-widgets/controls",
      "model_module_version": "1.5.0",
      "model_name": "ProgressStyleModel",
      "state": {
       "description_width": ""
      }
     },
     "2b39535f528c4694ac09ac70f81cf924": {
      "model_module": "@jupyter-widgets/controls",
      "model_module_version": "1.5.0",
      "model_name": "HTMLModel",
      "state": {
       "layout": "IPY_MODEL_a2a60fe1a89047d9a5d5105ec05a479f",
       "style": "IPY_MODEL_7605994f83ed4d3e8bd4cf2f42420a14",
       "value": "  0%"
      }
     },
     "2c2ded4c8345404ea2adfc49119620e7": {
      "model_module": "@jupyter-widgets/controls",
      "model_module_version": "1.5.0",
      "model_name": "DescriptionStyleModel",
      "state": {
       "description_width": ""
      }
     },
     "2daef04e72b24d358795dc4bd237e1ba": {
      "model_module": "@jupyter-widgets/controls",
      "model_module_version": "1.5.0",
      "model_name": "HTMLModel",
      "state": {
       "layout": "IPY_MODEL_22d4d9fb4c9f4b7b815235b5e5886ad6",
       "style": "IPY_MODEL_cbf7d80e602c44dcb25664bf1e991cc3",
       "value": "100%"
      }
     },
     "2e122a1ca27642c982d0da57a7ed366d": {
      "model_module": "@jupyter-widgets/base",
      "model_module_version": "1.2.0",
      "model_name": "LayoutModel",
      "state": {}
     },
     "2e3dede97ba24416b77eaaf5e068e879": {
      "model_module": "@jupyter-widgets/base",
      "model_module_version": "1.2.0",
      "model_name": "LayoutModel",
      "state": {}
     },
     "2eaa8f9c10604fdd826da0b19c297dce": {
      "model_module": "@jupyter-widgets/controls",
      "model_module_version": "1.5.0",
      "model_name": "HBoxModel",
      "state": {
       "children": [
        "IPY_MODEL_2daef04e72b24d358795dc4bd237e1ba",
        "IPY_MODEL_a548a23170564f3eb02a2dba6e969cf9",
        "IPY_MODEL_ec9b9c742e54479ab96f5cab162a5d28"
       ],
       "layout": "IPY_MODEL_45080362787c4c42b1f6982a6b5c29d0"
      }
     },
     "304a8211b96547d5bbe68bec21e037fc": {
      "model_module": "@jupyter-widgets/controls",
      "model_module_version": "1.5.0",
      "model_name": "HTMLModel",
      "state": {
       "layout": "IPY_MODEL_8154d0497c9245e49ab22f79a9a52919",
       "style": "IPY_MODEL_89fa6b81b914453a92ffee0475c65705",
       "value": " 2673/2673 [02:09&lt;00:00, 20.71it/s]"
      }
     },
     "31e03d0a608546c98f956b07579aa038": {
      "model_module": "@jupyter-widgets/controls",
      "model_module_version": "1.5.0",
      "model_name": "DescriptionStyleModel",
      "state": {
       "description_width": ""
      }
     },
     "3303a2bb5fd24181a636748672ed0e0d": {
      "model_module": "@jupyter-widgets/base",
      "model_module_version": "1.2.0",
      "model_name": "LayoutModel",
      "state": {}
     },
     "348f4d9e839043f3a785d24832b47f0d": {
      "model_module": "@jupyter-widgets/base",
      "model_module_version": "1.2.0",
      "model_name": "LayoutModel",
      "state": {}
     },
     "34bb4cad001f427d892f6fbba8e20a8d": {
      "model_module": "@jupyter-widgets/base",
      "model_module_version": "1.2.0",
      "model_name": "LayoutModel",
      "state": {}
     },
     "367e5e14c1db4bcd8863badc8ca50648": {
      "model_module": "@jupyter-widgets/base",
      "model_module_version": "1.2.0",
      "model_name": "LayoutModel",
      "state": {}
     },
     "371d1d135d75405e8882be55883a7152": {
      "model_module": "@jupyter-widgets/controls",
      "model_module_version": "1.5.0",
      "model_name": "DescriptionStyleModel",
      "state": {
       "description_width": ""
      }
     },
     "379ff04d598b4ed3a8cdafa47a1cecf4": {
      "model_module": "@jupyter-widgets/base",
      "model_module_version": "1.2.0",
      "model_name": "LayoutModel",
      "state": {}
     },
     "37bde7feb9e14b9995e087f3aab42468": {
      "model_module": "@jupyter-widgets/base",
      "model_module_version": "1.2.0",
      "model_name": "LayoutModel",
      "state": {}
     },
     "38ac569d1c4e469dbd4713c45d235ac9": {
      "model_module": "@jupyter-widgets/base",
      "model_module_version": "1.2.0",
      "model_name": "LayoutModel",
      "state": {}
     },
     "38b09df9f5204db6ae10e771545a7af0": {
      "model_module": "@jupyter-widgets/base",
      "model_module_version": "1.2.0",
      "model_name": "LayoutModel",
      "state": {}
     },
     "38e46456191942abacbdc42cf499e904": {
      "model_module": "@jupyter-widgets/base",
      "model_module_version": "1.2.0",
      "model_name": "LayoutModel",
      "state": {}
     },
     "3d88ff1b79114c04b4164a6d92b9e1e3": {
      "model_module": "@jupyter-widgets/controls",
      "model_module_version": "1.5.0",
      "model_name": "HTMLModel",
      "state": {
       "layout": "IPY_MODEL_2e3dede97ba24416b77eaaf5e068e879",
       "style": "IPY_MODEL_65c505715cd94384aa6573956301888d",
       "value": " 2673/2673 [00:25&lt;00:00, 103.06it/s]"
      }
     },
     "3dc9d46c35684d1c8e4311e5007d8a45": {
      "model_module": "@jupyter-widgets/controls",
      "model_module_version": "1.5.0",
      "model_name": "HTMLModel",
      "state": {
       "layout": "IPY_MODEL_993f2a95d1d44297b051964a738aa108",
       "style": "IPY_MODEL_ae29e7b25cb5480f8f18a0b930551618",
       "value": " 2673/2673 [31:14:16&lt;00:00, 42.07s/it]"
      }
     },
     "3ea5af89d2fa4be1a61759b69861cd53": {
      "model_module": "@jupyter-widgets/controls",
      "model_module_version": "1.5.0",
      "model_name": "HTMLModel",
      "state": {
       "layout": "IPY_MODEL_a05771914246437bb83d2a842cdec503",
       "style": "IPY_MODEL_7e46e8deed76400daedc4c242b6ae40b",
       "value": " 2673/2673 [01:23&lt;00:00, 32.08it/s]"
      }
     },
     "3eaa0f06195142aa95a792a6ac669d96": {
      "model_module": "@jupyter-widgets/controls",
      "model_module_version": "1.5.0",
      "model_name": "FloatProgressModel",
      "state": {
       "bar_style": "success",
       "layout": "IPY_MODEL_209e611bba4244389ca88fdf62d130dc",
       "max": 2673,
       "style": "IPY_MODEL_1a41f63c8c3e48e18fb1b0a8b7834f33",
       "value": 2673
      }
     },
     "3f9b8da1d8c944f8a406f43a22d34ecc": {
      "model_module": "@jupyter-widgets/controls",
      "model_module_version": "1.5.0",
      "model_name": "HBoxModel",
      "state": {
       "children": [
        "IPY_MODEL_1043f8bbe5984202a7c4aef3a1208b1d",
        "IPY_MODEL_84741672f3ee4042966c1a71ddf4ab19",
        "IPY_MODEL_c91f6b4cb5af40bcb56ea1baed291847"
       ],
       "layout": "IPY_MODEL_4011ccc8a37f41168b2b4dd1f018e9cb"
      }
     },
     "4011ccc8a37f41168b2b4dd1f018e9cb": {
      "model_module": "@jupyter-widgets/base",
      "model_module_version": "1.2.0",
      "model_name": "LayoutModel",
      "state": {}
     },
     "4108f8f3cd52488685ef52fcf1e3fc21": {
      "model_module": "@jupyter-widgets/controls",
      "model_module_version": "1.5.0",
      "model_name": "DescriptionStyleModel",
      "state": {
       "description_width": ""
      }
     },
     "4128b532839b4b41aa711ba61ffa4c6f": {
      "model_module": "@jupyter-widgets/base",
      "model_module_version": "1.2.0",
      "model_name": "LayoutModel",
      "state": {}
     },
     "42adc1249c5348439f1b20dc00b0a1b4": {
      "model_module": "@jupyter-widgets/base",
      "model_module_version": "1.2.0",
      "model_name": "LayoutModel",
      "state": {}
     },
     "42ce5840059848c783b9621faf2363f4": {
      "model_module": "@jupyter-widgets/controls",
      "model_module_version": "1.5.0",
      "model_name": "ProgressStyleModel",
      "state": {
       "description_width": ""
      }
     },
     "431d914b2f3c41cd97d455aa3b2bef7e": {
      "model_module": "@jupyter-widgets/controls",
      "model_module_version": "1.5.0",
      "model_name": "HTMLModel",
      "state": {
       "layout": "IPY_MODEL_8e53dbc153204821ab33b66c687c55a7",
       "style": "IPY_MODEL_756855e61468466f91d166b708e96226",
       "value": " 2673/2673 [00:49&lt;00:00, 53.47it/s]"
      }
     },
     "432cfff69cbf463f91c32c296da52ded": {
      "model_module": "@jupyter-widgets/base",
      "model_module_version": "1.2.0",
      "model_name": "LayoutModel",
      "state": {}
     },
     "45080362787c4c42b1f6982a6b5c29d0": {
      "model_module": "@jupyter-widgets/base",
      "model_module_version": "1.2.0",
      "model_name": "LayoutModel",
      "state": {}
     },
     "45784d8510fd4a65b838200311e63539": {
      "model_module": "@jupyter-widgets/controls",
      "model_module_version": "1.5.0",
      "model_name": "HBoxModel",
      "state": {
       "children": [
        "IPY_MODEL_9c8b243292344537be37ccefbe01efb6",
        "IPY_MODEL_22f8b29434a64bd8a2355c2e34e95e37",
        "IPY_MODEL_e60af4db47d24e9ea13c3718e1c95146"
       ],
       "layout": "IPY_MODEL_367e5e14c1db4bcd8863badc8ca50648"
      }
     },
     "46424a9513fc4ec496c06dcb518b0ee4": {
      "model_module": "@jupyter-widgets/controls",
      "model_module_version": "1.5.0",
      "model_name": "HTMLModel",
      "state": {
       "layout": "IPY_MODEL_9d74d637fd6a4e49850e71b848346b95",
       "style": "IPY_MODEL_f34e636b11df4c5f9d730b1449987e4b",
       "value": "  0%"
      }
     },
     "466b94992c9b44f5951ea08749aae706": {
      "model_module": "@jupyter-widgets/controls",
      "model_module_version": "1.5.0",
      "model_name": "HTMLModel",
      "state": {
       "layout": "IPY_MODEL_5b174c7719424b18a1a7ec209155dd97",
       "style": "IPY_MODEL_e2370216ddcb4bf99fb2884b836117a1",
       "value": "  0%"
      }
     },
     "468aec4f505a4e43bc09892426f3b580": {
      "model_module": "@jupyter-widgets/controls",
      "model_module_version": "1.5.0",
      "model_name": "ProgressStyleModel",
      "state": {
       "description_width": ""
      }
     },
     "485eef598eba47b4b0cb0a61e6cffdc5": {
      "model_module": "@jupyter-widgets/base",
      "model_module_version": "1.2.0",
      "model_name": "LayoutModel",
      "state": {}
     },
     "48c3eeeb832f471ba69815f6a9e92b54": {
      "model_module": "@jupyter-widgets/controls",
      "model_module_version": "1.5.0",
      "model_name": "HTMLModel",
      "state": {
       "layout": "IPY_MODEL_26798cb0aace4f1dbb183782ffff9cf8",
       "style": "IPY_MODEL_29e1fcb58d234a1a8bc4022a6e11e91e",
       "value": "100%"
      }
     },
     "490e69b828024055acc0e72b16cb10ac": {
      "model_module": "@jupyter-widgets/controls",
      "model_module_version": "1.5.0",
      "model_name": "HBoxModel",
      "state": {
       "children": [
        "IPY_MODEL_d5e77657d9234853869174a103b3bb0a",
        "IPY_MODEL_f3b837ea00bc40598e44efab8860a534",
        "IPY_MODEL_3d88ff1b79114c04b4164a6d92b9e1e3"
       ],
       "layout": "IPY_MODEL_620069f7de35486bbd13a2e1e76d991d"
      }
     },
     "49cc109d61dd44a28aaf3bfeb0ccc8f8": {
      "model_module": "@jupyter-widgets/controls",
      "model_module_version": "1.5.0",
      "model_name": "HTMLModel",
      "state": {
       "layout": "IPY_MODEL_1b7ab302d7b44890921d2a5cfe8a6d2b",
       "style": "IPY_MODEL_ed9a51fbe4f54209af503e7fafcadac0",
       "value": "100%"
      }
     },
     "4b77201e6293470b8e0b519f96a58ec7": {
      "model_module": "@jupyter-widgets/controls",
      "model_module_version": "1.5.0",
      "model_name": "FloatProgressModel",
      "state": {
       "bar_style": "success",
       "layout": "IPY_MODEL_2e122a1ca27642c982d0da57a7ed366d",
       "max": 3613,
       "style": "IPY_MODEL_fbfc1bc8ad674e4e8d53c8a40ba2de45",
       "value": 3613
      }
     },
     "4bdfa174f3b04ba3bd8719b048950242": {
      "model_module": "@jupyter-widgets/base",
      "model_module_version": "1.2.0",
      "model_name": "LayoutModel",
      "state": {}
     },
     "4c3fcdc837af4b4685fcb0a5827d112e": {
      "model_module": "@jupyter-widgets/controls",
      "model_module_version": "1.5.0",
      "model_name": "DescriptionStyleModel",
      "state": {
       "description_width": ""
      }
     },
     "4d0e625e212543878d52e7cfc19abd28": {
      "model_module": "@jupyter-widgets/controls",
      "model_module_version": "1.5.0",
      "model_name": "DescriptionStyleModel",
      "state": {
       "description_width": ""
      }
     },
     "4d50a6fa48074b2b8b54a1b4ee021259": {
      "model_module": "@jupyter-widgets/controls",
      "model_module_version": "1.5.0",
      "model_name": "HTMLModel",
      "state": {
       "layout": "IPY_MODEL_772982f735e34ef5a07b26df4822a8e2",
       "style": "IPY_MODEL_64b1868e291d40d58207f4ac6ebf9be5",
       "value": "100%"
      }
     },
     "4dfd20c7858e45f7bfad1c8625db0915": {
      "model_module": "@jupyter-widgets/base",
      "model_module_version": "1.2.0",
      "model_name": "LayoutModel",
      "state": {}
     },
     "4f44ae2d9613444c96650058eb2d4415": {
      "model_module": "@jupyter-widgets/base",
      "model_module_version": "1.2.0",
      "model_name": "LayoutModel",
      "state": {}
     },
     "51b76e97e0e5406f8d1554a9322693b3": {
      "model_module": "@jupyter-widgets/controls",
      "model_module_version": "1.5.0",
      "model_name": "HTMLModel",
      "state": {
       "layout": "IPY_MODEL_d774ce98ff7547e9a9d0221f836e798e",
       "style": "IPY_MODEL_ed1563dadd7e4a28ac05c50cc69cc7d6",
       "value": " 2673/2673 [02:23&lt;00:00, 18.68it/s]"
      }
     },
     "522a7f29f76648ccb8529ccec2cde88a": {
      "model_module": "@jupyter-widgets/base",
      "model_module_version": "1.2.0",
      "model_name": "LayoutModel",
      "state": {}
     },
     "525a6889be8349c195a9fc0eaf35decb": {
      "model_module": "@jupyter-widgets/base",
      "model_module_version": "1.2.0",
      "model_name": "LayoutModel",
      "state": {}
     },
     "5282843830174fbd9d47fb2b45bb090b": {
      "model_module": "@jupyter-widgets/controls",
      "model_module_version": "1.5.0",
      "model_name": "HTMLModel",
      "state": {
       "layout": "IPY_MODEL_eefd250d25644ab58312c3da32430dd3",
       "style": "IPY_MODEL_8d059c7d66c74b49ac0744eb19430621",
       "value": " 2673/2673 [01:09&lt;00:00, 38.38it/s]"
      }
     },
     "53462b40c5a34778aee24a5d5d190726": {
      "model_module": "@jupyter-widgets/base",
      "model_module_version": "1.2.0",
      "model_name": "LayoutModel",
      "state": {}
     },
     "53605123cde5482fa4b7e633b1856ffd": {
      "model_module": "@jupyter-widgets/base",
      "model_module_version": "1.2.0",
      "model_name": "LayoutModel",
      "state": {}
     },
     "536cd6784aa849aa9f63c33c318a20f6": {
      "model_module": "@jupyter-widgets/controls",
      "model_module_version": "1.5.0",
      "model_name": "ProgressStyleModel",
      "state": {
       "description_width": ""
      }
     },
     "54283345218648189e76615e145c7c4e": {
      "model_module": "@jupyter-widgets/base",
      "model_module_version": "1.2.0",
      "model_name": "LayoutModel",
      "state": {}
     },
     "5726e1b703104b3ab53d19cbb77ae939": {
      "model_module": "@jupyter-widgets/base",
      "model_module_version": "1.2.0",
      "model_name": "LayoutModel",
      "state": {}
     },
     "58a6c8fddbc440efb1352aea97132f64": {
      "model_module": "@jupyter-widgets/controls",
      "model_module_version": "1.5.0",
      "model_name": "HBoxModel",
      "state": {
       "children": [
        "IPY_MODEL_7714c27c15d0440c90d1e0f69723084e",
        "IPY_MODEL_62b517c3de5e4140b055d13ed373d63d",
        "IPY_MODEL_431d914b2f3c41cd97d455aa3b2bef7e"
       ],
       "layout": "IPY_MODEL_afbef02a4594442499a35a5f28aebcd5"
      }
     },
     "597a8f86ccf64bf68758ac695986ed5b": {
      "model_module": "@jupyter-widgets/base",
      "model_module_version": "1.2.0",
      "model_name": "LayoutModel",
      "state": {}
     },
     "5b174c7719424b18a1a7ec209155dd97": {
      "model_module": "@jupyter-widgets/base",
      "model_module_version": "1.2.0",
      "model_name": "LayoutModel",
      "state": {}
     },
     "5b7b6cae95a84254bf80c3e90500fb55": {
      "model_module": "@jupyter-widgets/controls",
      "model_module_version": "1.5.0",
      "model_name": "DescriptionStyleModel",
      "state": {
       "description_width": ""
      }
     },
     "5c0889f8ae734f80a8fc09f3e5b96de7": {
      "model_module": "@jupyter-widgets/base",
      "model_module_version": "1.2.0",
      "model_name": "LayoutModel",
      "state": {}
     },
     "5d30e4f36ae84aa7b40eaa35f07fecb5": {
      "model_module": "@jupyter-widgets/base",
      "model_module_version": "1.2.0",
      "model_name": "LayoutModel",
      "state": {}
     },
     "5e56eaa5da6c4a9c930c3022932fdaf7": {
      "model_module": "@jupyter-widgets/controls",
      "model_module_version": "1.5.0",
      "model_name": "HBoxModel",
      "state": {
       "children": [
        "IPY_MODEL_cb973983ac564dbd95ed22dbfdde1ff6",
        "IPY_MODEL_6837a0e00ab84ddfa42250b48680bd83",
        "IPY_MODEL_0513a90e53d64cb4bd294978d29fc9bd"
       ],
       "layout": "IPY_MODEL_d5a9c5c583cb43819c985d324a57b4c3"
      }
     },
     "609ffb240f1d4be88bc51070337b894d": {
      "model_module": "@jupyter-widgets/controls",
      "model_module_version": "1.5.0",
      "model_name": "ProgressStyleModel",
      "state": {
       "description_width": ""
      }
     },
     "61c8cb1caa2b4ae294ecb32430bfbaf8": {
      "model_module": "@jupyter-widgets/controls",
      "model_module_version": "1.5.0",
      "model_name": "ProgressStyleModel",
      "state": {
       "description_width": ""
      }
     },
     "620069f7de35486bbd13a2e1e76d991d": {
      "model_module": "@jupyter-widgets/base",
      "model_module_version": "1.2.0",
      "model_name": "LayoutModel",
      "state": {}
     },
     "62b517c3de5e4140b055d13ed373d63d": {
      "model_module": "@jupyter-widgets/controls",
      "model_module_version": "1.5.0",
      "model_name": "FloatProgressModel",
      "state": {
       "bar_style": "success",
       "layout": "IPY_MODEL_6d16d835bf564b34b525edcb30217cbd",
       "max": 2673,
       "style": "IPY_MODEL_f1de31cfb32946f5af78998d882af15a",
       "value": 2673
      }
     },
     "62f44b6889ef4023b8fa16beabdb50f7": {
      "model_module": "@jupyter-widgets/controls",
      "model_module_version": "1.5.0",
      "model_name": "FloatProgressModel",
      "state": {
       "bar_style": "success",
       "layout": "IPY_MODEL_06be95aa72ea43eebe716778eec69f60",
       "max": 2673,
       "style": "IPY_MODEL_61c8cb1caa2b4ae294ecb32430bfbaf8",
       "value": 2673
      }
     },
     "633f82c74f094aa2b09b8c2bfde05838": {
      "model_module": "@jupyter-widgets/controls",
      "model_module_version": "1.5.0",
      "model_name": "ProgressStyleModel",
      "state": {
       "description_width": ""
      }
     },
     "64011761c4234395824a74ac1268e35f": {
      "model_module": "@jupyter-widgets/controls",
      "model_module_version": "1.5.0",
      "model_name": "FloatProgressModel",
      "state": {
       "bar_style": "success",
       "layout": "IPY_MODEL_752c659ab57441fa9aa155b0e0b191a5",
       "max": 2673,
       "style": "IPY_MODEL_609ffb240f1d4be88bc51070337b894d",
       "value": 2673
      }
     },
     "645ca301e26948889929e568f426dc59": {
      "model_module": "@jupyter-widgets/controls",
      "model_module_version": "1.5.0",
      "model_name": "DescriptionStyleModel",
      "state": {
       "description_width": ""
      }
     },
     "649ca70898c147bf848301ee0c5d14e2": {
      "model_module": "@jupyter-widgets/controls",
      "model_module_version": "1.5.0",
      "model_name": "DescriptionStyleModel",
      "state": {
       "description_width": ""
      }
     },
     "64b1868e291d40d58207f4ac6ebf9be5": {
      "model_module": "@jupyter-widgets/controls",
      "model_module_version": "1.5.0",
      "model_name": "DescriptionStyleModel",
      "state": {
       "description_width": ""
      }
     },
     "65c505715cd94384aa6573956301888d": {
      "model_module": "@jupyter-widgets/controls",
      "model_module_version": "1.5.0",
      "model_name": "DescriptionStyleModel",
      "state": {
       "description_width": ""
      }
     },
     "6656fbc2eaad4fd387d4c9278fec9d9f": {
      "model_module": "@jupyter-widgets/controls",
      "model_module_version": "1.5.0",
      "model_name": "DescriptionStyleModel",
      "state": {
       "description_width": ""
      }
     },
     "666550005c4746928dc41dba157512d6": {
      "model_module": "@jupyter-widgets/base",
      "model_module_version": "1.2.0",
      "model_name": "LayoutModel",
      "state": {}
     },
     "66ac054d10264f2ea54b35240ea5bdea": {
      "model_module": "@jupyter-widgets/base",
      "model_module_version": "1.2.0",
      "model_name": "LayoutModel",
      "state": {}
     },
     "66bdc219ae004f1c9b7613a86f5d2808": {
      "model_module": "@jupyter-widgets/controls",
      "model_module_version": "1.5.0",
      "model_name": "ProgressStyleModel",
      "state": {
       "description_width": ""
      }
     },
     "672dbcec9fd048509744be2174aec738": {
      "model_module": "@jupyter-widgets/controls",
      "model_module_version": "1.5.0",
      "model_name": "HTMLModel",
      "state": {
       "layout": "IPY_MODEL_2302fd033ad5463da62d0dce4cda8fa3",
       "style": "IPY_MODEL_6b1a19b5af7041eeba0f471b79ed17df",
       "value": " 3613/3613 [1:01:18&lt;00:00,  1.02s/it]"
      }
     },
     "6837a0e00ab84ddfa42250b48680bd83": {
      "model_module": "@jupyter-widgets/controls",
      "model_module_version": "1.5.0",
      "model_name": "FloatProgressModel",
      "state": {
       "bar_style": "success",
       "layout": "IPY_MODEL_e482ee51b74442ddae537911c3bd60a5",
       "max": 2673,
       "style": "IPY_MODEL_706d34d1367140909c26923077433852",
       "value": 2673
      }
     },
     "687562effd1943f3b5089e9d0fb8f48f": {
      "model_module": "@jupyter-widgets/controls",
      "model_module_version": "1.5.0",
      "model_name": "DescriptionStyleModel",
      "state": {
       "description_width": ""
      }
     },
     "69c54540825f4208943032dfc10bc18f": {
      "model_module": "@jupyter-widgets/controls",
      "model_module_version": "1.5.0",
      "model_name": "HTMLModel",
      "state": {
       "layout": "IPY_MODEL_a7ee23ee2aff49b197101ee3b42b3b3a",
       "style": "IPY_MODEL_83b13c3b08f44e63a17f73224e5d611b",
       "value": "100%"
      }
     },
     "6a57eec1d61643f39badfad672ebc016": {
      "model_module": "@jupyter-widgets/base",
      "model_module_version": "1.2.0",
      "model_name": "LayoutModel",
      "state": {}
     },
     "6b1a19b5af7041eeba0f471b79ed17df": {
      "model_module": "@jupyter-widgets/controls",
      "model_module_version": "1.5.0",
      "model_name": "DescriptionStyleModel",
      "state": {
       "description_width": ""
      }
     },
     "6bc0406a4ebe42d2928463a43d4e0bdb": {
      "model_module": "@jupyter-widgets/controls",
      "model_module_version": "1.5.0",
      "model_name": "ProgressStyleModel",
      "state": {
       "description_width": ""
      }
     },
     "6bfbda166b284522878e617de10824e2": {
      "model_module": "@jupyter-widgets/controls",
      "model_module_version": "1.5.0",
      "model_name": "HTMLModel",
      "state": {
       "layout": "IPY_MODEL_525a6889be8349c195a9fc0eaf35decb",
       "style": "IPY_MODEL_b6f2862db03144dcbeefd2bcd73242e0",
       "value": " 2673/2673 [00:34&lt;00:00, 78.60it/s]"
      }
     },
     "6cf60c5ed33b4623bc705aa5ed5d9701": {
      "model_module": "@jupyter-widgets/controls",
      "model_module_version": "1.5.0",
      "model_name": "DescriptionStyleModel",
      "state": {
       "description_width": ""
      }
     },
     "6d16d835bf564b34b525edcb30217cbd": {
      "model_module": "@jupyter-widgets/base",
      "model_module_version": "1.2.0",
      "model_name": "LayoutModel",
      "state": {}
     },
     "6dfa56f456944326a0d5095b7e53749c": {
      "model_module": "@jupyter-widgets/controls",
      "model_module_version": "1.5.0",
      "model_name": "HTMLModel",
      "state": {
       "layout": "IPY_MODEL_d1934ced34874d15927e31db7b291fc6",
       "style": "IPY_MODEL_f112fb33edb84748aedc0fd41cc28a92",
       "value": "100%"
      }
     },
     "6f006d4da82244418fc5899575353165": {
      "model_module": "@jupyter-widgets/base",
      "model_module_version": "1.2.0",
      "model_name": "LayoutModel",
      "state": {}
     },
     "6f88302a96ef41dcbceb2b51e5ac123e": {
      "model_module": "@jupyter-widgets/base",
      "model_module_version": "1.2.0",
      "model_name": "LayoutModel",
      "state": {}
     },
     "706d34d1367140909c26923077433852": {
      "model_module": "@jupyter-widgets/controls",
      "model_module_version": "1.5.0",
      "model_name": "ProgressStyleModel",
      "state": {
       "description_width": ""
      }
     },
     "71c2c3b9fe514c5da44ab7d654018bf6": {
      "model_module": "@jupyter-widgets/base",
      "model_module_version": "1.2.0",
      "model_name": "LayoutModel",
      "state": {}
     },
     "72959756c92544f0bd9a9dfda75d0fa2": {
      "model_module": "@jupyter-widgets/controls",
      "model_module_version": "1.5.0",
      "model_name": "HTMLModel",
      "state": {
       "layout": "IPY_MODEL_ab11779bb6da49aa8a4135dc1baa65df",
       "style": "IPY_MODEL_b085725c9ade419aae784eaac827f56a",
       "value": "100%"
      }
     },
     "729da9c9d0d24d9bad31944973e3dbef": {
      "model_module": "@jupyter-widgets/controls",
      "model_module_version": "1.5.0",
      "model_name": "DescriptionStyleModel",
      "state": {
       "description_width": ""
      }
     },
     "72b9d615a7454ea8917eed89b2acfae6": {
      "model_module": "@jupyter-widgets/base",
      "model_module_version": "1.2.0",
      "model_name": "LayoutModel",
      "state": {}
     },
     "74fd041b52ba4753baf0351ee9b964e3": {
      "model_module": "@jupyter-widgets/controls",
      "model_module_version": "1.5.0",
      "model_name": "ProgressStyleModel",
      "state": {
       "description_width": ""
      }
     },
     "752c659ab57441fa9aa155b0e0b191a5": {
      "model_module": "@jupyter-widgets/base",
      "model_module_version": "1.2.0",
      "model_name": "LayoutModel",
      "state": {}
     },
     "754b648302f049e8bd2d11ef10f180ac": {
      "model_module": "@jupyter-widgets/controls",
      "model_module_version": "1.5.0",
      "model_name": "HBoxModel",
      "state": {
       "children": [
        "IPY_MODEL_ca615f417e0048389e6dac0b12124dcc",
        "IPY_MODEL_86c262c9a0b94c86af6bd243aff8e784",
        "IPY_MODEL_e4bead3cdf8d4d0a8fc64394774fb364"
       ],
       "layout": "IPY_MODEL_c4f3c65da30c4de1827085e5541216e8"
      }
     },
     "75585afc05e74906aac9beaf079bf42a": {
      "model_module": "@jupyter-widgets/controls",
      "model_module_version": "1.5.0",
      "model_name": "HTMLModel",
      "state": {
       "layout": "IPY_MODEL_868761ba21b04b7a92d884064cc32a08",
       "style": "IPY_MODEL_141cbd793a614648a7ed52907a2860e6",
       "value": "100%"
      }
     },
     "756855e61468466f91d166b708e96226": {
      "model_module": "@jupyter-widgets/controls",
      "model_module_version": "1.5.0",
      "model_name": "DescriptionStyleModel",
      "state": {
       "description_width": ""
      }
     },
     "7605994f83ed4d3e8bd4cf2f42420a14": {
      "model_module": "@jupyter-widgets/controls",
      "model_module_version": "1.5.0",
      "model_name": "DescriptionStyleModel",
      "state": {
       "description_width": ""
      }
     },
     "76f9a8a320f84dba986142c7cced8197": {
      "model_module": "@jupyter-widgets/controls",
      "model_module_version": "1.5.0",
      "model_name": "FloatProgressModel",
      "state": {
       "bar_style": "success",
       "layout": "IPY_MODEL_fcc1a973fd9648fda8349926de5a52ec",
       "max": 2673,
       "style": "IPY_MODEL_d901c1add3a8442d8876b800866b383b",
       "value": 2673
      }
     },
     "7714c27c15d0440c90d1e0f69723084e": {
      "model_module": "@jupyter-widgets/controls",
      "model_module_version": "1.5.0",
      "model_name": "HTMLModel",
      "state": {
       "layout": "IPY_MODEL_eaa22dde37ed45a59aa594372a2e1dfd",
       "style": "IPY_MODEL_78dbd83458a347278c7d697ee729800f",
       "value": "100%"
      }
     },
     "772982f735e34ef5a07b26df4822a8e2": {
      "model_module": "@jupyter-widgets/base",
      "model_module_version": "1.2.0",
      "model_name": "LayoutModel",
      "state": {}
     },
     "78dbd83458a347278c7d697ee729800f": {
      "model_module": "@jupyter-widgets/controls",
      "model_module_version": "1.5.0",
      "model_name": "DescriptionStyleModel",
      "state": {
       "description_width": ""
      }
     },
     "7a1f132c019544639f25a7df3c589320": {
      "model_module": "@jupyter-widgets/base",
      "model_module_version": "1.2.0",
      "model_name": "LayoutModel",
      "state": {}
     },
     "7b2c9dae14b84e84aea0ee62e410630d": {
      "model_module": "@jupyter-widgets/controls",
      "model_module_version": "1.5.0",
      "model_name": "HTMLModel",
      "state": {
       "layout": "IPY_MODEL_5d30e4f36ae84aa7b40eaa35f07fecb5",
       "style": "IPY_MODEL_b5ba543bca41402e90dc9f4544909038",
       "value": " 1/2673 [01:19&lt;59:12:14, 79.77s/it]"
      }
     },
     "7b3ceb587c6f4b4bbfa55c17d4c412f0": {
      "model_module": "@jupyter-widgets/controls",
      "model_module_version": "1.5.0",
      "model_name": "DescriptionStyleModel",
      "state": {
       "description_width": ""
      }
     },
     "7bbc2a9d1079479cb2b94a31fc132117": {
      "model_module": "@jupyter-widgets/base",
      "model_module_version": "1.2.0",
      "model_name": "LayoutModel",
      "state": {}
     },
     "7dd61228496448b996c1ac9480ff527d": {
      "model_module": "@jupyter-widgets/controls",
      "model_module_version": "1.5.0",
      "model_name": "HBoxModel",
      "state": {
       "children": [
        "IPY_MODEL_f541cd00e94049638ffd22ff44644e36",
        "IPY_MODEL_8e5adc200a734eab9129f4039f3f1285",
        "IPY_MODEL_e34b8438ac5e4ae19b60939bcb3b0979"
       ],
       "layout": "IPY_MODEL_c57bc57fc53446e2899ea26314575358"
      }
     },
     "7dfee749048d49ce984f0682e6cf414f": {
      "model_module": "@jupyter-widgets/base",
      "model_module_version": "1.2.0",
      "model_name": "LayoutModel",
      "state": {}
     },
     "7e2645a61cb9418b9d02da743b9d2495": {
      "model_module": "@jupyter-widgets/controls",
      "model_module_version": "1.5.0",
      "model_name": "ProgressStyleModel",
      "state": {
       "description_width": ""
      }
     },
     "7e46e8deed76400daedc4c242b6ae40b": {
      "model_module": "@jupyter-widgets/controls",
      "model_module_version": "1.5.0",
      "model_name": "DescriptionStyleModel",
      "state": {
       "description_width": ""
      }
     },
     "7f1935abef204a128d819aea657f16d0": {
      "model_module": "@jupyter-widgets/controls",
      "model_module_version": "1.5.0",
      "model_name": "HBoxModel",
      "state": {
       "children": [
        "IPY_MODEL_6dfa56f456944326a0d5095b7e53749c",
        "IPY_MODEL_013c7f2380484c258da49b7e83362341",
        "IPY_MODEL_5282843830174fbd9d47fb2b45bb090b"
       ],
       "layout": "IPY_MODEL_892575aa664f4121a6de333dd57f2876"
      }
     },
     "7f5215bacaf04b6c91a3b4675098c222": {
      "model_module": "@jupyter-widgets/base",
      "model_module_version": "1.2.0",
      "model_name": "LayoutModel",
      "state": {}
     },
     "80733101ba9c49178b1b84bf37ca52e6": {
      "model_module": "@jupyter-widgets/controls",
      "model_module_version": "1.5.0",
      "model_name": "HBoxModel",
      "state": {
       "children": [
        "IPY_MODEL_b9bfbfa04fcc4c0e856813b7e401993f",
        "IPY_MODEL_ef374ea8505b448e98c9cfdd973d2ad8",
        "IPY_MODEL_f6c66113fa5f4fc9bd84e97ef2955319"
       ],
       "layout": "IPY_MODEL_f78f0ec5b13640b29aa8780ef500a3a6"
      }
     },
     "8154d0497c9245e49ab22f79a9a52919": {
      "model_module": "@jupyter-widgets/base",
      "model_module_version": "1.2.0",
      "model_name": "LayoutModel",
      "state": {}
     },
     "81efd3bf55cf45488e2808032e6e2d76": {
      "model_module": "@jupyter-widgets/base",
      "model_module_version": "1.2.0",
      "model_name": "LayoutModel",
      "state": {}
     },
     "823eb39ce30346cd8d7d03018ae4b83f": {
      "model_module": "@jupyter-widgets/controls",
      "model_module_version": "1.5.0",
      "model_name": "FloatProgressModel",
      "state": {
       "bar_style": "danger",
       "layout": "IPY_MODEL_9589394aed7d48aca1d9e9df8541440d",
       "max": 2673,
       "style": "IPY_MODEL_a499cbc2885f4246badde6e0588048e3"
      }
     },
     "835a027775ec47a79aad6d829dab487f": {
      "model_module": "@jupyter-widgets/controls",
      "model_module_version": "1.5.0",
      "model_name": "FloatProgressModel",
      "state": {
       "bar_style": "success",
       "layout": "IPY_MODEL_16d2ea236272495eb7bed16618fae225",
       "max": 2673,
       "style": "IPY_MODEL_9b2e6ada1e96482aac7f6357fcc394be",
       "value": 2673
      }
     },
     "83b13c3b08f44e63a17f73224e5d611b": {
      "model_module": "@jupyter-widgets/controls",
      "model_module_version": "1.5.0",
      "model_name": "DescriptionStyleModel",
      "state": {
       "description_width": ""
      }
     },
     "84741672f3ee4042966c1a71ddf4ab19": {
      "model_module": "@jupyter-widgets/controls",
      "model_module_version": "1.5.0",
      "model_name": "FloatProgressModel",
      "state": {
       "bar_style": "success",
       "layout": "IPY_MODEL_d74cafaac80d4c519cf5058d899b94f2",
       "max": 2673,
       "style": "IPY_MODEL_e5cd1ee866f9492082bc6cacbf8294b2",
       "value": 2673
      }
     },
     "84bc328779424e2cbad4e1389fb35ac2": {
      "model_module": "@jupyter-widgets/base",
      "model_module_version": "1.2.0",
      "model_name": "LayoutModel",
      "state": {}
     },
     "856f9fa23c204adea2329a75eff4e68d": {
      "model_module": "@jupyter-widgets/base",
      "model_module_version": "1.2.0",
      "model_name": "LayoutModel",
      "state": {}
     },
     "85eb7aef4c404b9e9e7e38e0ec858cae": {
      "model_module": "@jupyter-widgets/controls",
      "model_module_version": "1.5.0",
      "model_name": "HBoxModel",
      "state": {
       "children": [
        "IPY_MODEL_46424a9513fc4ec496c06dcb518b0ee4",
        "IPY_MODEL_cdd03a6f32b14058848b677e07a9b53b",
        "IPY_MODEL_7b2c9dae14b84e84aea0ee62e410630d"
       ],
       "layout": "IPY_MODEL_6f006d4da82244418fc5899575353165"
      }
     },
     "868761ba21b04b7a92d884064cc32a08": {
      "model_module": "@jupyter-widgets/base",
      "model_module_version": "1.2.0",
      "model_name": "LayoutModel",
      "state": {}
     },
     "86c262c9a0b94c86af6bd243aff8e784": {
      "model_module": "@jupyter-widgets/controls",
      "model_module_version": "1.5.0",
      "model_name": "FloatProgressModel",
      "state": {
       "bar_style": "success",
       "layout": "IPY_MODEL_e8fa05f2bf284f52933b91482f030b79",
       "max": 2673,
       "style": "IPY_MODEL_536cd6784aa849aa9f63c33c318a20f6",
       "value": 2673
      }
     },
     "86ebf20ce89041438d4ffad680570c0a": {
      "model_module": "@jupyter-widgets/controls",
      "model_module_version": "1.5.0",
      "model_name": "DescriptionStyleModel",
      "state": {
       "description_width": ""
      }
     },
     "8704174cd80c4ccaa7bc3462152ee2fb": {
      "model_module": "@jupyter-widgets/controls",
      "model_module_version": "1.5.0",
      "model_name": "HTMLModel",
      "state": {
       "layout": "IPY_MODEL_432cfff69cbf463f91c32c296da52ded",
       "style": "IPY_MODEL_6cf60c5ed33b4623bc705aa5ed5d9701",
       "value": "100%"
      }
     },
     "892575aa664f4121a6de333dd57f2876": {
      "model_module": "@jupyter-widgets/base",
      "model_module_version": "1.2.0",
      "model_name": "LayoutModel",
      "state": {}
     },
     "89fa6b81b914453a92ffee0475c65705": {
      "model_module": "@jupyter-widgets/controls",
      "model_module_version": "1.5.0",
      "model_name": "DescriptionStyleModel",
      "state": {
       "description_width": ""
      }
     },
     "8b7a90cca0d24951a4ab56ac24987635": {
      "model_module": "@jupyter-widgets/controls",
      "model_module_version": "1.5.0",
      "model_name": "ProgressStyleModel",
      "state": {
       "description_width": ""
      }
     },
     "8cee33a03a16488baa6c86328f28b7fa": {
      "model_module": "@jupyter-widgets/controls",
      "model_module_version": "1.5.0",
      "model_name": "DescriptionStyleModel",
      "state": {
       "description_width": ""
      }
     },
     "8d059c7d66c74b49ac0744eb19430621": {
      "model_module": "@jupyter-widgets/controls",
      "model_module_version": "1.5.0",
      "model_name": "DescriptionStyleModel",
      "state": {
       "description_width": ""
      }
     },
     "8e53dbc153204821ab33b66c687c55a7": {
      "model_module": "@jupyter-widgets/base",
      "model_module_version": "1.2.0",
      "model_name": "LayoutModel",
      "state": {}
     },
     "8e5adc200a734eab9129f4039f3f1285": {
      "model_module": "@jupyter-widgets/controls",
      "model_module_version": "1.5.0",
      "model_name": "FloatProgressModel",
      "state": {
       "bar_style": "success",
       "layout": "IPY_MODEL_1606d3ba40d84086b89848af79651c9b",
       "max": 2673,
       "style": "IPY_MODEL_468aec4f505a4e43bc09892426f3b580",
       "value": 2673
      }
     },
     "8ea4b0c218814dd3814dd42346f401b5": {
      "model_module": "@jupyter-widgets/controls",
      "model_module_version": "1.5.0",
      "model_name": "ProgressStyleModel",
      "state": {
       "description_width": ""
      }
     },
     "91f31eb35a55404aa04cf93e4931c4a6": {
      "model_module": "@jupyter-widgets/base",
      "model_module_version": "1.2.0",
      "model_name": "LayoutModel",
      "state": {}
     },
     "936498fe6198454f97df5f5044f5249c": {
      "model_module": "@jupyter-widgets/controls",
      "model_module_version": "1.5.0",
      "model_name": "FloatProgressModel",
      "state": {
       "bar_style": "success",
       "layout": "IPY_MODEL_4bdfa174f3b04ba3bd8719b048950242",
       "max": 2673,
       "style": "IPY_MODEL_66bdc219ae004f1c9b7613a86f5d2808",
       "value": 2673
      }
     },
     "9589394aed7d48aca1d9e9df8541440d": {
      "model_module": "@jupyter-widgets/base",
      "model_module_version": "1.2.0",
      "model_name": "LayoutModel",
      "state": {}
     },
     "95c85843006543c59404bef8ab2a4c89": {
      "model_module": "@jupyter-widgets/controls",
      "model_module_version": "1.5.0",
      "model_name": "DescriptionStyleModel",
      "state": {
       "description_width": ""
      }
     },
     "95d68e9665ab42688bf37dcfef3711f9": {
      "model_module": "@jupyter-widgets/controls",
      "model_module_version": "1.5.0",
      "model_name": "ProgressStyleModel",
      "state": {
       "description_width": ""
      }
     },
     "95f53286025541ea8b5c9c136828d199": {
      "model_module": "@jupyter-widgets/controls",
      "model_module_version": "1.5.0",
      "model_name": "FloatProgressModel",
      "state": {
       "bar_style": "success",
       "layout": "IPY_MODEL_2843942d38384e71ad32a383c27fba30",
       "max": 2673,
       "style": "IPY_MODEL_bfe17618edd244feb77e7b54558952c3",
       "value": 2673
      }
     },
     "971a6068958d43959f7b668b1191c2f7": {
      "model_module": "@jupyter-widgets/controls",
      "model_module_version": "1.5.0",
      "model_name": "DescriptionStyleModel",
      "state": {
       "description_width": ""
      }
     },
     "972af1dbfac048b8b187eeb323c663ea": {
      "model_module": "@jupyter-widgets/controls",
      "model_module_version": "1.5.0",
      "model_name": "HBoxModel",
      "state": {
       "children": [
        "IPY_MODEL_ac628bd6f4ec4145ab077ac265adc48c",
        "IPY_MODEL_b721c074c347485b989d943f059f0028",
        "IPY_MODEL_b31bf9c12c12405292c06c2092f12499"
       ],
       "layout": "IPY_MODEL_666550005c4746928dc41dba157512d6"
      }
     },
     "9811abe530b1497cbcb57e51fa6399a3": {
      "model_module": "@jupyter-widgets/controls",
      "model_module_version": "1.5.0",
      "model_name": "DescriptionStyleModel",
      "state": {
       "description_width": ""
      }
     },
     "988d876282c64f889fb2ed8a9efeacc4": {
      "model_module": "@jupyter-widgets/controls",
      "model_module_version": "1.5.0",
      "model_name": "DescriptionStyleModel",
      "state": {
       "description_width": ""
      }
     },
     "99164662daef4f879931a3b978f7d4d6": {
      "model_module": "@jupyter-widgets/controls",
      "model_module_version": "1.5.0",
      "model_name": "DescriptionStyleModel",
      "state": {
       "description_width": ""
      }
     },
     "993f2a95d1d44297b051964a738aa108": {
      "model_module": "@jupyter-widgets/base",
      "model_module_version": "1.2.0",
      "model_name": "LayoutModel",
      "state": {}
     },
     "9b2e6ada1e96482aac7f6357fcc394be": {
      "model_module": "@jupyter-widgets/controls",
      "model_module_version": "1.5.0",
      "model_name": "ProgressStyleModel",
      "state": {
       "description_width": ""
      }
     },
     "9c27eca2e37a4cc4a080f90c60e47ab0": {
      "model_module": "@jupyter-widgets/controls",
      "model_module_version": "1.5.0",
      "model_name": "DescriptionStyleModel",
      "state": {
       "description_width": ""
      }
     },
     "9c8b243292344537be37ccefbe01efb6": {
      "model_module": "@jupyter-widgets/controls",
      "model_module_version": "1.5.0",
      "model_name": "HTMLModel",
      "state": {
       "layout": "IPY_MODEL_37bde7feb9e14b9995e087f3aab42468",
       "style": "IPY_MODEL_9f24f5f263b841a58b6852eaf761ab0e",
       "value": "100%"
      }
     },
     "9d74d637fd6a4e49850e71b848346b95": {
      "model_module": "@jupyter-widgets/base",
      "model_module_version": "1.2.0",
      "model_name": "LayoutModel",
      "state": {}
     },
     "9dc95594682f4c71942bcca7f3f20a0f": {
      "model_module": "@jupyter-widgets/base",
      "model_module_version": "1.2.0",
      "model_name": "LayoutModel",
      "state": {}
     },
     "9f24f5f263b841a58b6852eaf761ab0e": {
      "model_module": "@jupyter-widgets/controls",
      "model_module_version": "1.5.0",
      "model_name": "DescriptionStyleModel",
      "state": {
       "description_width": ""
      }
     },
     "a05771914246437bb83d2a842cdec503": {
      "model_module": "@jupyter-widgets/base",
      "model_module_version": "1.2.0",
      "model_name": "LayoutModel",
      "state": {}
     },
     "a2a60fe1a89047d9a5d5105ec05a479f": {
      "model_module": "@jupyter-widgets/base",
      "model_module_version": "1.2.0",
      "model_name": "LayoutModel",
      "state": {}
     },
     "a499cbc2885f4246badde6e0588048e3": {
      "model_module": "@jupyter-widgets/controls",
      "model_module_version": "1.5.0",
      "model_name": "ProgressStyleModel",
      "state": {
       "description_width": ""
      }
     },
     "a548a23170564f3eb02a2dba6e969cf9": {
      "model_module": "@jupyter-widgets/controls",
      "model_module_version": "1.5.0",
      "model_name": "FloatProgressModel",
      "state": {
       "bar_style": "success",
       "layout": "IPY_MODEL_221040f3301e41688fcc8b2aa0f87112",
       "max": 2673,
       "style": "IPY_MODEL_42ce5840059848c783b9621faf2363f4",
       "value": 2673
      }
     },
     "a584a605d3ec423fbdff1411a59c3354": {
      "model_module": "@jupyter-widgets/controls",
      "model_module_version": "1.5.0",
      "model_name": "HTMLModel",
      "state": {
       "layout": "IPY_MODEL_597a8f86ccf64bf68758ac695986ed5b",
       "style": "IPY_MODEL_f743e52cfd5546138b444ed8327282d9",
       "value": "100%"
      }
     },
     "a7ee23ee2aff49b197101ee3b42b3b3a": {
      "model_module": "@jupyter-widgets/base",
      "model_module_version": "1.2.0",
      "model_name": "LayoutModel",
      "state": {}
     },
     "a84a1803de3e4c96b101377d3c57ffe9": {
      "model_module": "@jupyter-widgets/controls",
      "model_module_version": "1.5.0",
      "model_name": "DescriptionStyleModel",
      "state": {
       "description_width": ""
      }
     },
     "ab11779bb6da49aa8a4135dc1baa65df": {
      "model_module": "@jupyter-widgets/base",
      "model_module_version": "1.2.0",
      "model_name": "LayoutModel",
      "state": {}
     },
     "ac102a42353e4db8a11495d265109a7c": {
      "model_module": "@jupyter-widgets/controls",
      "model_module_version": "1.5.0",
      "model_name": "DescriptionStyleModel",
      "state": {
       "description_width": ""
      }
     },
     "ac628bd6f4ec4145ab077ac265adc48c": {
      "model_module": "@jupyter-widgets/controls",
      "model_module_version": "1.5.0",
      "model_name": "HTMLModel",
      "state": {
       "layout": "IPY_MODEL_38b09df9f5204db6ae10e771545a7af0",
       "style": "IPY_MODEL_5b7b6cae95a84254bf80c3e90500fb55",
       "value": "100%"
      }
     },
     "ae29e7b25cb5480f8f18a0b930551618": {
      "model_module": "@jupyter-widgets/controls",
      "model_module_version": "1.5.0",
      "model_name": "DescriptionStyleModel",
      "state": {
       "description_width": ""
      }
     },
     "ae4f2c6ca51540d882e5a504e22ae145": {
      "model_module": "@jupyter-widgets/controls",
      "model_module_version": "1.5.0",
      "model_name": "DescriptionStyleModel",
      "state": {
       "description_width": ""
      }
     },
     "af05061013354afba8e775a2fa49151d": {
      "model_module": "@jupyter-widgets/controls",
      "model_module_version": "1.5.0",
      "model_name": "HBoxModel",
      "state": {
       "children": [
        "IPY_MODEL_1519959aaf364ed9955bf453456e346a",
        "IPY_MODEL_76f9a8a320f84dba986142c7cced8197",
        "IPY_MODEL_cecc894cd64d4519a0748408377bb43d"
       ],
       "layout": "IPY_MODEL_53462b40c5a34778aee24a5d5d190726"
      }
     },
     "afbef02a4594442499a35a5f28aebcd5": {
      "model_module": "@jupyter-widgets/base",
      "model_module_version": "1.2.0",
      "model_name": "LayoutModel",
      "state": {}
     },
     "b085725c9ade419aae784eaac827f56a": {
      "model_module": "@jupyter-widgets/controls",
      "model_module_version": "1.5.0",
      "model_name": "DescriptionStyleModel",
      "state": {
       "description_width": ""
      }
     },
     "b31bf9c12c12405292c06c2092f12499": {
      "model_module": "@jupyter-widgets/controls",
      "model_module_version": "1.5.0",
      "model_name": "HTMLModel",
      "state": {
       "layout": "IPY_MODEL_0b8569422b084f9d96bdec6c9257b7e5",
       "style": "IPY_MODEL_86ebf20ce89041438d4ffad680570c0a",
       "value": " 2673/2673 [24:11&lt;00:00,  1.84it/s]"
      }
     },
     "b3f23951ef154d38a9c4f98b6f1fcf50": {
      "model_module": "@jupyter-widgets/controls",
      "model_module_version": "1.5.0",
      "model_name": "HBoxModel",
      "state": {
       "children": [
        "IPY_MODEL_49cc109d61dd44a28aaf3bfeb0ccc8f8",
        "IPY_MODEL_3eaa0f06195142aa95a792a6ac669d96",
        "IPY_MODEL_de0f046769da4f468ea52eb23589e531"
       ],
       "layout": "IPY_MODEL_bba41b9a99fc4972b0dc2e0df2457039"
      }
     },
     "b5ba543bca41402e90dc9f4544909038": {
      "model_module": "@jupyter-widgets/controls",
      "model_module_version": "1.5.0",
      "model_name": "DescriptionStyleModel",
      "state": {
       "description_width": ""
      }
     },
     "b6f2862db03144dcbeefd2bcd73242e0": {
      "model_module": "@jupyter-widgets/controls",
      "model_module_version": "1.5.0",
      "model_name": "DescriptionStyleModel",
      "state": {
       "description_width": ""
      }
     },
     "b721c074c347485b989d943f059f0028": {
      "model_module": "@jupyter-widgets/controls",
      "model_module_version": "1.5.0",
      "model_name": "FloatProgressModel",
      "state": {
       "bar_style": "success",
       "layout": "IPY_MODEL_4dfd20c7858e45f7bfad1c8625db0915",
       "max": 2673,
       "style": "IPY_MODEL_8b7a90cca0d24951a4ab56ac24987635",
       "value": 2673
      }
     },
     "b8ba94da73aa4a589634bd405625bfbd": {
      "model_module": "@jupyter-widgets/controls",
      "model_module_version": "1.5.0",
      "model_name": "DescriptionStyleModel",
      "state": {
       "description_width": ""
      }
     },
     "b9bfbfa04fcc4c0e856813b7e401993f": {
      "model_module": "@jupyter-widgets/controls",
      "model_module_version": "1.5.0",
      "model_name": "HTMLModel",
      "state": {
       "layout": "IPY_MODEL_6f88302a96ef41dcbceb2b51e5ac123e",
       "style": "IPY_MODEL_729da9c9d0d24d9bad31944973e3dbef",
       "value": "100%"
      }
     },
     "b9d470f49a5f4ecf8530611a7bf40376": {
      "model_module": "@jupyter-widgets/controls",
      "model_module_version": "1.5.0",
      "model_name": "HBoxModel",
      "state": {
       "children": [
        "IPY_MODEL_69c54540825f4208943032dfc10bc18f",
        "IPY_MODEL_95f53286025541ea8b5c9c136828d199",
        "IPY_MODEL_51b76e97e0e5406f8d1554a9322693b3"
       ],
       "layout": "IPY_MODEL_c3a32c247dc9470893544636fcb8e51f"
      }
     },
     "bba41b9a99fc4972b0dc2e0df2457039": {
      "model_module": "@jupyter-widgets/base",
      "model_module_version": "1.2.0",
      "model_name": "LayoutModel",
      "state": {}
     },
     "bbb481ef667944088f693c113ab54349": {
      "model_module": "@jupyter-widgets/controls",
      "model_module_version": "1.5.0",
      "model_name": "HTMLModel",
      "state": {
       "layout": "IPY_MODEL_ff5337499f7347c2b4178134168cfe23",
       "style": "IPY_MODEL_ac102a42353e4db8a11495d265109a7c",
       "value": " 2673/2673 [02:21&lt;00:00, 18.85it/s]"
      }
     },
     "bbd181196f1f46a0891eee82accb61f5": {
      "model_module": "@jupyter-widgets/controls",
      "model_module_version": "1.5.0",
      "model_name": "HTMLModel",
      "state": {
       "layout": "IPY_MODEL_7a1f132c019544639f25a7df3c589320",
       "style": "IPY_MODEL_971a6068958d43959f7b668b1191c2f7",
       "value": " 2673/2673 [03:06&lt;00:00, 14.31it/s]"
      }
     },
     "bcbee4d99cdc420fbbe3a5275f742831": {
      "model_module": "@jupyter-widgets/controls",
      "model_module_version": "1.5.0",
      "model_name": "DescriptionStyleModel",
      "state": {
       "description_width": ""
      }
     },
     "bd229e9e5848467998b83102f4b2f362": {
      "model_module": "@jupyter-widgets/controls",
      "model_module_version": "1.5.0",
      "model_name": "DescriptionStyleModel",
      "state": {
       "description_width": ""
      }
     },
     "bfd01f634a9641b19c31f09ca1966c3d": {
      "model_module": "@jupyter-widgets/base",
      "model_module_version": "1.2.0",
      "model_name": "LayoutModel",
      "state": {}
     },
     "bfe17618edd244feb77e7b54558952c3": {
      "model_module": "@jupyter-widgets/controls",
      "model_module_version": "1.5.0",
      "model_name": "ProgressStyleModel",
      "state": {
       "description_width": ""
      }
     },
     "c0996937dc5749c2b70ad915bf40ef7f": {
      "model_module": "@jupyter-widgets/controls",
      "model_module_version": "1.5.0",
      "model_name": "HTMLModel",
      "state": {
       "layout": "IPY_MODEL_38e46456191942abacbdc42cf499e904",
       "style": "IPY_MODEL_bd229e9e5848467998b83102f4b2f362",
       "value": "100%"
      }
     },
     "c3a32c247dc9470893544636fcb8e51f": {
      "model_module": "@jupyter-widgets/base",
      "model_module_version": "1.2.0",
      "model_name": "LayoutModel",
      "state": {}
     },
     "c4f3c65da30c4de1827085e5541216e8": {
      "model_module": "@jupyter-widgets/base",
      "model_module_version": "1.2.0",
      "model_name": "LayoutModel",
      "state": {}
     },
     "c5003b023ca34c26a1f00e4e12f32282": {
      "model_module": "@jupyter-widgets/controls",
      "model_module_version": "1.5.0",
      "model_name": "HTMLModel",
      "state": {
       "layout": "IPY_MODEL_379ff04d598b4ed3a8cdafa47a1cecf4",
       "style": "IPY_MODEL_649ca70898c147bf848301ee0c5d14e2",
       "value": "100%"
      }
     },
     "c528d065202f47a585129f221405cfdf": {
      "model_module": "@jupyter-widgets/base",
      "model_module_version": "1.2.0",
      "model_name": "LayoutModel",
      "state": {}
     },
     "c57bc57fc53446e2899ea26314575358": {
      "model_module": "@jupyter-widgets/base",
      "model_module_version": "1.2.0",
      "model_name": "LayoutModel",
      "state": {}
     },
     "c5dfb99da17b40f180df50ace364e29a": {
      "model_module": "@jupyter-widgets/base",
      "model_module_version": "1.2.0",
      "model_name": "LayoutModel",
      "state": {}
     },
     "c91f6b4cb5af40bcb56ea1baed291847": {
      "model_module": "@jupyter-widgets/controls",
      "model_module_version": "1.5.0",
      "model_name": "HTMLModel",
      "state": {
       "layout": "IPY_MODEL_5726e1b703104b3ab53d19cbb77ae939",
       "style": "IPY_MODEL_9811abe530b1497cbcb57e51fa6399a3",
       "value": " 2673/2673 [00:12&lt;00:00, 207.20it/s]"
      }
     },
     "c9fd274fb5e24c598a966c5e718a1ca5": {
      "model_module": "@jupyter-widgets/controls",
      "model_module_version": "1.5.0",
      "model_name": "FloatProgressModel",
      "state": {
       "bar_style": "success",
       "layout": "IPY_MODEL_23efcf0f89fe42eeab7748af5b97601a",
       "max": 2673,
       "style": "IPY_MODEL_8ea4b0c218814dd3814dd42346f401b5",
       "value": 2673
      }
     },
     "ca615f417e0048389e6dac0b12124dcc": {
      "model_module": "@jupyter-widgets/controls",
      "model_module_version": "1.5.0",
      "model_name": "HTMLModel",
      "state": {
       "layout": "IPY_MODEL_522a7f29f76648ccb8529ccec2cde88a",
       "style": "IPY_MODEL_b8ba94da73aa4a589634bd405625bfbd",
       "value": "100%"
      }
     },
     "cb973983ac564dbd95ed22dbfdde1ff6": {
      "model_module": "@jupyter-widgets/controls",
      "model_module_version": "1.5.0",
      "model_name": "HTMLModel",
      "state": {
       "layout": "IPY_MODEL_cc63a554d5f94652959dcb7b5f114f1d",
       "style": "IPY_MODEL_6656fbc2eaad4fd387d4c9278fec9d9f",
       "value": "100%"
      }
     },
     "cbf7d80e602c44dcb25664bf1e991cc3": {
      "model_module": "@jupyter-widgets/controls",
      "model_module_version": "1.5.0",
      "model_name": "DescriptionStyleModel",
      "state": {
       "description_width": ""
      }
     },
     "cc63a554d5f94652959dcb7b5f114f1d": {
      "model_module": "@jupyter-widgets/base",
      "model_module_version": "1.2.0",
      "model_name": "LayoutModel",
      "state": {}
     },
     "cdd03a6f32b14058848b677e07a9b53b": {
      "model_module": "@jupyter-widgets/controls",
      "model_module_version": "1.5.0",
      "model_name": "FloatProgressModel",
      "state": {
       "bar_style": "danger",
       "layout": "IPY_MODEL_91f31eb35a55404aa04cf93e4931c4a6",
       "max": 2673,
       "style": "IPY_MODEL_f0b1ffb4b2c94e979cbff95e15cd156a",
       "value": 1
      }
     },
     "cdd5bda212f243598276657b04d3ef0f": {
      "model_module": "@jupyter-widgets/controls",
      "model_module_version": "1.5.0",
      "model_name": "FloatProgressModel",
      "state": {
       "bar_style": "success",
       "layout": "IPY_MODEL_1ee7dd97547c4cf496fa811ea9d852df",
       "max": 2673,
       "style": "IPY_MODEL_019dba1f896b488ebf4a1874707a28c4",
       "value": 2673
      }
     },
     "cecc894cd64d4519a0748408377bb43d": {
      "model_module": "@jupyter-widgets/controls",
      "model_module_version": "1.5.0",
      "model_name": "HTMLModel",
      "state": {
       "layout": "IPY_MODEL_7dfee749048d49ce984f0682e6cf414f",
       "style": "IPY_MODEL_9c27eca2e37a4cc4a080f90c60e47ab0",
       "value": " 2673/2673 [00:19&lt;00:00, 135.23it/s]"
      }
     },
     "d1934ced34874d15927e31db7b291fc6": {
      "model_module": "@jupyter-widgets/base",
      "model_module_version": "1.2.0",
      "model_name": "LayoutModel",
      "state": {}
     },
     "d1e84dee5f884034932b2871732954da": {
      "model_module": "@jupyter-widgets/controls",
      "model_module_version": "1.5.0",
      "model_name": "HBoxModel",
      "state": {
       "children": [
        "IPY_MODEL_c0996937dc5749c2b70ad915bf40ef7f",
        "IPY_MODEL_1c6b40be86304ea4b93b2e3bd38c956c",
        "IPY_MODEL_304a8211b96547d5bbe68bec21e037fc"
       ],
       "layout": "IPY_MODEL_856f9fa23c204adea2329a75eff4e68d"
      }
     },
     "d5042613edaa48c3ae13c3d1da2e3be2": {
      "model_module": "@jupyter-widgets/controls",
      "model_module_version": "1.5.0",
      "model_name": "HTMLModel",
      "state": {
       "layout": "IPY_MODEL_23da22d6954f408cba06e951a1afec05",
       "style": "IPY_MODEL_99164662daef4f879931a3b978f7d4d6",
       "value": " 2673/2673 [03:21&lt;00:00, 13.23it/s]"
      }
     },
     "d5a9c5c583cb43819c985d324a57b4c3": {
      "model_module": "@jupyter-widgets/base",
      "model_module_version": "1.2.0",
      "model_name": "LayoutModel",
      "state": {}
     },
     "d5e77657d9234853869174a103b3bb0a": {
      "model_module": "@jupyter-widgets/controls",
      "model_module_version": "1.5.0",
      "model_name": "HTMLModel",
      "state": {
       "layout": "IPY_MODEL_da3fcfa17ea042359a9066019913e7dd",
       "style": "IPY_MODEL_2c2ded4c8345404ea2adfc49119620e7",
       "value": "100%"
      }
     },
     "d74cafaac80d4c519cf5058d899b94f2": {
      "model_module": "@jupyter-widgets/base",
      "model_module_version": "1.2.0",
      "model_name": "LayoutModel",
      "state": {}
     },
     "d774ce98ff7547e9a9d0221f836e798e": {
      "model_module": "@jupyter-widgets/base",
      "model_module_version": "1.2.0",
      "model_name": "LayoutModel",
      "state": {}
     },
     "d7dc369eed2847349099354e9f2d3c88": {
      "model_module": "@jupyter-widgets/controls",
      "model_module_version": "1.5.0",
      "model_name": "HBoxModel",
      "state": {
       "children": [
        "IPY_MODEL_a584a605d3ec423fbdff1411a59c3354",
        "IPY_MODEL_ea61c07abcd049a2b5af5aaf51c1758e",
        "IPY_MODEL_3dc9d46c35684d1c8e4311e5007d8a45"
       ],
       "layout": "IPY_MODEL_bfd01f634a9641b19c31f09ca1966c3d"
      }
     },
     "d822b552b7fa43cdbf16e77ebefee3f4": {
      "model_module": "@jupyter-widgets/controls",
      "model_module_version": "1.5.0",
      "model_name": "DescriptionStyleModel",
      "state": {
       "description_width": ""
      }
     },
     "d901c1add3a8442d8876b800866b383b": {
      "model_module": "@jupyter-widgets/controls",
      "model_module_version": "1.5.0",
      "model_name": "ProgressStyleModel",
      "state": {
       "description_width": ""
      }
     },
     "da3fcfa17ea042359a9066019913e7dd": {
      "model_module": "@jupyter-widgets/base",
      "model_module_version": "1.2.0",
      "model_name": "LayoutModel",
      "state": {}
     },
     "db684d2e08d64cfd9487ee24e4659b51": {
      "model_module": "@jupyter-widgets/controls",
      "model_module_version": "1.5.0",
      "model_name": "HBoxModel",
      "state": {
       "children": [
        "IPY_MODEL_48c3eeeb832f471ba69815f6a9e92b54",
        "IPY_MODEL_e6966d377dd447e4927bd5571bde17db",
        "IPY_MODEL_bbd181196f1f46a0891eee82accb61f5"
       ],
       "layout": "IPY_MODEL_9dc95594682f4c71942bcca7f3f20a0f"
      }
     },
     "de0f046769da4f468ea52eb23589e531": {
      "model_module": "@jupyter-widgets/controls",
      "model_module_version": "1.5.0",
      "model_name": "HTMLModel",
      "state": {
       "layout": "IPY_MODEL_42adc1249c5348439f1b20dc00b0a1b4",
       "style": "IPY_MODEL_687562effd1943f3b5089e9d0fb8f48f",
       "value": " 2673/2673 [01:45&lt;00:00, 25.37it/s]"
      }
     },
     "e2370216ddcb4bf99fb2884b836117a1": {
      "model_module": "@jupyter-widgets/controls",
      "model_module_version": "1.5.0",
      "model_name": "DescriptionStyleModel",
      "state": {
       "description_width": ""
      }
     },
     "e2c73ca969af465b873eb24ca71e55db": {
      "model_module": "@jupyter-widgets/controls",
      "model_module_version": "1.5.0",
      "model_name": "HBoxModel",
      "state": {
       "children": [
        "IPY_MODEL_110ffc4926a440c2ab10e2326a7a137e",
        "IPY_MODEL_64011761c4234395824a74ac1268e35f",
        "IPY_MODEL_bbb481ef667944088f693c113ab54349"
       ],
       "layout": "IPY_MODEL_7f5215bacaf04b6c91a3b4675098c222"
      }
     },
     "e34b8438ac5e4ae19b60939bcb3b0979": {
      "model_module": "@jupyter-widgets/controls",
      "model_module_version": "1.5.0",
      "model_name": "HTMLModel",
      "state": {
       "layout": "IPY_MODEL_2752956d08984a41832a058476b88497",
       "style": "IPY_MODEL_1876a9052b864d96a3136587860bc523",
       "value": " 2673/2673 [01:33&lt;00:00, 28.69it/s]"
      }
     },
     "e482ee51b74442ddae537911c3bd60a5": {
      "model_module": "@jupyter-widgets/base",
      "model_module_version": "1.2.0",
      "model_name": "LayoutModel",
      "state": {}
     },
     "e4bead3cdf8d4d0a8fc64394774fb364": {
      "model_module": "@jupyter-widgets/controls",
      "model_module_version": "1.5.0",
      "model_name": "HTMLModel",
      "state": {
       "layout": "IPY_MODEL_c5dfb99da17b40f180df50ace364e29a",
       "style": "IPY_MODEL_7b3ceb587c6f4b4bbfa55c17d4c412f0",
       "value": " 2673/2673 [01:04&lt;00:00, 41.23it/s]"
      }
     },
     "e4e9a8ae243c4905989ecb2522c03551": {
      "model_module": "@jupyter-widgets/controls",
      "model_module_version": "1.5.0",
      "model_name": "DescriptionStyleModel",
      "state": {
       "description_width": ""
      }
     },
     "e5cd1ee866f9492082bc6cacbf8294b2": {
      "model_module": "@jupyter-widgets/controls",
      "model_module_version": "1.5.0",
      "model_name": "ProgressStyleModel",
      "state": {
       "description_width": ""
      }
     },
     "e60af4db47d24e9ea13c3718e1c95146": {
      "model_module": "@jupyter-widgets/controls",
      "model_module_version": "1.5.0",
      "model_name": "HTMLModel",
      "state": {
       "layout": "IPY_MODEL_348f4d9e839043f3a785d24832b47f0d",
       "style": "IPY_MODEL_ae4f2c6ca51540d882e5a504e22ae145",
       "value": " 2673/2673 [00:14&lt;00:00, 190.23it/s]"
      }
     },
     "e6966d377dd447e4927bd5571bde17db": {
      "model_module": "@jupyter-widgets/controls",
      "model_module_version": "1.5.0",
      "model_name": "FloatProgressModel",
      "state": {
       "bar_style": "success",
       "layout": "IPY_MODEL_485eef598eba47b4b0cb0a61e6cffdc5",
       "max": 2673,
       "style": "IPY_MODEL_2af6ad7e91464c52b0903a928b9b0cc9",
       "value": 2673
      }
     },
     "e84749b953b04ddcb299608bb5b67d6a": {
      "model_module": "@jupyter-widgets/controls",
      "model_module_version": "1.5.0",
      "model_name": "HBoxModel",
      "state": {
       "children": [
        "IPY_MODEL_4d50a6fa48074b2b8b54a1b4ee021259",
        "IPY_MODEL_835a027775ec47a79aad6d829dab487f",
        "IPY_MODEL_6bfbda166b284522878e617de10824e2"
       ],
       "layout": "IPY_MODEL_66ac054d10264f2ea54b35240ea5bdea"
      }
     },
     "e8fa05f2bf284f52933b91482f030b79": {
      "model_module": "@jupyter-widgets/base",
      "model_module_version": "1.2.0",
      "model_name": "LayoutModel",
      "state": {}
     },
     "e916cb772a934a9a9d2577567c968ebc": {
      "model_module": "@jupyter-widgets/controls",
      "model_module_version": "1.5.0",
      "model_name": "HTMLModel",
      "state": {
       "layout": "IPY_MODEL_23e190d0fba14d71a990885b9f525b80",
       "style": "IPY_MODEL_31e03d0a608546c98f956b07579aa038",
       "value": " 2673/2673 [02:44&lt;00:00, 16.25it/s]"
      }
     },
     "ea61c07abcd049a2b5af5aaf51c1758e": {
      "model_module": "@jupyter-widgets/controls",
      "model_module_version": "1.5.0",
      "model_name": "FloatProgressModel",
      "state": {
       "bar_style": "success",
       "layout": "IPY_MODEL_242ac1e547c443aebbe9c7811380c04b",
       "max": 2673,
       "style": "IPY_MODEL_043dc421904b427382c9a262abf7c236",
       "value": 2673
      }
     },
     "ea6e3a5ca0324647a66b6d3cf26af161": {
      "model_module": "@jupyter-widgets/controls",
      "model_module_version": "1.5.0",
      "model_name": "HTMLModel",
      "state": {
       "layout": "IPY_MODEL_ff5c0ed0866c4df68bc25248ff41e0c0",
       "style": "IPY_MODEL_d822b552b7fa43cdbf16e77ebefee3f4",
       "value": " 2673/2673 [31:16:20&lt;00:00, 42.12s/it]"
      }
     },
     "ea7b370be8dc45d78b34530deb0d6218": {
      "model_module": "@jupyter-widgets/base",
      "model_module_version": "1.2.0",
      "model_name": "LayoutModel",
      "state": {}
     },
     "eaa22dde37ed45a59aa594372a2e1dfd": {
      "model_module": "@jupyter-widgets/base",
      "model_module_version": "1.2.0",
      "model_name": "LayoutModel",
      "state": {}
     },
     "eba255bf62e54d45b77d46868744cf80": {
      "model_module": "@jupyter-widgets/controls",
      "model_module_version": "1.5.0",
      "model_name": "HBoxModel",
      "state": {
       "children": [
        "IPY_MODEL_2b39535f528c4694ac09ac70f81cf924",
        "IPY_MODEL_823eb39ce30346cd8d7d03018ae4b83f",
        "IPY_MODEL_230e525c2df642b29a429a7694e69132"
       ],
       "layout": "IPY_MODEL_f6b41909bef84de0b60c730bdd613263"
      }
     },
     "ec9b9c742e54479ab96f5cab162a5d28": {
      "model_module": "@jupyter-widgets/controls",
      "model_module_version": "1.5.0",
      "model_name": "HTMLModel",
      "state": {
       "layout": "IPY_MODEL_ff7d043a6f9a4955991149e6ff172ce0",
       "style": "IPY_MODEL_1bd895ab00eb4c35a3489661cf7e0f54",
       "value": " 2673/2673 [00:54&lt;00:00, 49.43it/s]"
      }
     },
     "ed1563dadd7e4a28ac05c50cc69cc7d6": {
      "model_module": "@jupyter-widgets/controls",
      "model_module_version": "1.5.0",
      "model_name": "DescriptionStyleModel",
      "state": {
       "description_width": ""
      }
     },
     "ed8eba0f498d44a68b37a0ed1fbfc228": {
      "model_module": "@jupyter-widgets/controls",
      "model_module_version": "1.5.0",
      "model_name": "FloatProgressModel",
      "state": {
       "bar_style": "danger",
       "layout": "IPY_MODEL_3303a2bb5fd24181a636748672ed0e0d",
       "max": 2673,
       "style": "IPY_MODEL_74fd041b52ba4753baf0351ee9b964e3"
      }
     },
     "ed9a51fbe4f54209af503e7fafcadac0": {
      "model_module": "@jupyter-widgets/controls",
      "model_module_version": "1.5.0",
      "model_name": "DescriptionStyleModel",
      "state": {
       "description_width": ""
      }
     },
     "eed13ba86cf548df8c70b3ef3f9e99a6": {
      "model_module": "@jupyter-widgets/base",
      "model_module_version": "1.2.0",
      "model_name": "LayoutModel",
      "state": {}
     },
     "eefd250d25644ab58312c3da32430dd3": {
      "model_module": "@jupyter-widgets/base",
      "model_module_version": "1.2.0",
      "model_name": "LayoutModel",
      "state": {}
     },
     "ef374ea8505b448e98c9cfdd973d2ad8": {
      "model_module": "@jupyter-widgets/controls",
      "model_module_version": "1.5.0",
      "model_name": "FloatProgressModel",
      "state": {
       "bar_style": "success",
       "layout": "IPY_MODEL_04f7b44c11744e83855c01a089a7daeb",
       "max": 2673,
       "style": "IPY_MODEL_2a1a497102af41068dd77708b6dafba8",
       "value": 2673
      }
     },
     "f038284988834155a25485f3a77783ac": {
      "model_module": "@jupyter-widgets/base",
      "model_module_version": "1.2.0",
      "model_name": "LayoutModel",
      "state": {}
     },
     "f0b1ffb4b2c94e979cbff95e15cd156a": {
      "model_module": "@jupyter-widgets/controls",
      "model_module_version": "1.5.0",
      "model_name": "ProgressStyleModel",
      "state": {
       "description_width": ""
      }
     },
     "f112fb33edb84748aedc0fd41cc28a92": {
      "model_module": "@jupyter-widgets/controls",
      "model_module_version": "1.5.0",
      "model_name": "DescriptionStyleModel",
      "state": {
       "description_width": ""
      }
     },
     "f1de31cfb32946f5af78998d882af15a": {
      "model_module": "@jupyter-widgets/controls",
      "model_module_version": "1.5.0",
      "model_name": "ProgressStyleModel",
      "state": {
       "description_width": ""
      }
     },
     "f2ff019d959b4592bc149ce0c2f910b1": {
      "model_module": "@jupyter-widgets/controls",
      "model_module_version": "1.5.0",
      "model_name": "HTMLModel",
      "state": {
       "layout": "IPY_MODEL_7bbc2a9d1079479cb2b94a31fc132117",
       "style": "IPY_MODEL_645ca301e26948889929e568f426dc59",
       "value": "100%"
      }
     },
     "f34e636b11df4c5f9d730b1449987e4b": {
      "model_module": "@jupyter-widgets/controls",
      "model_module_version": "1.5.0",
      "model_name": "DescriptionStyleModel",
      "state": {
       "description_width": ""
      }
     },
     "f3b837ea00bc40598e44efab8860a534": {
      "model_module": "@jupyter-widgets/controls",
      "model_module_version": "1.5.0",
      "model_name": "FloatProgressModel",
      "state": {
       "bar_style": "success",
       "layout": "IPY_MODEL_1e13951656174eee9586db6c5838dc24",
       "max": 2673,
       "style": "IPY_MODEL_95d68e9665ab42688bf37dcfef3711f9",
       "value": 2673
      }
     },
     "f4bb42899d3947f88ef3d0920886e116": {
      "model_module": "@jupyter-widgets/controls",
      "model_module_version": "1.5.0",
      "model_name": "HBoxModel",
      "state": {
       "children": [
        "IPY_MODEL_f2ff019d959b4592bc149ce0c2f910b1",
        "IPY_MODEL_c9fd274fb5e24c598a966c5e718a1ca5",
        "IPY_MODEL_e916cb772a934a9a9d2577567c968ebc"
       ],
       "layout": "IPY_MODEL_eed13ba86cf548df8c70b3ef3f9e99a6"
      }
     },
     "f541cd00e94049638ffd22ff44644e36": {
      "model_module": "@jupyter-widgets/controls",
      "model_module_version": "1.5.0",
      "model_name": "HTMLModel",
      "state": {
       "layout": "IPY_MODEL_c528d065202f47a585129f221405cfdf",
       "style": "IPY_MODEL_4108f8f3cd52488685ef52fcf1e3fc21",
       "value": "100%"
      }
     },
     "f641d40e777c4d838d8a01d2bed2e273": {
      "model_module": "@jupyter-widgets/base",
      "model_module_version": "1.2.0",
      "model_name": "LayoutModel",
      "state": {}
     },
     "f6b41909bef84de0b60c730bdd613263": {
      "model_module": "@jupyter-widgets/base",
      "model_module_version": "1.2.0",
      "model_name": "LayoutModel",
      "state": {}
     },
     "f6c66113fa5f4fc9bd84e97ef2955319": {
      "model_module": "@jupyter-widgets/controls",
      "model_module_version": "1.5.0",
      "model_name": "HTMLModel",
      "state": {
       "layout": "IPY_MODEL_84bc328779424e2cbad4e1389fb35ac2",
       "style": "IPY_MODEL_a84a1803de3e4c96b101377d3c57ffe9",
       "value": " 2673/2673 [00:14&lt;00:00, 189.63it/s]"
      }
     },
     "f743e52cfd5546138b444ed8327282d9": {
      "model_module": "@jupyter-widgets/controls",
      "model_module_version": "1.5.0",
      "model_name": "DescriptionStyleModel",
      "state": {
       "description_width": ""
      }
     },
     "f78f0ec5b13640b29aa8780ef500a3a6": {
      "model_module": "@jupyter-widgets/base",
      "model_module_version": "1.2.0",
      "model_name": "LayoutModel",
      "state": {}
     },
     "f96bfe2848124ca4a3c582c77d147985": {
      "model_module": "@jupyter-widgets/controls",
      "model_module_version": "1.5.0",
      "model_name": "HTMLModel",
      "state": {
       "layout": "IPY_MODEL_54283345218648189e76615e145c7c4e",
       "style": "IPY_MODEL_95c85843006543c59404bef8ab2a4c89",
       "value": " 0/2673 [00:12&lt;?, ?it/s]"
      }
     },
     "fa2863454fe14c2ab49d870d1b0067da": {
      "model_module": "@jupyter-widgets/controls",
      "model_module_version": "1.5.0",
      "model_name": "HTMLModel",
      "state": {
       "layout": "IPY_MODEL_72b9d615a7454ea8917eed89b2acfae6",
       "style": "IPY_MODEL_371d1d135d75405e8882be55883a7152",
       "value": "100%"
      }
     },
     "fbfc1bc8ad674e4e8d53c8a40ba2de45": {
      "model_module": "@jupyter-widgets/controls",
      "model_module_version": "1.5.0",
      "model_name": "ProgressStyleModel",
      "state": {
       "description_width": ""
      }
     },
     "fca211b546b546c2b3f4e29c307d710d": {
      "model_module": "@jupyter-widgets/controls",
      "model_module_version": "1.5.0",
      "model_name": "HBoxModel",
      "state": {
       "children": [
        "IPY_MODEL_466b94992c9b44f5951ea08749aae706",
        "IPY_MODEL_ed8eba0f498d44a68b37a0ed1fbfc228",
        "IPY_MODEL_f96bfe2848124ca4a3c582c77d147985"
       ],
       "layout": "IPY_MODEL_02b34fe74d994dbba4284592de0fbbf4"
      }
     },
     "fcc1a973fd9648fda8349926de5a52ec": {
      "model_module": "@jupyter-widgets/base",
      "model_module_version": "1.2.0",
      "model_name": "LayoutModel",
      "state": {}
     },
     "fd81b17393894025b8a3fa8b6b3b3629": {
      "model_module": "@jupyter-widgets/controls",
      "model_module_version": "1.5.0",
      "model_name": "HBoxModel",
      "state": {
       "children": [
        "IPY_MODEL_fa2863454fe14c2ab49d870d1b0067da",
        "IPY_MODEL_0014feda49954706850fa658e0b02993",
        "IPY_MODEL_d5042613edaa48c3ae13c3d1da2e3be2"
       ],
       "layout": "IPY_MODEL_204903081bec4d6380b818ed0a05543d"
      }
     },
     "ff5337499f7347c2b4178134168cfe23": {
      "model_module": "@jupyter-widgets/base",
      "model_module_version": "1.2.0",
      "model_name": "LayoutModel",
      "state": {}
     },
     "ff5c0ed0866c4df68bc25248ff41e0c0": {
      "model_module": "@jupyter-widgets/base",
      "model_module_version": "1.2.0",
      "model_name": "LayoutModel",
      "state": {}
     },
     "ff7d043a6f9a4955991149e6ff172ce0": {
      "model_module": "@jupyter-widgets/base",
      "model_module_version": "1.2.0",
      "model_name": "LayoutModel",
      "state": {}
     }
    },
    "version_major": 2,
    "version_minor": 0
   }
  }
 },
 "nbformat": 4,
 "nbformat_minor": 4
}
